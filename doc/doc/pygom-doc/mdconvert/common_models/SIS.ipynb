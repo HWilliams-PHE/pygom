{
 "cells": [
  {
   "cell_type": "markdown",
   "metadata": {},
   "source": [
    "# `.SIS`\n",
    "\n",
    "A standard SIS model without the total population $N$. We assume here\n",
    "that $S + I = N$ so we can always normalize to 1. Evidently, the state\n",
    "$S$ is not required for understanding the model because it is a\n",
    "deterministic function of state $I$.\n",
    "\n",
    "$$\\begin{aligned}\n",
    "\\frac{dS}{dt} &=  -\\beta S I + \\gamma I \\\\\n",
    "\\frac{dI}{dt} &= \\beta S I - \\gamma I.\n",
    "\\end{aligned}$$\n",
    "\n",
    "An example would be\n",
    "\n",
    "In \\[1\\]: from pygom import common_models\n",
    "\n",
    "In \\[1\\]: import matplotlib.pyplot as plt\n",
    "\n",
    "In \\[1\\]: import numpy\n",
    "\n",
    "In \\[1\\]: ode = common_models.SIS({'beta':0.5,'gamma':0.2})\n",
    "\n",
    "In \\[1\\]: t = numpy.linspace(0, 20, 101)\n",
    "\n",
    "In \\[1\\]: x0 = \\[1.0, 0.1\\]\n",
    "\n",
    "In \\[1\\]: ode.initial_values = (x0, t\\[0\\])\n",
    "\n",
    "In \\[1\\]: solution = ode.integrate(t\\[1::\\])\n",
    "\n",
    "@savefig common_models_sis.png In \\[1\\]: ode.plot()\n",
    "\n",
    "In \\[1\\]: plt.close()"
   ]
  }
 ],
 "nbformat": 4,
 "nbformat_minor": 5,
 "metadata": {}
}
