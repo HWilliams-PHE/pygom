{
 "cells": [
  {
   "cell_type": "markdown",
   "metadata": {},
   "source": [
    "# `.Lorenz`\n",
    "\n",
    "The Lorenz attractor [\\[Lorenz1963\\]]() defined by the equations\n",
    "\n",
    "$$\\begin{aligned}\n",
    "\\frac{dx}{dt} &= \\sigma (y-x) \\\\\n",
    "\\frac{dy}{dt} &= x (\\rho - z) - y \\\\\n",
    "\\frac{dz}{dt} &= xy - \\beta z\n",
    "\\end{aligned}$$\n",
    "\n",
    "A classic example is\n",
    "\n",
    "In \\[1\\]: from pygom import common_models\n",
    "\n",
    "In \\[1\\]: import numpy\n",
    "\n",
    "In \\[1\\]: import matplotlib.pyplot as plt\n",
    "\n",
    "In \\[1\\]: t = numpy.linspace(0, 100, 20000)\n",
    "\n",
    "In \\[1\\]: ode = common_models.Lorenz({'beta':8.0/3.0, 'sigma':10.0,\n",
    "'rho':28.0})\n",
    "\n",
    "In \\[1\\]: ode.initial_values = (\\[1., 1., 1.\\], t\\[0\\])\n",
    "\n",
    "In \\[1\\]: solution = ode.integrate(t\\[1::\\])\n",
    "\n",
    "In \\[1\\]: f = plt.figure()\n",
    "\n",
    "In \\[1\\]: plt.plot(solution\\[:,0\\], solution\\[:,2\\]);\n",
    "\n",
    "@savefig common_models_Lorenz.png In \\[1\\]: plt.show()"
   ]
  }
 ],
 "nbformat": 4,
 "nbformat_minor": 5,
 "metadata": {}
}
