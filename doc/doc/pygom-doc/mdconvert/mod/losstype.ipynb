{
 "cells": [
  {
   "cell_type": "markdown",
   "metadata": {},
   "source": [
    "# confidence_interval\n",
    "\n",
    "pygom.loss.confidence_interval"
   ]
  }
 ],
 "nbformat": 4,
 "nbformat_minor": 5,
 "metadata": {}
}
