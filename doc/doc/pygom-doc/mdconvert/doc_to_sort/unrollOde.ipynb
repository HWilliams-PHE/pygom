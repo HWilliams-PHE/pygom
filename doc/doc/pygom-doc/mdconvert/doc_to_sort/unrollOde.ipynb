{
 "cells": [
  {
   "cell_type": "markdown",
   "metadata": {},
   "source": [
    "# Convert ODE into transitions\n",
    "\n",
    "As seen previously in `transition`, we can define the model via the\n",
    "transitions or explicitly as ODEs. There are times when we all just want\n",
    "to test out some model in a paper and the only available information are\n",
    "the ODEs themselves. Even though we know that the ODEs come from some\n",
    "underlying transitions, breaking them down can be a time consuming\n",
    "process. We provide the functionalities to do this automatically.\n",
    "\n",
    "unroll/unrollSimple.rst unroll/unrollBD.rst unroll/unrollHard.rst"
   ]
  }
 ],
 "nbformat": 4,
 "nbformat_minor": 5,
 "metadata": {}
}
