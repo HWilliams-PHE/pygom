{
 "cells": [
  {
   "cell_type": "markdown",
   "metadata": {},
   "source": [
    "# Motivating Example: SIR Model\n",
    "{download}`this notebook <./sir.ipynb>`\n",
    "\n",
    "## Defining the model\n",
    "\n",
    "First, we are going to go through an SIR model to show the functionality\n",
    "of the package. The SIR model is defined by the following equations\n",
    "\n",
    "$$\\begin{aligned}\n",
    "\\frac{dS}{dt} &= -\\beta SI \\\\\n",
    "\\frac{dI}{dt} &= \\beta SI- \\gamma I \\\\\n",
    "\\frac{dR}{dt} &= \\gamma I.\n",
    "\\end{aligned}$$\n",
    "\n",
    "We can set this up as follows:"
   ]
  },
  {
   "cell_type": "markdown",
   "id": "586834ab",
   "metadata": {},
   "source": [
    "1. import the classes required to define the transitions"
   ]
  },
  {
   "cell_type": "code",
   "execution_count": 62,
   "id": "4c80a36a",
   "metadata": {},
   "outputs": [],
   "source": [
    "from pygom import Transition, TransitionType"
   ]
  },
  {
   "cell_type": "markdown",
   "id": "0ec4c9d0",
   "metadata": {},
   "source": [
    "2. define our states, in this case the population states of **S**usceptible, **I**nfected and **R**emoved"
   ]
  },
  {
   "cell_type": "code",
   "execution_count": 63,
   "id": "3ce016f2",
   "metadata": {},
   "outputs": [],
   "source": [
    "stateList = ['S', 'I', 'R']"
   ]
  },
  {
   "cell_type": "markdown",
   "id": "021a1927",
   "metadata": {},
   "source": [
    "3. define the set of parameters for our model, here there are only two"
   ]
  },
  {
   "cell_type": "code",
   "execution_count": 64,
   "id": "441e2287",
   "metadata": {},
   "outputs": [],
   "source": [
    "paramList = ['beta', 'gamma']"
   ]
  },
  {
   "cell_type": "markdown",
   "id": "dfd736b2",
   "metadata": {},
   "source": [
    "4. specify the transitions of the modelled states; this will form our ODE system"
   ]
  },
  {
   "cell_type": "code",
   "execution_count": 65,
   "id": "b5f80ab0",
   "metadata": {},
   "outputs": [],
   "source": [
    "odeList = [\n",
    "    Transition(origin='S', equation='-beta*S*I', transition_type=TransitionType.ODE),\n",
    "    Transition(origin='I',equation='beta*S*I - gamma*I', transition_type=TransitionType.ODE),\n",
    "    Transition(origin='R', equation='gamma*I', transition_type=TransitionType.ODE) \n",
    "    ]"
   ]
  },
  {
   "cell_type": "markdown",
   "id": "21629e7b",
   "metadata": {},
   "source": [
    "```{note}\n",
    "Here, we have invoked a class from `Transition` to define the ODE object. We proceed here and ignore the details for now. The details of defining a transition object will be covered later in {doc}`transition`. Both the set of states and parameters should be defined when constructing the object, even though not explicitly enforced, to help clarify what we are trying to model. Similarly, this holds for the rest, such as the derived parameters and transitions, where we force the end user to input the different type of transition/process via the correct argument. See {ref}`transition:defining-the-equations` for an example when the input is wrong.\n",
    "```"
   ]
  },
  {
   "cell_type": "markdown",
   "id": "69bfb7c3",
   "metadata": {},
   "source": [
    "\n",
    "5. import the ode module"
   ]
  },
  {
   "cell_type": "code",
   "execution_count": 66,
   "id": "f78c33d4",
   "metadata": {},
   "outputs": [],
   "source": [
    "from pygom import DeterministicOde"
   ]
  },
  {
   "cell_type": "markdown",
   "id": "477d6f84",
   "metadata": {},
   "source": [
    "6. initialize the model, which constructs our ODE system from all the information we have provided"
   ]
  },
  {
   "cell_type": "code",
   "execution_count": 67,
   "id": "c9fbcce0",
   "metadata": {},
   "outputs": [],
   "source": [
    "model = DeterministicOde(stateList, paramList, ode=odeList)"
   ]
  },
  {
   "cell_type": "markdown",
   "id": "4bf43064",
   "metadata": {},
   "source": [
    "That is all the information required to define a simple SIR model. We can verify the model using"
   ]
  },
  {
   "cell_type": "code",
   "execution_count": 68,
   "id": "6ad54e09",
   "metadata": {},
   "outputs": [
    {
     "data": {
      "text/latex": [
       "$\\displaystyle \\left[\\begin{matrix}- I S \\beta\\\\I S \\beta - I \\gamma\\\\I \\gamma\\end{matrix}\\right]$"
      ],
      "text/plain": [
       "Matrix([\n",
       "[         -I*S*beta],\n",
       "[I*S*beta - I*gamma],\n",
       "[           I*gamma]])"
      ]
     },
     "execution_count": 68,
     "metadata": {},
     "output_type": "execute_result"
    }
   ],
   "source": [
    "model.get_ode_eqn()"
   ]
  },
  {
   "cell_type": "markdown",
   "id": "143a6871",
   "metadata": {},
   "source": [
    "where we can see the equations corresponding to their respective $S,I$ and $R$ state. "
   ]
  },
  {
   "cell_type": "markdown",
   "id": "08207474",
   "metadata": {},
   "source": [
    "```{note}\n",
    "The ordering of the equations is in the standard $S,I,R$ sequence because of how we defined the states initially. \n",
    "```"
   ]
  },
  {
   "cell_type": "markdown",
   "id": "7054e58a",
   "metadata": {},
   "source": [
    "We can rearrange the state list,"
   ]
  },
  {
   "cell_type": "code",
   "execution_count": 69,
   "id": "07f81fd1",
   "metadata": {},
   "outputs": [
    {
     "data": {
      "text/latex": [
       "$\\displaystyle \\left[\\begin{matrix}I \\gamma\\\\- I S \\beta\\\\I S \\beta - I \\gamma\\end{matrix}\\right]$"
      ],
      "text/plain": [
       "Matrix([\n",
       "[           I*gamma],\n",
       "[         -I*S*beta],\n",
       "[I*S*beta - I*gamma]])"
      ]
     },
     "execution_count": 69,
     "metadata": {},
     "output_type": "execute_result"
    }
   ],
   "source": [
    "# now we are going to define in a different order. note that the output ode changed with the input state\n",
    "stateList = ['R', 'S', 'I']\n",
    "\n",
    "model = DeterministicOde(stateList, paramList, ode=odeList)\n",
    "\n",
    "model.get_ode_eqn()\n"
   ]
  },
  {
   "cell_type": "markdown",
   "id": "d3f587d4",
   "metadata": {},
   "source": [
    "and find that the set of ODEs comes out in the order that we specified. "
   ]
  },
  {
   "cell_type": "markdown",
   "id": "1175c832",
   "metadata": {},
   "source": [
    "```{tip}\n",
    "In addition to showing the equation form of the ODEs, we can also display them as either symbols or latex code, which can save some extra typing when porting the equations to another document.\n",
    "```"
   ]
  },
  {
   "cell_type": "code",
   "execution_count": 70,
   "id": "960fdc0c",
   "metadata": {},
   "outputs": [
    {
     "name": "stdout",
     "output_type": "stream",
     "text": [
      "⎡dR/dt=      I⋅γ    ⎤\n",
      "⎢                   ⎥\n",
      "⎢dS/dt=    -I⋅S⋅β   ⎥\n",
      "⎢                   ⎥\n",
      "⎣dI/dt=  I⋅S⋅β - I⋅γ⎦\n"
     ]
    }
   ],
   "source": [
    "model.print_ode()"
   ]
  },
  {
   "cell_type": "code",
   "execution_count": 71,
   "id": "93e32c75",
   "metadata": {},
   "outputs": [
    {
     "name": "stdout",
     "output_type": "stream",
     "text": [
      "\\begin{array}{cc}dR/dt= & I \\gamma\\\\dS/dt= & - I S \\beta\\\\dI/dt= & I S \\beta - I \\gamma\\end{array}\n"
     ]
    }
   ],
   "source": [
    "model.print_ode(True)"
   ]
  },
  {
   "cell_type": "markdown",
   "id": "79c154ba",
   "metadata": {},
   "source": [
    "#TODO links to unroll\n",
    "Here the SIR model was provided to PyGOM as a set ODEs by using the `Transition` to define them.  \n",
    "We have also provided the capability to obtain a *best guess* transition matrix when only the ODEs are available. See the section `unrollOde` for more information, and in particular `unrollSimple` for the continuing demonstration of the SIR model."
   ]
  },
  {
   "cell_type": "markdown",
   "id": "51ed6fa2",
   "metadata": {},
   "source": [
    "## Extracting model information\n",
    "\n",
    "We may wish to determine if the set of ODEs are linear. "
   ]
  },
  {
   "cell_type": "code",
   "execution_count": 72,
   "id": "61684654",
   "metadata": {},
   "outputs": [
    {
     "data": {
      "text/plain": [
       "False"
      ]
     },
     "execution_count": 72,
     "metadata": {},
     "output_type": "execute_result"
    }
   ],
   "source": [
    "model.linear_ode()"
   ]
  },
  {
   "cell_type": "markdown",
   "id": "4cf58543",
   "metadata": {},
   "source": [
    "Since we know that the SIR model is not linear, we may want to have a look at the Jacobian.\n"
   ]
  },
  {
   "cell_type": "code",
   "execution_count": 73,
   "id": "1c8ff090",
   "metadata": {},
   "outputs": [
    {
     "data": {
      "text/latex": [
       "$\\displaystyle \\left[\\begin{matrix}0 & 0 & \\gamma\\\\0 & - I \\beta & - S \\beta\\\\0 & I \\beta & S \\beta - \\gamma\\end{matrix}\\right]$"
      ],
      "text/plain": [
       "Matrix([\n",
       "[0,       0,          gamma],\n",
       "[0, -I*beta,        -S*beta],\n",
       "[0,  I*beta, S*beta - gamma]])"
      ]
     },
     "execution_count": 73,
     "metadata": {},
     "output_type": "execute_result"
    }
   ],
   "source": [
    "model.get_jacobian_eqn()"
   ]
  },
  {
   "cell_type": "markdown",
   "id": "bab79c98",
   "metadata": {},
   "source": [
    "Or maybe we want to know the gradient."
   ]
  },
  {
   "cell_type": "code",
   "execution_count": 74,
   "id": "abb02502",
   "metadata": {},
   "outputs": [
    {
     "data": {
      "text/latex": [
       "$\\displaystyle \\left[\\begin{matrix}0 & I\\\\- I S & 0\\\\I S & - I\\end{matrix}\\right]$"
      ],
      "text/plain": [
       "Matrix([\n",
       "[   0,  I],\n",
       "[-I*S,  0],\n",
       "[ I*S, -I]])"
      ]
     },
     "execution_count": 74,
     "metadata": {},
     "output_type": "execute_result"
    }
   ],
   "source": [
    "model.get_grad_eqn()"
   ]
  },
  {
   "cell_type": "markdown",
   "id": "9d0052ec",
   "metadata": {},
   "source": [
    "```{Warning}\n",
    "Invoking the functions that compute the derivatives, $f(x)$, `model.ode()` or `model.jacobian()`, will return an error\n",
    "\n",
    "These functions are used to solve the ODEs numerically, and require values of initial state values, time, and parameter values.\n",
    "```"
   ]
  },
  {
   "cell_type": "markdown",
   "id": "35abe902",
   "metadata": {},
   "source": [
    "For setting initial conditions, the numeric values of the states **must** be set in the same order that list of states appear. We can use the following to check the state ordering, as well as displaying all of the states that we have included."
   ]
  },
  {
   "cell_type": "code",
   "execution_count": 75,
   "id": "e703c888",
   "metadata": {},
   "outputs": [
    {
     "data": {
      "text/plain": [
       "[ODEVariable('R', 'R', None, True),\n",
       " ODEVariable('S', 'S', None, True),\n",
       " ODEVariable('I', 'I', None, True)]"
      ]
     },
     "execution_count": 75,
     "metadata": {},
     "output_type": "execute_result"
    }
   ],
   "source": [
    "model.state_list"
   ]
  },
  {
   "cell_type": "markdown",
   "id": "54e681d0",
   "metadata": {},
   "source": [
    "#TODO unsure if this is needed\n",
    "There is currently no mechanism to set the numeric initial conditions the states when the states are defined. This is because of an implementation issue with external package, such as solving an initial value problem."
   ]
  },
  {
   "cell_type": "markdown",
   "id": "13bed7f9",
   "metadata": {},
   "source": [
    "## Initial value problem\n",
    "\n",
    "By setting the state initial conditions, time, and parameters, we can evaluate our model."
   ]
  },
  {
   "cell_type": "markdown",
   "id": "04fb8dd9",
   "metadata": {},
   "source": [
    "1. Define the model parameters. (We can call the parameters to check what we must provide.)"
   ]
  },
  {
   "cell_type": "code",
   "execution_count": 76,
   "id": "46042ebf",
   "metadata": {},
   "outputs": [],
   "source": [
    "model.parameters"
   ]
  },
  {
   "cell_type": "code",
   "execution_count": 77,
   "id": "9ec016b5",
   "metadata": {},
   "outputs": [
    {
     "data": {
      "text/plain": [
       "{beta: 0.5, gamma: 0.3333333333333333}"
      ]
     },
     "execution_count": 77,
     "metadata": {},
     "output_type": "execute_result"
    }
   ],
   "source": [
    "paramEval = [('beta',0.5), ('gamma',1.0/3.0)]\n",
    "\n",
    "model.parameters = paramEval\n",
    "\n",
    "model.parameters"
   ]
  },
  {
   "cell_type": "markdown",
   "id": "efcdac90",
   "metadata": {},
   "source": [
    "2. Provide initial conditions for the states."
   ]
  },
  {
   "cell_type": "code",
   "execution_count": 78,
   "id": "c43074c6",
   "metadata": {},
   "outputs": [
    {
     "data": {
      "text/plain": [
       "array([ 4.23333333e-07, -6.35000000e-07,  2.11666667e-07])"
      ]
     },
     "execution_count": 78,
     "metadata": {},
     "output_type": "execute_result"
    }
   ],
   "source": [
    "initialState = [0, 1, 1.27e-6]\n",
    "    \n",
    "model.ode(state=initialState, t=1)"
   ]
  },
  {
   "cell_type": "markdown",
   "id": "a8dc4681",
   "metadata": {},
   "source": [
    "\n",
    "3. Implement an ODE solver.\n",
    "\n",
    "We are well equipped to solve an initial value problem, using the standard numerical integrator such as `odeint <scipy.integrate.odeint>` from `scipy.integrate`. We also used `matplotlib.pyplot` for plotting and `linspace <numpy.linspace>` to create the time vector."
   ]
  },
  {
   "cell_type": "code",
   "execution_count": 79,
   "id": "a14b9901",
   "metadata": {},
   "outputs": [],
   "source": [
    "import scipy.integrate\n",
    "import numpy\n",
    "\n",
    "t = numpy.linspace(0, 150, 100)\n",
    "\n",
    "solution = scipy.integrate.odeint(model.ode, initialState, t)"
   ]
  },
  {
   "cell_type": "markdown",
   "id": "c4feebae",
   "metadata": {},
   "source": [
    "We can plot our solution to observe a standard SIR shape."
   ]
  },
  {
   "cell_type": "code",
   "execution_count": 80,
   "id": "8303885c",
   "metadata": {},
   "outputs": [
    {
     "data": {
      "image/png": "[encoded data removed]",
      "text/plain": [
       "<Figure size 640x480 with 1 Axes>"
      ]
     },
     "metadata": {},
     "output_type": "display_data"
    }
   ],
   "source": [
    "import matplotlib.pyplot as plt\n",
    "\n",
    "plt.figure()\n",
    "\n",
    "plt.plot(t, solution[:,0], label='R')\n",
    "\n",
    "plt.plot(t, solution[:,1], label='S')\n",
    "\n",
    "plt.plot(t, solution[:,2], label='I')\n",
    "\n",
    "plt.xlabel('Time')\n",
    "\n",
    "plt.ylabel('Population proportion')\n",
    "\n",
    "plt.title('Standard SIR model')\n",
    "\n",
    "plt.legend(loc=0)\n",
    "\n",
    "#@savefig sir_plot.png In \n",
    "\n",
    "plt.show()\n",
    "\n",
    "#plt.close()\n"
   ]
  },
  {
   "cell_type": "markdown",
   "id": "ba849579",
   "metadata": {},
   "source": [
    "Alternatively, we can integrate and plot via the **ode** object which we initialized earlier."
   ]
  },
  {
   "cell_type": "code",
   "execution_count": 81,
   "id": "efddd3a5",
   "metadata": {},
   "outputs": [
    {
     "data": {
      "image/png": "[encoded data removed]",
      "text/plain": [
       "<Figure size 640x480 with 3 Axes>"
      ]
     },
     "metadata": {},
     "output_type": "display_data"
    }
   ],
   "source": [
    "model.initial_values = (initialState, t[0])\n",
    "\n",
    "model.parameters = paramEval\n",
    "\n",
    "solution = model.integrate(t[1::])\n",
    "\n",
    "model.plot()"
   ]
  },
  {
   "cell_type": "markdown",
   "id": "4dd6e250",
   "metadata": {},
   "source": [
    "We could solve the ODEs above using the Jacobian as well. Unfortunately, it does not help because the number of times the Jacobian was evaluated was zero, as expected given that our set of equations are not stiff."
   ]
  },
  {
   "cell_type": "code",
   "execution_count": 82,
   "id": "7a7a568f",
   "metadata": {},
   "outputs": [
    {
     "name": "stdout",
     "output_type": "stream",
     "text": [
      "2.58 ms ± 396 µs per loop (mean ± std. dev. of 7 runs, 100 loops each)\n"
     ]
    }
   ],
   "source": [
    "#TODO what does this show?\n",
    "%timeit solution1, output1 = scipy.integrate.odeint(model.ode, initialState, t, full_output=True)\n"
   ]
  },
  {
   "cell_type": "code",
   "execution_count": 83,
   "id": "91b7f9d4",
   "metadata": {},
   "outputs": [
    {
     "name": "stdout",
     "output_type": "stream",
     "text": [
      "2.84 ms ± 227 µs per loop (mean ± std. dev. of 7 runs, 100 loops each)\n"
     ]
    }
   ],
   "source": [
    "\n",
    "%timeit solution2, output2 = scipy.integrate.odeint(model.ode, initialState, t, Dfun=model.jacobian, mu=None, ml=None, full_output=True)\n"
   ]
  },
  {
   "cell_type": "code",
   "execution_count": 84,
   "id": "3403884c",
   "metadata": {},
   "outputs": [
    {
     "name": "stdout",
     "output_type": "stream",
     "text": [
      "2.68 ms ± 161 µs per loop (mean ± std. dev. of 7 runs, 100 loops each)\n"
     ]
    }
   ],
   "source": [
    "\n",
    "%timeit solution3, output3 = model.integrate(t, full_output=True)"
   ]
  },
  {
   "cell_type": "markdown",
   "id": "b6b9ee47",
   "metadata": {},
   "source": [
    "It is important to note that we return our Jacobian as a dense square matrix. Hence, the two argument (mu,ml) for the ODE solver was set to `None` to let it know the output explicitly."
   ]
  },
  {
   "cell_type": "markdown",
   "id": "5ca18fa3",
   "metadata": {},
   "source": [
    "## Solving the forward sensitivity equation\n",
    "\n",
    "The sensitivity equations are also solved as an initial value problem. Let us redefine the model in the standard SIR order and we solve it with the sensitivity all set at zero, i.e. we do not wish to infer the initial value of the states."
   ]
  },
  {
   "cell_type": "code",
   "execution_count": 85,
   "id": "87173626",
   "metadata": {},
   "outputs": [],
   "source": [
    "stateList = ['S', 'I', 'R']\n",
    "\n",
    "model = DeterministicOde(stateList, paramList, ode=odeList)\n",
    "\n",
    "initialState = [1, 1.27e-6, 0]\n",
    "\n",
    "paramEval = [('beta', 0.5), ('gamma', 1.0/3.0)]\n",
    "\n",
    "model.parameters = paramEval\n",
    "\n",
    "solution = scipy.integrate.odeint(model.ode_and_sensitivity, numpy.append(initialState, numpy.zeros(6)), t)"
   ]
  },
  {
   "cell_type": "code",
   "execution_count": 87,
   "id": "8b63ba62",
   "metadata": {
    "tags": [
     "hide-input"
    ]
   },
   "outputs": [
    {
     "data": {
      "image/png": "[encoded data removed]",
      "text/plain": [
       "<Figure size 640x480 with 9 Axes>"
      ]
     },
     "metadata": {},
     "output_type": "display_data"
    }
   ],
   "source": [
    "{\n",
    "    \"tags\": [\n",
    "        \"hide-input\",\n",
    "    ]\n",
    "}\n",
    "f,axarr = plt.subplots(3,3);\n",
    "\n",
    "f.text(0.5,0.975,'SIR with forward sensitivity solved via ode',fontsize=16,horizontalalignment='center',verticalalignment='top')\n",
    "\n",
    "axarr[0,0].plot(t, solution[:,0])\n",
    "\n",
    "axarr[0,0].set_title('S')\n",
    "\n",
    "axarr[0,1].plot(t, solution[:,1])\n",
    "\n",
    "axarr[0,1].set_title('I')\n",
    "\n",
    "axarr[0,2].plot(t, solution[:,2]);\n",
    "\n",
    "axarr[0,2].set_title('R')\n",
    "\n",
    "axarr[1,0].plot(t, solution[:,3])\n",
    "\n",
    "axarr[1,0].set_title(r'state S parameter $beta$')\n",
    "\n",
    "axarr[2,0].plot(t, solution[:,4])\n",
    "\n",
    "axarr[2,0].set_title(r'state S parameter $gamma$')\n",
    "\n",
    "axarr[1,1].plot(t, solution[:,5])\n",
    "\n",
    "axarr[1,1].set_title(r'state I parameter $beta$')\n",
    "\n",
    "axarr[2,1].plot(t, solution[:,6])\n",
    "\n",
    "axarr[2,1].set_title(r'state I parameter $gamma$')\n",
    "\n",
    "axarr[1,2].plot(t, solution[:,7])\n",
    "\n",
    "axarr[1,2].set_title(r'state R parameter $beta$')\n",
    "\n",
    "axarr[2,2].plot(t, solution[:,8])\n",
    "\n",
    "axarr[2,2].set_title(r'state R parameter $gamma$')\n",
    "\n",
    "plt.tight_layout()\n",
    "\n",
    "plt.show()"
   ]
  },
  {
   "cell_type": "markdown",
   "id": "2f64d869",
   "metadata": {},
   "source": [
    "#TODO links\n",
    "This concludes the introductory example and we will be moving on to look at parameter estimation next in {doc}`estimate1` and the most important part in terms of setting up the ODE object; defining the equations in various different ways in {doc}`transition`."
   ]
  }
 ],
 "metadata": {
  "kernelspec": {
   "display_name": "Python 3.9.15 ('sphinx-doc')",
   "language": "python",
   "name": "python3"
  },
  "language_info": {
   "codemirror_mode": {
    "name": "ipython",
    "version": 3
   },
   "file_extension": ".py",
   "mimetype": "text/x-python",
   "name": "python",
   "nbconvert_exporter": "python",
   "pygments_lexer": "ipython3",
   "version": "3.9.15"
  },
  "vscode": {
   "interpreter": {
    "hash": "4dc1e323c80fe09539c74ad5c5a7c7d8d9ff99e04f7b3dbd3680daf878629d6e"
   }
  }
 },
 "nbformat": 4,
 "nbformat_minor": 5
}
