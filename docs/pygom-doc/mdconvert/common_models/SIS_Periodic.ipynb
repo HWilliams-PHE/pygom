{
 "cells": [
  {
   "cell_type": "markdown",
   "metadata": {},
   "source": [
    "# `.SIS_Periodic`\n",
    "\n",
    "Now we look at an extension of the SIS model by incorporating periodic\n",
    "contact rate. Note how our equation is defined by a single ode for state\n",
    "**I**.\n",
    "\n",
    "$$\\frac{dI}{dt} = (\\beta(t)N - \\alpha) I - \\beta(t)I^{2}$$\n",
    "\n",
    "where $\\beta(t) = 2 - 1.8 \\cos(5t)$. As the name suggests, it achieves a\n",
    "(stable) periodic solution. Note how the plots have two sub-graphs,\n",
    "where $\\tau$ is in fact our time component which we have taken out of\n",
    "the original equation when converting it to a automonous system.\n",
    "\n",
    "In \\[1\\]: from pygom import common_models\n",
    "\n",
    "In \\[1\\]: import matplotlib.pyplot as plt\n",
    "\n",
    "In \\[1\\]: import numpy\n",
    "\n",
    "In \\[1\\]: ode = common_models.SIS_Periodic({'alpha':1.0})\n",
    "\n",
    "In \\[1\\]: t = numpy.linspace(0, 10, 101)\n",
    "\n",
    "In \\[1\\]: x0 = \\[0.1,0.\\]\n",
    "\n",
    "In \\[1\\]: ode.initial_values = (x0, t\\[0\\])\n",
    "\n",
    "In \\[1\\]: solution = ode.integrate(t\\[1::\\])\n",
    "\n",
    "@savefig common_models_sis_periodic.png In \\[1\\]: ode.plot()\n",
    "\n",
    "In \\[1\\]: plt.close()"
   ]
  }
 ],
 "nbformat": 4,
 "nbformat_minor": 5,
 "metadata": {}
}
