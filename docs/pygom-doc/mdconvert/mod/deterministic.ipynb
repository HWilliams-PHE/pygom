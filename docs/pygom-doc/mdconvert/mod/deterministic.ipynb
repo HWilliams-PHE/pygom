{
 "cells": [
  {
   "cell_type": "markdown",
   "metadata": {},
   "source": [
    "# deterministic\n",
    "\n",
    "pygom.model.deterministic"
   ]
  }
 ],
 "nbformat": 4,
 "nbformat_minor": 5,
 "metadata": {}
}
