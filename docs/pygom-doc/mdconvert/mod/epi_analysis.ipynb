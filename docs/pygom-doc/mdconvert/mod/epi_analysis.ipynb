{
 "cells": [
  {
   "cell_type": "markdown",
   "metadata": {},
   "source": [
    "# epi_analysis\n",
    "\n",
    "pygom.model.epi_analysis"
   ]
  }
 ],
 "nbformat": 4,
 "nbformat_minor": 5,
 "metadata": {}
}
