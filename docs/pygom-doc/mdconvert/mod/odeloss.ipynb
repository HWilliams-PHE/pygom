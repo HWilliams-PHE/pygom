{
 "cells": [
  {
   "cell_type": "markdown",
   "metadata": {},
   "source": [
    "# ode_loss\n",
    "\n",
    "These are basically the interfaces for `pygom.loss.BaseLoss`\n",
    "\n",
    "pygom.loss.ode_loss\n",
    "\n",
    "# calculations\n",
    "\n",
    "The base class which contains has all the calculation implemented\n",
    "\n",
    "pygom.loss.base_loss"
   ]
  }
 ],
 "nbformat": 4,
 "nbformat_minor": 5,
 "metadata": {}
}
