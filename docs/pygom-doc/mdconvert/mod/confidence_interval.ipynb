{
 "cells": [
  {
   "cell_type": "markdown",
   "metadata": {},
   "source": [
    "# loss_type\n",
    "\n",
    "pygom.loss.loss_type"
   ]
  }
 ],
 "nbformat": 4,
 "nbformat_minor": 5,
 "metadata": {}
}
