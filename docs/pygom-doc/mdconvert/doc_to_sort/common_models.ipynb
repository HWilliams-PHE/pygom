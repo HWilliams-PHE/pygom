{
 "cells": [
  {
   "cell_type": "markdown",
   "metadata": {},
   "source": [
    "# Pre-defined Example common_models\n",
    "\n",
    "We have defined a set of models `common_models`, most of them commonly\n",
    "used in epidemiology. They are there as examples and also save time for\n",
    "end users. Most of them are of the compartmental type, and we use\n",
    "standard naming conventions i.e. **S** = Susceptible, **E** = Exposed,\n",
    "**I** = Infectious, **R** = Recovered. Extra state symbol will be\n",
    "introduced when required.\n",
    "\n",
    "common_models/SIS.rst common_models/SIS_Periodic.rst\n",
    "common_models/SIR.rst common_models/SIR_Birth_Death.rst\n",
    "common_models/SEIR.rst common_models/SEIR_Multiple.rst\n",
    "common_models/SEIR_Birth_Death.rst\n",
    "common_models/SEIR_Birth_Death_Periodic.rst\n",
    "common_models/Legrand_Ebola_SEIHFR.rst common_models/Lotka_Volterra.rst\n",
    "common_models/Lotka_Volterra_4State.rst common_models/FitzHugh.rst\n",
    "common_models/Lorenz.rst common_models/vanDelPol.rst\n",
    "common_models/Robertson.rst"
   ]
  }
 ],
 "nbformat": 4,
 "nbformat_minor": 5,
 "metadata": {}
}
