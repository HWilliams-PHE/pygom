{
 "cells": [
  {
   "cell_type": "markdown",
   "metadata": {},
   "source": [
    "# ODE With Birth and Death Process\n",
    "\n",
    "We follow on from the SIR model of `unrollSimple` but with additional\n",
    "birth and death processes.\n",
    "\n",
    "$$\\begin{aligned}\n",
    "\\frac{dS}{dt} &= -\\beta SI + B - \\mu S\\\\\n",
    "\\frac{dI}{dt} &= \\beta SI - \\gamma I - \\mu I\\\\\n",
    "\\frac{dR}{dt} &= \\gamma I.\n",
    "\\end{aligned}$$\n",
    "\n",
    "which consists of two transitions and three birth and death process\n",
    "\n",
    "digraph SIR_Model {  \n",
    "rankdir=LR; size=\"8\" node \\[shape = circle\\]; S -\\> I \\[ label = \"βSI\"\n",
    "\\]; I -\\> R \\[ label = \"γI\" \\]; B \\[height=0 margin=0 shape=plaintext\n",
    "width=0\\]; B -\\> S; \"S\\**2*μ\" \\[height=0 margin=0 shape=plaintext\n",
    "width=0\\]; S -\\> \"S\\**2*μ\"; \"I\\*μ\" \\[height=0 margin=0 shape=plaintext\n",
    "width=0\\]; I -\\> \"I\\*μ\";\n",
    "\n",
    "}\n",
    "\n",
    "Let's define this in terms of ODEs, and unroll it back to the individual\n",
    "processes.\n",
    "\n",
    "In \\[1\\]: from pygom import Transition, TransitionType, SimulateOde,\n",
    "common_models\n",
    "\n",
    "In \\[1\\]: import matplotlib.pyplot as plt\n",
    "\n",
    "In \\[1\\]: stateList = \\['S', 'I', 'R'\\]\n",
    "\n",
    "In \\[1\\]: paramList = \\['beta', 'gamma', 'B', 'mu'\\]\n",
    "\n",
    "In \\[1\\]: odeList = \\[  \n",
    "...: Transition(origin='S', ...: equation='-beta\\*S\\*I + B - mu\\*S',\n",
    "...: transition_type=TransitionType.ODE), ...: Transition(origin='I',\n",
    "...: equation='beta\\*S\\*I - gamma\\*I - mu\\*I', ...:\n",
    "transition_type=TransitionType.ODE), ...: Transition(origin='R', ...:\n",
    "equation='gamma\\*I', ...: transition_type=TransitionType.ODE) ...: \\]\n",
    "\n",
    "In \\[1\\]: ode = SimulateOde(stateList, paramList, ode=odeList)\n",
    "\n",
    "In \\[1\\]: ode2 = ode.get_unrolled_obj()\n",
    "\n",
    "In \\[1\\]: f = plt.figure()\n",
    "\n",
    "@savefig sir_unrolled_transition_graph.png In \\[1\\]:\n",
    "ode2.get_transition_graph()\n",
    "\n",
    "In \\[1\\]: plt.close()"
   ]
  }
 ],
 "metadata": {
  "kernelspec": {
   "display_name": "Python 3.11.0 ('pygom-dev')",
   "language": "python",
   "name": "python3"
  },
  "language_info": {
   "name": "python",
   "version": "3.11.0"
  },
  "vscode": {
   "interpreter": {
    "hash": "fc17efc1b95c7b1781d7b7ce7a7c317a91a744529621a3902877be6d49554249"
   }
  }
 },
 "nbformat": 4,
 "nbformat_minor": 5
}
