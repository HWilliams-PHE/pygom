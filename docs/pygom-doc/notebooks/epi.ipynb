{
 "cells": [
  {
   "cell_type": "markdown",
   "metadata": {},
   "source": [
    "# Epidemic Analysis\n",
    "\n",
    "A common application of ODEs is in the field\n",
    "of epidemiology modeling, where compartmental models are\n",
    "used to describe disease progression through a population. \n",
    "We demonstrate some of the simpler algebraic analysis that you may wish to undertake on a compartmental model.\n",
    "\n",
    "We revist the SIR model with birth and death\n",
    "processes, which is an extension of the one in `sir`. \n",
    "\n",
    "First, we initialize the model, this time by importing it from `common_models`, rather than constructing it ourselves."
   ]
  },
  {
   "cell_type": "markdown",
   "id": "8c84ea26",
   "metadata": {},
   "source": [
    "\n",
    "from pygom import common_models\n",
    "\n",
    "ode = common_models.SIR_Birth_Death()\n",
    "\n",
    "print(ode.get_ode_eqn())"
   ]
  },
  {
   "cell_type": "markdown",
   "id": "ea8c4b15",
   "metadata": {},
   "source": [
    "\n",
    "## Obtaining the R0\n",
    "\n",
    "The reproduction number, also known as the $R_{0}$, is the single most\n",
    "powerful piece and reduced piece of information available from a\n",
    "compartmental model. In a nutshell, it provides a single number - if the\n",
    "parameters are known - which can the intuitive interpretation where\n",
    "$R_{0} = 1$ defines the tipping point of an outbreak. A $R_{0}$ value of\n",
    "more than one signifies an potential outbreak where less than one\n",
    "indicates that the disease will stop spreading naturally.\n",
    "\n",
    "To obtain the $R_{0}$, we simply have to tell the function which states\n",
    "represent the *disease state*, which in this case is the state **I**.\n",
    "\n",
    "In \\[1\\]: from pygom.model.epi_analysis import \\*\n",
    "\n",
    "In \\[2\\]: print(R0(ode, 'I'))\n",
    "\n",
    "## Algebraic R0\n",
    "\n",
    "We may also wish to get the $R_{0}$ in pure algebraic term. This can be\n",
    "achieved by the following few lines. Note that the result below is\n",
    "slightly different from the one above. The difference is due to the\n",
    "internal working of the functions, where `getR0` computes the\n",
    "disease-free equilibrium value for the states and substitute them back\n",
    "into the equation.\n",
    "\n",
    "In \\[1\\]: F, V = disease_progression_matrices(ode, 'I')\n",
    "\n",
    "In \\[2\\]: e = R0_from_matrix(F, V)\n",
    "\n",
    "In \\[3\\]: print(e)\n",
    "\n",
    "To replicate the output before, we have to find the values where the\n",
    "disease-free equilibrium will be achieved. Substitution can then be\n",
    "performed to retrieve $R_{0}$ in pure parameters.\n",
    "\n",
    "In \\[1\\]: dfe = DFE(ode, \\['I'\\])\n",
    "\n",
    "In \\[2\\]: print(dfe)\n",
    "\n",
    "In \\[3\\]: print(e\\[0\\].subs(dfe))"
   ]
  }
 ],
 "metadata": {
  "language_info": {
   "name": "python"
  }
 },
 "nbformat": 4,
 "nbformat_minor": 5
}
