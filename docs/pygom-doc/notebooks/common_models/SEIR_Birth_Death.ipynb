{
 "cells": [
  {
   "cell_type": "markdown",
   "metadata": {},
   "source": [
    "# `.SEIR_Birth_Death`\n",
    "\n",
    "Extending it to also include birth death process with equal rate $\\mu$\n",
    "\n",
    "$$\\begin{aligned}\n",
    "\\frac{dS}{dt} &= \\mu - \\beta SI - \\mu S \\\\\n",
    "\\frac{dE}{dt} &= \\beta SI - (\\mu + \\alpha) E \\\\\n",
    "\\frac{dI}{dt} &= \\alpha E - (\\mu + \\gamma) I \\\\\n",
    "\\frac{dR}{dt} &= \\gamma I\n",
    "\\end{aligned}$$\n",
    "\n",
    "Same parameters value taken from [\\[Aron1984\\]]() as the SEIR example\n",
    "above is used here. Observe how the introduction of a birth and a death\n",
    "process changes the graph even though the rest of the parameters remains\n",
    "the same.\n",
    "\n",
    "In \\[1\\]: from pygom import common_models\n",
    "\n",
    "In \\[1\\]: import matplotlib.pyplot as plt\n",
    "\n",
    "In \\[1\\]: import numpy\n",
    "\n",
    "In \\[1\\]: ode = common_models.SEIR_Birth_Death({'beta':1800,\n",
    "'gamma':100, 'alpha':35.84, 'mu':0.02})\n",
    "\n",
    "In \\[1\\]: t = numpy.linspace(0, 50, 1001)\n",
    "\n",
    "In \\[1\\]: x0 = \\[0.0658, 0.0007, 0.0002, 0.0\\]\n",
    "\n",
    "In \\[1\\]: ode.initial_values = (x0, t\\[0\\])\n",
    "\n",
    "In \\[1\\]: solution = ode.integrate(t\\[1::\\], full_output=True)\n",
    "\n",
    "@savefig common_models_seir_bd.png In \\[1\\]: ode.plot()\n",
    "\n",
    "In \\[1\\]: plt.close()"
   ]
  }
 ],
 "nbformat": 4,
 "nbformat_minor": 5,
 "metadata": {}
}
