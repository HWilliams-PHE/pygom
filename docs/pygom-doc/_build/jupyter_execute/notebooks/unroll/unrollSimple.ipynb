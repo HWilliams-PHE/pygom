{
 "cells": [
  {
   "cell_type": "markdown",
   "id": "fe55e8d2",
   "metadata": {},
   "source": [
    "# Simple Problem\n",
    "\n",
    "For a simple problem, we consider the SIR model defined by\n",
    "\n",
    "$$\\begin{aligned}\n",
    "\\frac{dS}{dt} &= -\\beta SI \\\\\n",
    "\\frac{dI}{dt} &= \\beta SI - \\gamma I \\\\\n",
    "\\frac{dR}{dt} &= \\gamma I.\n",
    "\\end{aligned}$$\n",
    "\n",
    "which consists of two transitions\n",
    "\n",
    "digraph SIR_Model {  \n",
    "rankdir=LR; size=\"8\" node \\[shape = circle\\]; S -\\> I \\[ label = \"βSI\"\n",
    "\\]; I -\\> R \\[ label = \"γI\" \\];\n",
    "\n",
    "}\n",
    "\n",
    "Let's define this using the code block below\n",
    "\n",
    "In \\[1\\]: from pygom import SimulateOde, Transition, TransitionType\n",
    "\n",
    "In \\[2\\]: ode1 = Transition(origin='S', equation='-beta\\*S\\*I',\n",
    "transition_type=TransitionType.ODE)\n",
    "\n",
    "In \\[3\\]: ode2 = Transition(origin='I', equation='beta\\*S\\*I -\n",
    "gamma\\*I', transition_type=TransitionType.ODE)\n",
    "\n",
    "In \\[4\\]: ode3 = Transition(origin='R', equation='gamma\\*I',\n",
    "transition_type=TransitionType.ODE)\n",
    "\n",
    "In \\[6\\]: stateList = \\['S', 'I', 'R'\\]\n",
    "\n",
    "In \\[7\\]: paramList = \\['beta', 'gamma'\\]\n",
    "\n",
    "In \\[8\\]: ode = SimulateOde(stateList,  \n",
    "...: paramList, ...: ode=\\[ode1, ode2, ode3\\])\n",
    "\n",
    "In \\[9\\]: ode.get_transition_matrix()\n",
    "\n",
    "and the last line shows that the transition matrix is empty. This is the\n",
    "expected result because `SimulateOdeModel` was not initialized using\n",
    "transitions. We populate the transition matrix below and demonstrate the\n",
    "difference.\n",
    "\n",
    "In \\[1\\]: ode = ode.get_unrolled_obj()\n",
    "\n",
    "In \\[2\\]: ode.get_transition_matrix()"
   ]
  }
 ],
 "metadata": {
  "language_info": {
   "codemirror_mode": {
    "name": "ipython",
    "version": 3
   },
   "file_extension": ".py",
   "mimetype": "text/x-python",
   "name": "python",
   "nbconvert_exporter": "python",
   "pygments_lexer": "ipython3",
   "version": "3.11.0"
  }
 },
 "nbformat": 4,
 "nbformat_minor": 5
}