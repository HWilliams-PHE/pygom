{
 "cells": [
  {
   "cell_type": "markdown",
   "id": "27b62ac2",
   "metadata": {},
   "source": [
    "# SEIR - birth, death and periodic\n",
    "\n",
    "{func}`SEIR_Birth_Death_Periodic`\n",
    "\n",
    "Now extending the SEIR to also have periodic contact, as in\n",
    "{cite}`Aron1984`.\n",
    "\n",
    "$$\\begin{aligned}\n",
    "\\frac{dS}{dt} &= \\mu - \\beta(t)SI - \\mu S \\\\\n",
    "\\frac{dE}{dt} &= \\beta(t)SI - (\\mu + \\alpha) E \\\\\n",
    "\\frac{dI}{dt} &= \\alpha E - (\\mu + \\gamma) I \\\\\n",
    "\\frac{dR}{dt} &= \\gamma I.\n",
    "\\end{aligned}$$\n"
   ]
  },
  {
   "cell_type": "code",
   "execution_count": 1,
   "id": "cc27b5b3",
   "metadata": {},
   "outputs": [
    {
     "ename": "NameError",
     "evalue": "name 'x0' is not defined",
     "output_type": "error",
     "traceback": [
      "\u001b[1;31m---------------------------------------------------------------------------\u001b[0m",
      "\u001b[1;31mNameError\u001b[0m                                 Traceback (most recent call last)",
      "Cell \u001b[1;32mIn[1], line 11\u001b[0m\n\u001b[0;32m      7\u001b[0m ode \u001b[38;5;241m=\u001b[39m common_models\u001b[38;5;241m.\u001b[39mSEIR_Birth_Death_Periodic({\u001b[38;5;124m'\u001b[39m\u001b[38;5;124mbeta_0\u001b[39m\u001b[38;5;124m'\u001b[39m:\u001b[38;5;241m1800\u001b[39m, \u001b[38;5;124m'\u001b[39m\u001b[38;5;124mbeta_1\u001b[39m\u001b[38;5;124m'\u001b[39m:\u001b[38;5;241m0.2\u001b[39m, \u001b[38;5;124m'\u001b[39m\u001b[38;5;124mgamma\u001b[39m\u001b[38;5;124m'\u001b[39m:\u001b[38;5;241m100\u001b[39m, \u001b[38;5;124m'\u001b[39m\u001b[38;5;124malpha\u001b[39m\u001b[38;5;124m'\u001b[39m:\u001b[38;5;241m35.84\u001b[39m, \u001b[38;5;124m'\u001b[39m\u001b[38;5;124mmu\u001b[39m\u001b[38;5;124m'\u001b[39m:\u001b[38;5;241m0.02\u001b[39m})\n\u001b[0;32m      9\u001b[0m t \u001b[38;5;241m=\u001b[39m numpy\u001b[38;5;241m.\u001b[39mlinspace(\u001b[38;5;241m0\u001b[39m, \u001b[38;5;241m50\u001b[39m, \u001b[38;5;241m1001\u001b[39m)\n\u001b[1;32m---> 11\u001b[0m ode\u001b[38;5;241m.\u001b[39minitial_values \u001b[38;5;241m=\u001b[39m (\u001b[43mx0\u001b[49m, t[\u001b[38;5;241m0\u001b[39m])\n\u001b[0;32m     13\u001b[0m x0 \u001b[38;5;241m=\u001b[39m [\u001b[38;5;241m0.0658\u001b[39m, \u001b[38;5;241m0.0007\u001b[39m, \u001b[38;5;241m0.0002\u001b[39m, \u001b[38;5;241m0.0\u001b[39m]\n\u001b[0;32m     15\u001b[0m solution \u001b[38;5;241m=\u001b[39m ode\u001b[38;5;241m.\u001b[39mintegrate(t[\u001b[38;5;241m1\u001b[39m::])\n",
      "\u001b[1;31mNameError\u001b[0m: name 'x0' is not defined"
     ]
    }
   ],
   "source": [
    "from pygom import common_models\n",
    "\n",
    "import numpy\n",
    "\n",
    "import matplotlib.pyplot as plt\n",
    "\n",
    "ode = common_models.SEIR_Birth_Death_Periodic({'beta_0':1800, 'beta_1':0.2, 'gamma':100, 'alpha':35.84, 'mu':0.02})\n",
    "\n",
    "t = numpy.linspace(0, 50, 1001)\n",
    "\n",
    "ode.initial_values = (x0, t[0])\n",
    "\n",
    "x0 = [0.0658, 0.0007, 0.0002, 0.0]\n",
    "\n",
    "solution = ode.integrate(t[1::])\n",
    "\n",
    "ode.plot()\n",
    "\n",
    "plt.close()\n"
   ]
  },
  {
   "cell_type": "markdown",
   "id": "5614972a",
   "metadata": {},
   "source": [
    "\n",
    "The periodicity is obvious when looking at the the plot between states\n",
    "$S$ and $E$, in logarithmic scale.\n",
    "\n"
   ]
  },
  {
   "cell_type": "markdown",
   "id": "29c5f471",
   "metadata": {},
   "source": [
    "fig = plt.figure();\n",
    "\n",
    "plt.plot(numpy.log(solution[:,0]), numpy.log(solution[:,1]));\n",
    "\n",
    "plt.xlabel('log of S');\n",
    "\n",
    "plt.ylabel('log of E');\n",
    "\n",
    "plt.show()\n",
    "\n",
    "plt.close()\n"
   ]
  },
  {
   "cell_type": "markdown",
   "id": "d639850d",
   "metadata": {},
   "source": [
    "\n",
    "Similarly, we can see the same thing between the states $E$ and $I$.\n"
   ]
  },
  {
   "cell_type": "code",
   "execution_count": null,
   "id": "8f259172",
   "metadata": {},
   "outputs": [],
   "source": [
    "fig = plt.figure();\n",
    "\n",
    "plt.plot(numpy.log(solution[:,1]), numpy.log(solution[:,2]));\n",
    "\n",
    "plt.xlabel('log of E');\n",
    "\n",
    "plt.ylabel('log of I');\n",
    "\n",
    "plt.show()\n",
    "\n",
    "plt.close()"
   ]
  }
 ],
 "metadata": {
  "kernelspec": {
   "display_name": "Python 3.9.15 ('sphinx-doc')",
   "language": "python",
   "name": "python3"
  },
  "language_info": {
   "codemirror_mode": {
    "name": "ipython",
    "version": 3
   },
   "file_extension": ".py",
   "mimetype": "text/x-python",
   "name": "python",
   "nbconvert_exporter": "python",
   "pygments_lexer": "ipython3",
   "version": "3.9.15"
  },
  "vscode": {
   "interpreter": {
    "hash": "4dc1e323c80fe09539c74ad5c5a7c7d8d9ff99e04f7b3dbd3680daf878629d6e"
   }
  }
 },
 "nbformat": 4,
 "nbformat_minor": 5
}