{
 "cells": [
  {
   "cell_type": "markdown",
   "metadata": {},
   "source": [
    "# Deriving derivative of loss class and testing markdown conversion for equation.#"
   ]
  },
  {
   "cell_type": "code",
   "execution_count": 1,
   "metadata": {},
   "outputs": [],
   "source": [
    "import sympy as sym\n",
    "import numpy as np"
   ]
  },
  {
   "cell_type": "markdown",
   "metadata": {},
   "source": [
    "## 1. Negative binomial loss class ##"
   ]
  },
  {
   "cell_type": "markdown",
   "metadata": {},
   "source": [
    "### 1.1 Logliklihood function"
   ]
  },
  {
   "cell_type": "code",
   "execution_count": 2,
   "metadata": {},
   "outputs": [],
   "source": [
    " x, mu , k = sym.symbols('x mu k')"
   ]
  },
  {
   "cell_type": "markdown",
   "metadata": {},
   "source": [
    "Probability mass function (PMF) of negative binomial ${p}(x; \\mu,k) = \\frac{\\Gamma \\left(k+x\\right)}{\\Gamma \\left(k\\right)x!}(\\frac{k}{k+\\mu})^{k}(\\frac{\\mu}{k+\\mu})^{x}$ \n",
    "This definition of the negative binomial distribution is often refered to as negative binomial 2. This parameterisation takes the mean (usually refered as $\\mu$, but in pygom $\\hat{y}$ as we are looking at a prediction) and $k$ (an overdispersion parameter). The variance = $\\mu+\\frac{\\mu^2}{k}$, some notation uses $\\alpha$, ($k=\\alpha^{-1}$). \n",
    "See Bolker, B. M. (2008). Negative Binomial. In Ecological Models in R (pp. 124–126). Princeton University Press."
   ]
  },
  {
   "cell_type": "code",
   "execution_count": 3,
   "metadata": {},
   "outputs": [
    {
     "data": {
      "text/latex": [
       "$\\displaystyle \\frac{\\left(\\frac{k}{k + \\mu}\\right)^{k} \\left(\\frac{\\mu}{k + \\mu}\\right)^{x} \\Gamma\\left(k + x\\right)}{x! \\Gamma\\left(k\\right)}$"
      ],
      "text/plain": [
       "(k/(k + mu))**k*(mu/(k + mu))**x*gamma(k + x)/(factorial(x)*gamma(k))"
      ]
     },
     "execution_count": 3,
     "metadata": {},
     "output_type": "execute_result"
    }
   ],
   "source": [
    "nbpmf = (sym.gamma(k+x)/(sym.gamma(k)*sym.factorial(x)))*(k/(k+mu))**k*(mu/(k+mu))**x\n",
    "nbpmf"
   ]
  },
  {
   "cell_type": "markdown",
   "metadata": {},
   "source": [
    "Due to the this PMF containing gamma functions and a factorial it is easier to calculate the sum of it's logged terms than to log it as one object (you end up with infinities otherwise).   "
   ]
  },
  {
   "cell_type": "code",
   "execution_count": 4,
   "metadata": {},
   "outputs": [
    {
     "data": {
      "text/plain": [
       "((k/(k + mu))**k, (mu/(k + mu))**x, 1/factorial(x), 1/gamma(k), gamma(k + x))"
      ]
     },
     "execution_count": 4,
     "metadata": {},
     "output_type": "execute_result"
    }
   ],
   "source": [
    "nbpmf.args"
   ]
  },
  {
   "cell_type": "code",
   "execution_count": 5,
   "metadata": {},
   "outputs": [
    {
     "data": {
      "text/latex": [
       "$\\displaystyle k \\left(\\log{\\left(k \\right)} - \\log{\\left(k + \\mu \\right)}\\right) + x \\left(\\log{\\left(\\mu \\right)} - \\log{\\left(k + \\mu \\right)}\\right) - \\log{\\left(x! \\right)} - \\log{\\left(\\Gamma\\left(k\\right) \\right)} + \\Gamma\\left(k + x\\right)$"
      ],
      "text/plain": [
       "k*(log(k) - log(k + mu)) + x*(log(mu) - log(k + mu)) - log(factorial(x)) - log(gamma(k)) + gamma(k + x)"
      ]
     },
     "execution_count": 5,
     "metadata": {},
     "output_type": "execute_result"
    }
   ],
   "source": [
    "logpmf_p1= k*(sym.ln(k)-sym.ln(k+mu))\n",
    "logpmf_p2= x*(sym.ln(mu)-sym.ln(k+mu))\n",
    "logpmf_p3= -sym.ln(sym.factorial(x))\n",
    "logpmf_p4= -sym.ln(sym.gamma(k))\n",
    "logpmf_p5= sym.gamma(k+x)\n",
    "logpmf = logpmf_p1+logpmf_p2+logpmf_p3+logpmf_p4+logpmf_p5\n",
    "logpmf"
   ]
  },
  {
   "cell_type": "code",
   "execution_count": 6,
   "metadata": {},
   "outputs": [
    {
     "data": {
      "text/plain": [
       "(-log(factorial(x)),\n",
       " -log(gamma(k)),\n",
       " k*(log(k) - log(k + mu)),\n",
       " x*(log(mu) - log(k + mu)),\n",
       " gamma(k + x))"
      ]
     },
     "execution_count": 6,
     "metadata": {},
     "output_type": "execute_result"
    }
   ],
   "source": [
    "logpmf.args"
   ]
  },
  {
   "cell_type": "code",
   "execution_count": 7,
   "metadata": {},
   "outputs": [],
   "source": [
    "from scipy.special import gammaln\n",
    "def nb2logpmf(x, mu,k):\n",
    "    '''\n",
    "    The log probability mass function (pmf) of Negative Binomial 2 distribution. \n",
    "\n",
    "    Parameters\n",
    "    ----------\n",
    "    x: array like observation.\n",
    "    mu: mean or prediction.\n",
    "    k: overdispersion parameter (variance = mean(1+mean/k)). Note some notation uses $\\alpha$, ($k=\\alpha^{-1}$).\n",
    "    See Bolker, B. M. (2008). Negative Binomial. In Ecological Models in R (pp. 124–126). Princeton University Press.\n",
    "\n",
    "    Returns\n",
    "    -------\n",
    "    log pmf:\n",
    "    math:`\\\\mathcal\\\\ln({p}(x; \\\\mu,k)) = \\\\ln(\\\\frac{\\\\Gamma \\\\left(k+x\\\\right)}{\\\\Gamma \\\\left(k\\\\right)x!}(\\\\frac{k}{k+\\\\mu})^{k}(\\\\frac{\\\\mu}{k+\\\\mu})^{x})`\n",
    "\n",
    "    '''\n",
    "    # note that we input k the overdispersion parameter here\n",
    "\n",
    "\n",
    "    logpmf_p1= -gammaln(x+1) \n",
    "    logpmf_p2= -gammaln(k)\n",
    "    logpmf_p3= k*(np.log(k) - np.log(k + mu)) \n",
    "    logpmf_p4= x*(np.log(mu) - np.log(k + mu))\n",
    "    logpmf_p5= gammaln(k+x)\n",
    "    logpmf = logpmf_p1+logpmf_p2+logpmf_p3+logpmf_p4+logpmf_p5\n",
    "    return logpmf"
   ]
  },
  {
   "cell_type": "markdown",
   "metadata": {},
   "source": [
    "Our loss function is the negative of the logliklihood above."
   ]
  },
  {
   "cell_type": "code",
   "execution_count": 8,
   "metadata": {},
   "outputs": [],
   "source": [
    "negloglikli=-logpmf"
   ]
  },
  {
   "cell_type": "markdown",
   "metadata": {},
   "source": [
    "1st derivative of -Loglikelihood of negative binomial loss with respect to $\\mu$."
   ]
  },
  {
   "cell_type": "code",
   "execution_count": 9,
   "metadata": {},
   "outputs": [
    {
     "data": {
      "text/latex": [
       "$\\displaystyle \\frac{k \\left(\\mu - x\\right)}{\\mu \\left(k + \\mu\\right)}$"
      ],
      "text/plain": [
       "k*(mu - x)/(mu*(k + mu))"
      ]
     },
     "execution_count": 9,
     "metadata": {},
     "output_type": "execute_result"
    }
   ],
   "source": [
    "nbfirstderv= sym.diff(negloglikli,mu).simplify()\n",
    "nbfirstderv"
   ]
  },
  {
   "cell_type": "markdown",
   "metadata": {},
   "source": [
    "1st derivative of -Loglikelihood of negative binomial loss with respect to yhat: \n",
    "$\\frac{k(\\mu-y)}{\\mu(k + \\mu)} $"
   ]
  },
  {
   "cell_type": "code",
   "execution_count": 10,
   "metadata": {},
   "outputs": [
    {
     "data": {
      "text/latex": [
       "$\\displaystyle - \\frac{k \\left(- \\mu \\left(k + \\mu\\right) + \\mu \\left(\\mu - x\\right) + \\left(k + \\mu\\right) \\left(\\mu - x\\right)\\right)}{\\mu^{2} \\left(k + \\mu\\right)^{2}}$"
      ],
      "text/plain": [
       "-k*(-mu*(k + mu) + mu*(mu - x) + (k + mu)*(mu - x))/(mu**2*(k + mu)**2)"
      ]
     },
     "execution_count": 10,
     "metadata": {},
     "output_type": "execute_result"
    }
   ],
   "source": [
    "nbsecderv = sym.diff(nbfirstderv,mu).simplify()\n",
    "nbsecderv.simplify()"
   ]
  },
  {
   "cell_type": "markdown",
   "metadata": {},
   "source": [
    "2nd derivative of -Loglikelihood of negative binomial loss with respect to yhat: \n",
    "$\\frac{k(\\mu(k + \\mu) + \\mu(y -\\mu) + (k + \\mu)(y - \\mu)}{\\mu^{2}(k + \\mu)^{2}} $"
   ]
  },
  {
   "cell_type": "code",
   "execution_count": 11,
   "metadata": {},
   "outputs": [
    {
     "data": {
      "text/plain": [
       "(k, mu**(-2), (k + mu)**(-2), mu*(k + mu) - mu*(mu - x) - (k + mu)*(mu - x))"
      ]
     },
     "execution_count": 11,
     "metadata": {},
     "output_type": "execute_result"
    }
   ],
   "source": [
    "nbsecderv.args"
   ]
  },
  {
   "cell_type": "markdown",
   "metadata": {},
   "source": [
    "# 2.  Gamma loss class in terms of mean and shape"
   ]
  },
  {
   "cell_type": "code",
   "execution_count": 12,
   "metadata": {},
   "outputs": [],
   "source": [
    " a, s, x, mu= sym.symbols('a s x mu')"
   ]
  },
  {
   "cell_type": "markdown",
   "metadata": {},
   "source": [
    "Probability density function (PDF) of the gamma distribution is $\\frac{1}{s^a\\Gamma(a)}x^{a-1}e^{-x/s}$. However we need this in terms of mean (here $\\mu$), luckily we can subistitute in $s=\\frac{\\mu}{a}$ to get our likelihood function. But lets start with a log tranformation of the pdf.\n",
    "\n",
    "See Bolker, B. M. (2008). Gamma. In Ecological Models in R (pp. 131–133). Princeton University Press."
   ]
  },
  {
   "cell_type": "code",
   "execution_count": 13,
   "metadata": {},
   "outputs": [
    {
     "data": {
      "text/latex": [
       "$\\displaystyle \\frac{s^{- a} x^{a - 1} e^{- \\frac{x}{s}}}{\\Gamma\\left(a\\right)}$"
      ],
      "text/plain": [
       "s**(-a)*x**(a - 1)*exp(-x/s)/gamma(a)"
      ]
     },
     "execution_count": 13,
     "metadata": {},
     "output_type": "execute_result"
    }
   ],
   "source": [
    "pdf_gamma = 1/(s**a*sym.gamma(a))*(x**(a-1)*sym.E**(-x/s))\n",
    "pdf_gamma"
   ]
  },
  {
   "cell_type": "code",
   "execution_count": 14,
   "metadata": {},
   "outputs": [
    {
     "data": {
      "text/plain": [
       "(s**(-a), x**(a - 1), 1/gamma(a), exp(-x/s))"
      ]
     },
     "execution_count": 14,
     "metadata": {},
     "output_type": "execute_result"
    }
   ],
   "source": [
    "pdf_gamma.args"
   ]
  },
  {
   "cell_type": "code",
   "execution_count": 15,
   "metadata": {},
   "outputs": [
    {
     "data": {
      "text/latex": [
       "$\\displaystyle - a \\log{\\left(s \\right)} + \\left(a - 1\\right) \\log{\\left(x \\right)} - \\log{\\left(\\Gamma\\left(a\\right) \\right)} - \\frac{x}{s}$"
      ],
      "text/plain": [
       "-a*log(s) + (a - 1)*log(x) - log(gamma(a)) - x/s"
      ]
     },
     "execution_count": 15,
     "metadata": {},
     "output_type": "execute_result"
    }
   ],
   "source": [
    "log_pdf_gamma_p1 = -a*sym.ln(s)\n",
    "log_pdf_gamma_p2 = (a-1)*sym.ln(x)\n",
    "log_pdf_gamma_p3 = -sym.ln(sym.gamma(a))\n",
    "log_pdf_gamma_p4 = -x/s\n",
    "log_pdf_gamma= log_pdf_gamma_p1+log_pdf_gamma_p2+log_pdf_gamma_p3+log_pdf_gamma_p4\n",
    "log_pdf_gamma"
   ]
  },
  {
   "cell_type": "code",
   "execution_count": 16,
   "metadata": {},
   "outputs": [
    {
     "data": {
      "text/latex": [
       "$\\displaystyle - a \\log{\\left(\\frac{\\mu}{a} \\right)} - \\frac{a x}{\\mu} + \\left(a - 1\\right) \\log{\\left(x \\right)} - \\log{\\left(\\Gamma\\left(a\\right) \\right)}$"
      ],
      "text/plain": [
       "-a*log(mu/a) - a*x/mu + (a - 1)*log(x) - log(gamma(a))"
      ]
     },
     "execution_count": 16,
     "metadata": {},
     "output_type": "execute_result"
    }
   ],
   "source": [
    "s_in_terms_mu_a = mu/a\n",
    "log_pdf_mu_a_gamma = log_pdf_gamma.subs(s,s_in_terms_mu_a) \n",
    "log_pdf_mu_a_gamma"
   ]
  },
  {
   "cell_type": "code",
   "execution_count": 17,
   "metadata": {},
   "outputs": [
    {
     "data": {
      "text/plain": [
       "(-log(gamma(a)), (a - 1)*log(x), -a*log(mu/a), -a*x/mu)"
      ]
     },
     "execution_count": 17,
     "metadata": {},
     "output_type": "execute_result"
    }
   ],
   "source": [
    "log_pdf_mu_a_gamma.args"
   ]
  },
  {
   "cell_type": "code",
   "execution_count": 18,
   "metadata": {},
   "outputs": [
    {
     "name": "stdout",
     "output_type": "stream",
     "text": [
      "- a \\log{\\left(\\frac{\\mu}{a} \\right)} - \\frac{a x}{\\mu} + \\left(a - 1\\right) \\log{\\left(x \\right)} - \\log{\\left(\\Gamma\\left(a\\right) \\right)}\n"
     ]
    }
   ],
   "source": [
    "sym.print_latex(log_pdf_mu_a_gamma)"
   ]
  },
  {
   "cell_type": "code",
   "execution_count": 19,
   "metadata": {},
   "outputs": [],
   "source": [
    "from scipy.special import gamma, factorial, gammaln\n",
    "def gamma_mu_shape_logpdf(x, mu,shape):\n",
    "    '''\n",
    "    The log probability density function (pdf) of gamma distrbution in terms of mean and shape. \n",
    "\n",
    "    Parameters\n",
    "    ----------\n",
    "    x: array like observation.\n",
    "    mu: mean or prediction.\n",
    "    v: variance.\n",
    "    See Bolker, B. M. (2008). Gamma. In Ecological Models in R (pp. 131–133). Princeton University Press.\n",
    "\n",
    "\n",
    "    Returns\n",
    "    -------\n",
    "    log pdf, :math:`\\\\mathcal\\\\ln({p}(x; \\\\mu,a)) = - a \\log{\\left(\\frac{\\mu}{a} \\right)} - \\frac{a x}{\\mu} + \\left(a - 1\\right) \\log{\\left(x \\right)} - \\log{\\left(\\Gamma\\left(a\\right) \\right)}`\n",
    "`\n",
    "\n",
    "    '''\n",
    "\n",
    "    logpdf_p1= -gammaln(shape)\n",
    "    logpdf_p2= (shape - 1)*np.log(x)\n",
    "    logpdf_p3= -shape*np.log(mu/shape)\n",
    "    logpdf_p4= -shape*x/mu\n",
    "    logpdf = logpdf_p1+logpdf_p2+logpdf_p3+logpdf_p4\n",
    "    return logpdf"
   ]
  },
  {
   "cell_type": "code",
   "execution_count": 20,
   "metadata": {},
   "outputs": [
    {
     "data": {
      "text/latex": [
       "$\\displaystyle a \\log{\\left(\\frac{\\mu}{a} \\right)} + \\frac{a x}{\\mu} - \\left(a - 1\\right) \\log{\\left(x \\right)} + \\log{\\left(\\Gamma\\left(a\\right) \\right)}$"
      ],
      "text/plain": [
       "a*log(mu/a) + a*x/mu - (a - 1)*log(x) + log(gamma(a))"
      ]
     },
     "execution_count": 20,
     "metadata": {},
     "output_type": "execute_result"
    }
   ],
   "source": [
    "negloglikli_gamma_mu_a = -log_pdf_mu_a_gamma\n",
    "negloglikli_gamma_mu_a"
   ]
  },
  {
   "cell_type": "markdown",
   "metadata": {},
   "source": [
    "1st derivative of -Loglikelihood (gamma loss) with respect to $\\mu$."
   ]
  },
  {
   "cell_type": "code",
   "execution_count": 21,
   "metadata": {
    "scrolled": true
   },
   "outputs": [
    {
     "data": {
      "text/latex": [
       "$\\displaystyle \\frac{a}{\\mu} - \\frac{a x}{\\mu^{2}}$"
      ],
      "text/plain": [
       "a/mu - a*x/mu**2"
      ]
     },
     "metadata": {},
     "output_type": "display_data"
    },
    {
     "data": {
      "text/latex": [
       "$\\displaystyle \\frac{a \\left(\\mu - x\\right)}{\\mu^{2}}$"
      ],
      "text/plain": [
       "a*(mu - x)/mu**2"
      ]
     },
     "metadata": {},
     "output_type": "display_data"
    }
   ],
   "source": [
    "gammafirstderv= sym.diff(negloglikli_gamma_mu_a,mu)\n",
    "display(gammafirstderv,gammafirstderv.simplify())"
   ]
  },
  {
   "cell_type": "code",
   "execution_count": 22,
   "metadata": {},
   "outputs": [
    {
     "name": "stdout",
     "output_type": "stream",
     "text": [
      "\\frac{a \\left(\\mu - x\\right)}{\\mu^{2}}\n"
     ]
    }
   ],
   "source": [
    "sym.print_latex(gammafirstderv.simplify())"
   ]
  },
  {
   "cell_type": "markdown",
   "metadata": {},
   "source": [
    "2nd derivative of -Loglikelihood (gamma loss) with respect to $\\mu$.: "
   ]
  },
  {
   "cell_type": "code",
   "execution_count": 23,
   "metadata": {},
   "outputs": [
    {
     "data": {
      "text/latex": [
       "$\\displaystyle \\frac{a \\left(- \\mu + 2 x\\right)}{\\mu^{3}}$"
      ],
      "text/plain": [
       "a*(-mu + 2*x)/mu**3"
      ]
     },
     "metadata": {},
     "output_type": "display_data"
    },
    {
     "data": {
      "text/latex": [
       "$\\displaystyle \\frac{a \\left(- \\mu + 2 x\\right)}{\\mu^{3}}$"
      ],
      "text/plain": [
       "a*(-mu + 2*x)/mu**3"
      ]
     },
     "metadata": {},
     "output_type": "display_data"
    }
   ],
   "source": [
    "gammasecderv = sym.diff(gammafirstderv,mu).simplify()\n",
    "display(gammasecderv,gammasecderv.simplify())"
   ]
  },
  {
   "cell_type": "code",
   "execution_count": 24,
   "metadata": {},
   "outputs": [
    {
     "name": "stdout",
     "output_type": "stream",
     "text": [
      "\\frac{a \\left(- \\mu + 2 x\\right)}{\\mu^{3}}\n"
     ]
    }
   ],
   "source": [
    "sym.print_latex(gammasecderv)"
   ]
  }
 ],
 "metadata": {
  "kernelspec": {
   "display_name": "Python 3",
   "language": "python",
   "name": "python3"
  },
  "language_info": {
   "codemirror_mode": {
    "name": "ipython",
    "version": 3
   },
   "file_extension": ".py",
   "mimetype": "text/x-python",
   "name": "python",
   "nbconvert_exporter": "python",
   "pygments_lexer": "ipython3",
   "version": "3.8.1"
  }
 },
 "nbformat": 4,
 "nbformat_minor": 4
}
