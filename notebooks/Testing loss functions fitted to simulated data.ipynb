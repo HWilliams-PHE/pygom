{
 "cells": [
  {
   "cell_type": "markdown",
   "metadata": {},
   "source": [
    "# Testing Negativ Binomail and Gamma loss Data fitting and parameter estimation within PyGOM\n",
    "\n",
    "This is an example of parameter fitting with an SIR model."
   ]
  },
  {
   "cell_type": "code",
   "execution_count": 1,
   "metadata": {},
   "outputs": [],
   "source": [
    "from pygom import Transition, TransitionType, SimulateOde, SquareLoss, PoissonLoss, NormalLoss, NegBinomLoss, GammaLoss\n",
    "import numpy as np\n",
    "import scipy.integrate\n",
    "import matplotlib.pyplot as plt\n",
    "import copy\n",
    "\n",
    "from scipy.optimize import minimize"
   ]
  },
  {
   "cell_type": "code",
   "execution_count": 2,
   "metadata": {},
   "outputs": [],
   "source": [
    "# Generate some data for fitting\n",
    "\n",
    "# Standard SIR model with 2 parameters\n",
    "# construct model \n",
    "states = ['S', 'I', 'R']\n",
    "params = ['beta', 'gamma', 'N']\n",
    "transitions = [Transition(origin='S', destination='I', equation='beta*S*I/N', \n",
    "                          transition_type=TransitionType.T),\n",
    "               Transition(origin='I', destination='R', equation='gamma*I', \n",
    "                          transition_type=TransitionType.T)]\n",
    "model = SimulateOde(states, params, transition=transitions)"
   ]
  },
  {
   "cell_type": "code",
   "execution_count": 3,
   "metadata": {},
   "outputs": [],
   "source": [
    "# initial conditions \n",
    "N = 1e6\n",
    "in_inf = 2\n",
    "init_state = [N - in_inf, in_inf, 0.0]\n",
    "# time \n",
    "t = np.arange (0 , 51 , 0.25)\n",
    "# deterministic parameter values\n",
    "param_evals = [('beta', 3.6), ('gamma', 0.2), ('N', N)]\n",
    "model.parameters = param_evals\n",
    "model.initial_values = (init_state, t[0])"
   ]
  },
  {
   "cell_type": "code",
   "execution_count": 4,
   "metadata": {},
   "outputs": [],
   "source": [
    "# run 1 simulations\n",
    "data = model.integrate(t[1:])"
   ]
  },
  {
   "cell_type": "markdown",
   "metadata": {},
   "source": [
    "Data over 100 days, with observations from every day for infected and removed populations."
   ]
  },
  {
   "cell_type": "code",
   "execution_count": 5,
   "metadata": {
    "scrolled": true
   },
   "outputs": [
    {
     "data": {
      "image/png": "[encoded data removed]",
      "text/plain": [
       "<Figure size 432x288 with 1 Axes>"
      ]
     },
     "metadata": {
      "needs_background": "light"
     },
     "output_type": "display_data"
    }
   ],
   "source": [
    "plt.plot(t,data[:,0], 'bo') # infected observations\n",
    "plt.plot(t,data[:,1], 'ro') # infected observations\n",
    "plt.plot(t,data[:,2], 'go') # removed observations (recoverd/died)\n",
    "\n",
    "plt.show()"
   ]
  },
  {
   "cell_type": "markdown",
   "metadata": {},
   "source": [
    "# Adding random noise to produce Continuos Data"
   ]
  },
  {
   "cell_type": "markdown",
   "metadata": {},
   "source": [
    "Our data needs to be have some noise so lets put it through a function for randomisation using the gamma distribution."
   ]
  },
  {
   "cell_type": "code",
   "execution_count": 6,
   "metadata": {},
   "outputs": [],
   "source": [
    "def runif_noise(x,noise_prop):\n",
    "    '''\n",
    "    Takes x and adds noise on the uniform distribution.\n",
    "    '''\n",
    "    i_len,j_len = x.shape\n",
    "    ans = copy.deepcopy(x)\n",
    "    for i in range(i_len):\n",
    "        for j in range(j_len):\n",
    "            ans[i,j]=x[i,j] + x[i,j]*np.random.uniform(low=-noise_prop,high=noise_prop,size=1)\n",
    "                   \n",
    "    return ans"
   ]
  },
  {
   "cell_type": "code",
   "execution_count": 7,
   "metadata": {},
   "outputs": [
    {
     "data": {
      "text/plain": [
       "array([9.99998e+05, 2.00000e+00, 0.00000e+00])"
      ]
     },
     "execution_count": 7,
     "metadata": {},
     "output_type": "execute_result"
    }
   ],
   "source": [
    "data[0,:]"
   ]
  },
  {
   "cell_type": "code",
   "execution_count": 8,
   "metadata": {},
   "outputs": [
    {
     "name": "stderr",
     "output_type": "stream",
     "text": [
      "<ipython-input-8-74bf619963ac>:4: RuntimeWarning: invalid value encountered in true_divide\n",
      "  (noised_data-data)/data\n"
     ]
    },
    {
     "data": {
      "text/plain": [
       "array([[ 0.00000000e+00,  0.00000000e+00,             nan],\n",
       "       [-1.73465915e-01, -1.17281547e-01, -2.25860015e-02],\n",
       "       [ 2.18875989e-03, -1.41630417e-01, -1.20285204e-01],\n",
       "       [ 3.10984783e-01, -1.16333578e-01,  2.95271450e-01],\n",
       "       [-2.69029696e-01, -1.99213726e-01, -1.90606565e-01],\n",
       "       [ 1.35684509e-01,  1.78379344e-01,  1.80962883e-01],\n",
       "       [-8.77803140e-02,  2.49616076e-01, -3.00454033e-02],\n",
       "       [-3.04094678e-02, -3.10164909e-01,  6.59761925e-02],\n",
       "       [ 4.77262892e-02, -1.92819030e-01, -1.39817160e-01],\n",
       "       [ 1.70193324e-01,  1.94346231e-01,  2.65605367e-01],\n",
       "       [-1.07254972e-01,  3.92049280e-02, -4.60377530e-02],\n",
       "       [ 2.25368182e-01,  1.68391679e-01,  5.02529134e-02],\n",
       "       [-2.73480406e-02, -2.43459230e-01, -2.72124777e-01],\n",
       "       [ 3.25378306e-01,  3.11198994e-01, -3.19891929e-01],\n",
       "       [-3.02732680e-02, -7.38888142e-02, -1.42714821e-01],\n",
       "       [ 1.94084991e-01, -2.12622683e-01, -1.15964568e-01],\n",
       "       [ 2.48373612e-01,  2.61208788e-01,  2.24903683e-01],\n",
       "       [ 1.37001895e-01, -1.85852789e-01, -1.18528471e-01],\n",
       "       [ 1.95169073e-01,  2.33950828e-01,  2.61071600e-01],\n",
       "       [ 2.94426553e-01,  1.78731291e-01,  1.97572440e-01],\n",
       "       [ 1.04043589e-01, -1.48204811e-01, -2.49256282e-01],\n",
       "       [-2.09591210e-01,  1.27888057e-01,  4.29371010e-02],\n",
       "       [-1.43084416e-01, -2.20412193e-01, -3.25009447e-01],\n",
       "       [ 6.33522507e-02,  1.53844079e-02,  2.99794892e-01],\n",
       "       [ 2.11100728e-01, -1.74071212e-01, -2.25674301e-01],\n",
       "       [-2.14296968e-02, -2.65530317e-01,  3.25590647e-02],\n",
       "       [-1.62179509e-01, -2.81708892e-01, -3.75237265e-02],\n",
       "       [-1.09534418e-01, -2.96644636e-01, -1.46756635e-01],\n",
       "       [ 1.97785675e-01,  1.21368330e-01, -8.52835473e-02],\n",
       "       [ 6.19544052e-02,  2.56309699e-01,  6.11246356e-02],\n",
       "       [ 2.00808833e-01, -1.42135844e-01, -2.13179622e-01],\n",
       "       [-2.16077990e-01, -2.86104187e-01, -2.95618164e-01],\n",
       "       [ 3.21509098e-01,  2.54100768e-01,  1.48586067e-01],\n",
       "       [-1.77056121e-01,  3.14195690e-01, -7.89813198e-02],\n",
       "       [ 9.52571895e-02, -2.93934351e-01,  2.32526004e-01],\n",
       "       [ 3.25502678e-01,  2.31769642e-01, -1.07617135e-02],\n",
       "       [ 2.35964481e-01, -1.33138709e-01, -1.72244039e-01],\n",
       "       [-1.66454417e-01,  2.45896187e-02,  3.26641177e-01],\n",
       "       [ 1.84816860e-01,  2.32456914e-01,  1.99283036e-01],\n",
       "       [ 8.91630169e-02, -4.65652026e-02, -1.29383851e-02],\n",
       "       [ 4.91988839e-02,  7.28993711e-02, -6.48891682e-02],\n",
       "       [-7.55111005e-02, -3.01904206e-01, -5.57502552e-02],\n",
       "       [ 8.02339702e-03, -2.71726635e-01, -1.62495983e-02],\n",
       "       [-6.36690889e-02, -2.96569398e-01, -9.48426199e-02],\n",
       "       [-3.10261981e-01,  2.49488644e-02,  2.99644152e-01],\n",
       "       [ 1.45286030e-01,  3.06316140e-01, -7.45581102e-03],\n",
       "       [ 3.07300545e-01, -3.22020626e-01,  1.49929309e-01],\n",
       "       [ 1.40175328e-01, -1.85315900e-02, -1.02966849e-01],\n",
       "       [ 1.18323765e-01,  3.24544502e-03, -3.14290184e-01],\n",
       "       [-2.91429133e-01,  2.87166606e-01,  2.99142261e-02],\n",
       "       [-5.48979385e-02,  8.98441545e-02,  1.03955500e-01],\n",
       "       [ 3.04884296e-01, -1.37771353e-01,  1.01023789e-01],\n",
       "       [-1.33848241e-01, -1.11395555e-01,  4.99581753e-02],\n",
       "       [-3.78918481e-02, -3.23665755e-01, -1.47739901e-01],\n",
       "       [ 2.21314141e-01,  2.82572816e-01,  4.72580803e-02],\n",
       "       [ 5.22709247e-02, -3.23988777e-01, -3.31099138e-02],\n",
       "       [ 4.41287378e-04,  1.12372308e-01,  1.25004212e-01],\n",
       "       [ 7.91370306e-02, -1.43266719e-01,  5.20809368e-02],\n",
       "       [-2.71529409e-01,  9.58139850e-02, -4.10690930e-02],\n",
       "       [-7.58599886e-02,  2.11473953e-01,  6.59916787e-02],\n",
       "       [-1.98114673e-02,  3.25925174e-01, -1.88900522e-02],\n",
       "       [-2.15236733e-01, -6.61674151e-03, -7.97228069e-02],\n",
       "       [-8.52869474e-02, -4.54868991e-02,  1.81776124e-01],\n",
       "       [-3.17873872e-01, -5.00410695e-03,  2.74312022e-01],\n",
       "       [-2.56697406e-01, -2.52524664e-01,  8.48325600e-02],\n",
       "       [ 6.87283327e-02,  2.55013582e-01, -1.14591512e-01],\n",
       "       [-2.63254784e-01,  3.03913765e-01, -3.04301181e-01],\n",
       "       [ 2.49161251e-01, -1.57671710e-01,  8.75571120e-02],\n",
       "       [-1.98673502e-01,  2.14671912e-01, -1.89495051e-01],\n",
       "       [-4.59403003e-02,  2.04353868e-01,  2.27361836e-01],\n",
       "       [ 7.64131802e-02,  2.52120942e-01, -1.75540234e-01],\n",
       "       [-1.95232206e-01,  1.69610425e-02, -1.35020865e-01],\n",
       "       [-2.15817787e-01,  1.22040324e-01, -2.56928157e-01],\n",
       "       [-3.28443088e-01,  3.26392955e-01,  9.71235957e-02],\n",
       "       [ 6.52615418e-02,  1.62982784e-01, -2.77772468e-01],\n",
       "       [-1.06954476e-01, -1.82748624e-01, -2.30851985e-01],\n",
       "       [-1.03560258e-01,  2.49776694e-01,  2.39589555e-01],\n",
       "       [-2.51361697e-01, -2.62613604e-01, -3.43346629e-02],\n",
       "       [ 5.52044588e-02,  1.71414602e-01, -1.18827697e-01],\n",
       "       [ 2.04645160e-01, -1.57695147e-01, -7.46836992e-02],\n",
       "       [-2.54150013e-01,  2.00084150e-01, -2.77762288e-01],\n",
       "       [ 1.91226654e-01, -1.15839953e-01,  1.95446804e-01],\n",
       "       [ 3.25631354e-01, -1.55219633e-01, -1.36220152e-01],\n",
       "       [ 8.59434276e-02,  2.44324599e-01, -1.80598534e-01],\n",
       "       [-4.41759258e-02,  2.88086579e-01,  2.32770906e-01],\n",
       "       [-2.27196580e-01,  2.72331912e-01, -1.53109214e-01],\n",
       "       [ 1.47937296e-01, -1.28297016e-01, -2.28099160e-01],\n",
       "       [ 9.75527646e-02,  3.31250187e-01,  1.80018836e-01],\n",
       "       [-2.40869627e-03, -2.62345740e-01, -2.93019352e-01],\n",
       "       [ 1.42517039e-01, -3.26917253e-01,  3.24664042e-01],\n",
       "       [ 2.66350592e-01, -1.89474157e-01, -3.76501731e-02],\n",
       "       [ 3.00491876e-01,  7.70405853e-02,  1.38895227e-01],\n",
       "       [-2.24919571e-01,  1.38375653e-04, -1.22365187e-01],\n",
       "       [ 1.89472971e-01, -6.99390524e-02,  1.75359377e-01],\n",
       "       [ 2.40847084e-01,  2.17245088e-01, -1.29960940e-01],\n",
       "       [ 1.17031088e-01,  1.25207417e-01, -2.13111306e-01],\n",
       "       [-1.48790790e-01,  2.42009355e-01, -2.72889122e-01],\n",
       "       [-6.55964475e-03, -2.67211611e-01, -2.75637870e-01],\n",
       "       [-1.85542712e-01, -7.13208125e-02, -1.43045237e-01],\n",
       "       [ 2.14837170e-01,  3.09019053e-01, -1.03940169e-01],\n",
       "       [-2.08291133e-01, -1.55812903e-01, -2.71145936e-01],\n",
       "       [-1.55833854e-01, -2.88308172e-01,  2.45174658e-01],\n",
       "       [-3.11004925e-01,  1.66460354e-01,  1.48310637e-01],\n",
       "       [ 1.11900762e-01,  1.59711839e-01, -1.06092199e-01],\n",
       "       [ 2.52702535e-01,  2.63918522e-01,  8.81508771e-02],\n",
       "       [-2.96912130e-01,  2.00037590e-01, -1.35534414e-01],\n",
       "       [ 2.57644746e-01,  2.17801439e-01, -1.37936016e-01],\n",
       "       [-2.21287471e-02,  1.87488209e-01,  6.54050559e-02],\n",
       "       [-3.13781890e-01,  8.90421404e-02, -2.65601600e-03],\n",
       "       [ 1.73633876e-02,  4.70498687e-02,  1.99892821e-01],\n",
       "       [-1.75870723e-01, -2.34269032e-01, -1.44870264e-01],\n",
       "       [ 2.60912112e-01,  8.12053627e-02,  3.86306769e-02],\n",
       "       [ 2.07535825e-01, -2.98946883e-01, -2.94085800e-01],\n",
       "       [-2.28341327e-02, -1.05874587e-01,  3.06311986e-03],\n",
       "       [ 2.88008753e-01,  1.71295755e-01, -1.44628284e-03],\n",
       "       [-3.12911107e-01, -1.94018364e-01,  1.04187514e-01],\n",
       "       [-2.65559378e-01,  1.87606865e-01, -3.14186465e-01],\n",
       "       [ 3.12564575e-01, -1.41561571e-01,  2.97041688e-01],\n",
       "       [-1.61079637e-01, -6.04344631e-02, -3.16709214e-01],\n",
       "       [-9.79493115e-02,  2.56336113e-01,  2.40368610e-01],\n",
       "       [ 2.07487179e-01,  1.37615049e-01,  3.01609274e-01],\n",
       "       [ 2.98452807e-01, -1.98587552e-01, -9.27371231e-02],\n",
       "       [ 1.34487459e-01,  1.37004951e-01, -2.08067897e-01],\n",
       "       [-3.24649739e-01,  2.79299579e-01,  2.42697497e-01],\n",
       "       [ 1.48755627e-01, -2.56194465e-02,  2.16687251e-01],\n",
       "       [ 2.82086858e-01, -2.73028509e-01,  1.49601622e-01],\n",
       "       [-2.90566692e-01, -1.46843110e-01, -4.20095301e-02],\n",
       "       [-2.02395486e-01,  2.76415604e-01,  2.92878761e-01],\n",
       "       [ 1.29300728e-01, -2.25682761e-01, -1.39203475e-01],\n",
       "       [-2.94574241e-01, -1.60448086e-02, -1.33783822e-01],\n",
       "       [-1.80234848e-01,  1.27149669e-01,  3.46658132e-02],\n",
       "       [-3.28310685e-01,  2.48574245e-01,  1.82136367e-01],\n",
       "       [-2.24348578e-01,  7.15601086e-02, -1.00090791e-01],\n",
       "       [ 1.35871520e-01,  1.78353047e-01,  1.14648325e-01],\n",
       "       [-2.93504246e-02, -7.33876121e-02,  2.60776669e-01],\n",
       "       [-9.32936487e-02,  2.09428551e-02, -2.79570179e-01],\n",
       "       [ 6.37399122e-02,  2.17366633e-01,  3.02729114e-01],\n",
       "       [ 9.07693126e-02,  1.59002147e-01,  2.41856391e-02],\n",
       "       [ 3.29090325e-01, -1.17795784e-01, -2.89107948e-01],\n",
       "       [-3.24646432e-02,  1.63737182e-01,  2.09973144e-02],\n",
       "       [ 1.80119330e-01, -6.34746381e-02,  2.19125711e-01],\n",
       "       [-1.39888719e-01, -8.80666022e-02, -1.42371440e-01],\n",
       "       [ 3.31763098e-01,  8.68652514e-02,  3.15174893e-01],\n",
       "       [-2.97656020e-01,  8.69786170e-02, -3.21062047e-01],\n",
       "       [-5.32967716e-02, -3.10244442e-01,  5.49010428e-02],\n",
       "       [-5.42176967e-02, -7.62270050e-02, -5.57502908e-02],\n",
       "       [-8.98274483e-02, -1.12891073e-01, -1.41591575e-01],\n",
       "       [ 3.26933775e-02,  1.13416765e-01,  9.83869429e-02],\n",
       "       [-8.30560535e-02, -1.24896527e-01, -2.28530639e-02],\n",
       "       [-2.50228276e-01,  1.14537667e-02, -3.41017652e-03],\n",
       "       [-1.38776547e-01, -2.50449609e-01, -6.21100653e-02],\n",
       "       [ 1.44905560e-01, -2.75800643e-01,  2.65509337e-01],\n",
       "       [-3.20089696e-01,  3.27402651e-01, -1.72856493e-01],\n",
       "       [ 1.15474683e-01, -2.45068819e-01, -4.92954020e-02],\n",
       "       [ 2.05133386e-01,  3.27483684e-01, -1.93659902e-01],\n",
       "       [-2.17767265e-01,  8.70771976e-02,  1.87124947e-01],\n",
       "       [ 7.27246238e-02, -1.40465442e-01, -2.69193721e-01],\n",
       "       [-9.97701910e-03,  1.07729750e-01, -2.68065630e-01],\n",
       "       [ 3.03733136e-01,  3.22867206e-01,  1.49238218e-01],\n",
       "       [-2.78795783e-01, -1.14419874e-02, -7.20286782e-02],\n",
       "       [ 2.27085067e-01,  2.25468966e-03,  3.30907780e-01],\n",
       "       [ 8.96872448e-02,  1.61653251e-02,  1.85384909e-01],\n",
       "       [ 2.09636861e-02,  1.59974804e-01, -2.01092462e-01],\n",
       "       [ 2.89371780e-01, -1.56939225e-01,  3.21132503e-01],\n",
       "       [-1.60498331e-01, -1.18765721e-01,  1.13698025e-01],\n",
       "       [ 2.58419878e-01, -2.43509871e-01, -2.62146111e-01],\n",
       "       [-1.73732340e-01,  2.78540447e-01, -3.26039184e-01],\n",
       "       [-1.90956096e-02, -2.53887573e-01, -1.00832029e-01],\n",
       "       [ 1.90229262e-01, -1.72023628e-01, -2.31129213e-01],\n",
       "       [ 1.64831891e-01,  1.42491962e-01, -1.59541848e-01],\n",
       "       [-2.63697330e-01,  2.50564149e-01,  1.62164895e-01],\n",
       "       [-3.05547702e-01,  1.00183246e-01,  7.41942823e-02],\n",
       "       [ 4.07308835e-02, -2.31988517e-01, -3.25882263e-01],\n",
       "       [-1.53928260e-01,  2.11032128e-01,  2.48124476e-01],\n",
       "       [-4.75569094e-02,  1.11467076e-01,  1.61397329e-01],\n",
       "       [ 3.24990686e-01, -2.25966590e-01,  2.50815594e-01],\n",
       "       [-1.51945789e-01,  1.08083714e-01, -2.81320222e-01],\n",
       "       [-1.04216758e-01, -1.04818192e-01,  2.88203609e-01],\n",
       "       [-3.03459319e-01,  2.11989847e-01, -1.60581341e-01],\n",
       "       [ 1.34966390e-01, -1.17862102e-01, -2.43005916e-02],\n",
       "       [ 2.27585955e-01,  2.97513116e-01,  3.23156970e-01],\n",
       "       [ 1.01935503e-02,  2.84152144e-01,  2.22278818e-01],\n",
       "       [-1.39242592e-01, -9.10229412e-02,  3.25125351e-01],\n",
       "       [ 1.61950734e-01, -2.86648561e-01, -4.84271868e-02],\n",
       "       [-3.14874702e-01,  1.87709580e-01,  9.93054614e-02],\n",
       "       [ 1.88947588e-01,  1.83665135e-01, -1.59567842e-01],\n",
       "       [ 8.29825603e-02,  1.67331153e-01,  4.33415390e-02],\n",
       "       [-4.90594041e-02, -2.91446169e-01, -1.04161328e-01],\n",
       "       [ 1.60369798e-01, -1.49862405e-01, -2.93917315e-02],\n",
       "       [ 3.12709890e-01, -4.68877085e-02, -1.28360996e-01],\n",
       "       [ 2.49744887e-01,  3.28753915e-01,  2.21007900e-01],\n",
       "       [-9.28652790e-02, -6.89210427e-02,  2.25952258e-01],\n",
       "       [-2.44509281e-01,  3.04169434e-01, -2.59243410e-01],\n",
       "       [-2.23974760e-01, -3.15196226e-01, -9.50514355e-02],\n",
       "       [-8.94209698e-02,  2.46512550e-01, -2.44376339e-02],\n",
       "       [-1.88389365e-01, -6.98384260e-02,  2.25805610e-01],\n",
       "       [-1.12387378e-01,  1.24293193e-01,  2.60368640e-01],\n",
       "       [-7.04497617e-02,  1.72365737e-02,  1.95754470e-01],\n",
       "       [ 4.28703247e-02, -1.06070454e-01, -1.66811253e-01],\n",
       "       [ 1.76556407e-01, -1.65162532e-01,  9.66494270e-02],\n",
       "       [-2.20010409e-01, -4.73485568e-02, -1.48941583e-01],\n",
       "       [-2.12488717e-01, -5.77153871e-03,  2.86460630e-01],\n",
       "       [-2.66543889e-01,  3.10357896e-01,  9.10328100e-02],\n",
       "       [-1.77407989e-02, -2.32471504e-01, -2.99887659e-01]])"
      ]
     },
     "execution_count": 8,
     "metadata": {},
     "output_type": "execute_result"
    }
   ],
   "source": [
    "noised_data = runif_noise(data,1/3)\n",
    "#we stil want the first row from data\n",
    "noised_data[0,:] = data[0,:]\n",
    "(noised_data-data)/data"
   ]
  },
  {
   "cell_type": "code",
   "execution_count": 9,
   "metadata": {},
   "outputs": [
    {
     "data": {
      "image/png": "[encoded data removed]",
      "text/plain": [
       "<Figure size 432x288 with 1 Axes>"
      ]
     },
     "metadata": {
      "needs_background": "light"
     },
     "output_type": "display_data"
    }
   ],
   "source": [
    "plt.plot(t,noised_data[:,0], 'bo') # infected observations\n",
    "plt.plot(t,noised_data[:,1], 'ro') # infected observations\n",
    "plt.plot(t,noised_data[:,2], 'go') # removed observations (recoverd/died)\n",
    "\n",
    "plt.show()"
   ]
  },
  {
   "cell_type": "markdown",
   "metadata": {},
   "source": [
    "We provide a guess for $\\beta$ and $\\gamma$. \n",
    "\n",
    "This example assumes we have information about the infected and removed population, up to 50 days of the epidemic.\n"
   ]
  },
  {
   "cell_type": "code",
   "execution_count": 10,
   "metadata": {},
   "outputs": [
    {
     "data": {
      "text/plain": [
       "array([[4.13048703e+00, 1.54045618e-01],\n",
       "       [9.39724796e+00, 4.63032787e-01],\n",
       "       [2.26338241e+01, 1.79920071e+00],\n",
       "       [4.79865867e+01, 2.75795293e+00],\n",
       "       [1.65196042e+02, 9.60054641e+00],\n",
       "       [4.09779333e+02, 1.85994178e+01],\n",
       "       [5.28999484e+02, 4.79801484e+01],\n",
       "       [1.44654291e+03, 9.06680768e+01],\n",
       "       [4.99428771e+03, 3.11892868e+02],\n",
       "       [1.01035804e+04, 5.48460859e+02],\n",
       "       [2.61947362e+04, 1.40265491e+03],\n",
       "       [3.83891964e+04, 2.23685907e+03],\n",
       "       [1.44615604e+05, 4.71073992e+03],\n",
       "       [2.04841144e+05, 1.28298259e+04],\n",
       "       [3.04860240e+05, 2.65146845e+04],\n",
       "       [7.15472624e+05, 6.60639061e+04],\n",
       "       [5.70803649e+05, 7.57376290e+04],\n",
       "       [9.47231329e+05, 1.54986248e+05],\n",
       "       [9.23953166e+05, 1.93822492e+05],\n",
       "       [6.57801248e+05, 1.50769939e+05],\n",
       "       [8.43171264e+05, 2.49113150e+05],\n",
       "       [5.59341253e+05, 1.85957381e+05],\n",
       "       [6.96237265e+05, 4.03687883e+05],\n",
       "       [5.40067509e+05, 2.66418801e+05],\n",
       "       [4.57478544e+05, 3.88221974e+05],\n",
       "       [4.25920143e+05, 3.91122618e+05],\n",
       "       [3.96908285e+05, 3.71414788e+05],\n",
       "       [6.02102705e+05, 4.23352098e+05],\n",
       "       [6.41769739e+05, 5.18903098e+05],\n",
       "       [4.16901641e+05, 4.04368759e+05],\n",
       "       [3.30039331e+05, 3.78696731e+05],\n",
       "       [5.51529415e+05, 6.43412007e+05],\n",
       "       [5.49787782e+05, 5.35688557e+05],\n",
       "       [2.80979529e+05, 7.42016812e+05],\n",
       "       [4.66284359e+05, 6.14750052e+05],\n",
       "       [3.12148206e+05, 5.29680965e+05],\n",
       "       [3.50953671e+05, 8.72215875e+05],\n",
       "       [4.01568191e+05, 8.08517365e+05],\n",
       "       [2.95505559e+05, 6.81129851e+05],\n",
       "       [3.16315375e+05, 6.59415810e+05],\n",
       "       [1.95777449e+05, 6.79437421e+05],\n",
       "       [1.94280033e+05, 7.21315446e+05],\n",
       "       [1.78501110e+05, 6.75465168e+05],\n",
       "       [2.47404532e+05, 9.85931509e+05],\n",
       "       [2.99943485e+05, 7.64644995e+05],\n",
       "       [1.48078919e+05, 8.98769907e+05],\n",
       "       [2.03910050e+05, 7.10664811e+05],\n",
       "       [1.98269087e+05, 5.50194199e+05],\n",
       "       [2.41973630e+05, 8.36300844e+05],\n",
       "       [1.94887109e+05, 9.06544564e+05],\n",
       "       [1.46665030e+05, 9.13739364e+05],\n",
       "       [1.43779842e+05, 8.80070344e+05],\n",
       "       [1.04096536e+05, 7.21086105e+05],\n",
       "       [1.87776956e+05, 8.93932501e+05],\n",
       "       [9.41454910e+04, 8.32234831e+05],\n",
       "       [1.47360515e+05, 9.75970111e+05],\n",
       "       [1.07959767e+05, 9.19504617e+05],\n",
       "       [1.31352538e+05, 8.43986082e+05],\n",
       "       [1.38134142e+05, 9.44445525e+05],\n",
       "       [1.43810730e+05, 8.74698002e+05],\n",
       "       [1.02488333e+05, 8.25331196e+05],\n",
       "       [9.36752361e+04, 1.06579735e+06],\n",
       "       [9.28858373e+04, 1.15535109e+06],\n",
       "       [6.63758943e+04, 9.88499224e+05],\n",
       "       [1.06010101e+05, 8.10618603e+05],\n",
       "       [1.04769047e+05, 6.39799600e+05],\n",
       "       [6.43799763e+04, 1.00443399e+06],\n",
       "       [8.83107785e+04, 7.51578437e+05],\n",
       "       [8.32902438e+04, 1.14248035e+06],\n",
       "       [8.23704800e+04, 7.70222834e+05],\n",
       "       [6.36377665e+04, 8.10851809e+05],\n",
       "       [6.67889123e+04, 6.98840815e+05],\n",
       "       [7.51023290e+04, 1.03500279e+06],\n",
       "       [6.26382732e+04, 6.83328316e+05],\n",
       "       [4.18704321e+04, 7.29742044e+05],\n",
       "       [6.09073205e+04, 1.17917865e+06],\n",
       "       [3.41835753e+04, 9.20899230e+05],\n",
       "       [5.16557040e+04, 8.42315342e+05],\n",
       "       [3.53315137e+04, 8.86502740e+05],\n",
       "       [4.78839456e+04, 6.93420051e+05],\n",
       "       [3.35578712e+04, 1.15007416e+06],\n",
       "       [3.04994928e+04, 8.32594383e+05],\n",
       "       [4.27334325e+04, 7.91261007e+05],\n",
       "       [4.20789053e+04, 1.19249901e+06],\n",
       "       [3.95371249e+04, 8.20574024e+05],\n",
       "       [2.57666812e+04, 7.49084192e+05],\n",
       "       [3.74313007e+04, 1.14683974e+06],\n",
       "       [1.97293773e+04, 6.88071653e+05],\n",
       "       [1.71243567e+04, 1.29096233e+06],\n",
       "       [1.96154357e+04, 9.39060095e+05],\n",
       "       [2.47941056e+04, 1.11267717e+06],\n",
       "       [2.19008895e+04, 8.58416469e+05],\n",
       "       [1.93730659e+04, 1.15087675e+06],\n",
       "       [2.41184982e+04, 8.52800084e+05],\n",
       "       [2.12075306e+04, 7.72057664e+05],\n",
       "       [2.22673055e+04, 7.14074890e+05],\n",
       "       [1.24970257e+04, 7.12008791e+05],\n",
       "       [1.50653450e+04, 8.43052938e+05],\n",
       "       [2.01996861e+04, 8.82232568e+05],\n",
       "       [1.23914648e+04, 7.18155510e+05],\n",
       "       [9.93713520e+03, 1.22778864e+06],\n",
       "       [1.54926063e+04, 1.13305907e+06],\n",
       "       [1.46517627e+04, 8.82614181e+05],\n",
       "       [1.51895234e+04, 1.07507367e+06],\n",
       "       [1.37184550e+04, 8.54583269e+05],\n",
       "       [1.32425652e+04, 8.52689748e+05],\n",
       "       [1.22831633e+04, 1.05438468e+06],\n",
       "       [1.07154617e+04, 9.87530754e+05],\n",
       "       [9.79983700e+03, 1.18866243e+06],\n",
       "       [6.81730901e+03, 8.47516493e+05],\n",
       "       [9.15651565e+03, 1.02983470e+06],\n",
       "       [5.64752625e+03, 7.00227501e+05],\n",
       "       [6.85158508e+03, 9.95376740e+05],\n",
       "       [8.53777034e+03, 9.91275075e+05],\n",
       "       [5.58841086e+03, 1.09653142e+06],\n",
       "       [7.83287441e+03, 6.81290232e+05],\n",
       "       [5.38570917e+03, 1.28890423e+06],\n",
       "       [5.60720078e+03, 6.79212987e+05],\n",
       "       [7.13198062e+03, 1.23332725e+06],\n",
       "       [6.14306233e+03, 1.29458063e+06],\n",
       "       [4.11652692e+03, 9.02602625e+05],\n",
       "       [5.55549183e+03, 7.88062650e+05],\n",
       "       [5.94590131e+03, 1.23692169e+06],\n",
       "       [4.30783767e+03, 1.21130813e+06],\n",
       "       [3.05726711e+03, 1.14476697e+06],\n",
       "       [3.41295207e+03, 9.54158128e+05],\n",
       "       [4.85711821e+03, 1.28795897e+06],\n",
       "       [2.80279142e+03, 8.57680691e+05],\n",
       "       [3.38791460e+03, 8.63233644e+05],\n",
       "       [3.69167961e+03, 1.03127702e+06],\n",
       "       [3.88993254e+03, 1.17845340e+06],\n",
       "       [3.17562723e+03, 8.97242264e+05],\n",
       "       [3.32180160e+03, 1.11150609e+06],\n",
       "       [2.48474397e+03, 1.25739583e+06],\n",
       "       [2.60417556e+03, 7.18592169e+05],\n",
       "       [2.95376202e+03, 1.29956821e+06],\n",
       "       [2.67499903e+03, 1.02182178e+06],\n",
       "       [1.93684024e+03, 7.09331309e+05],\n",
       "       [2.43032785e+03, 1.01886507e+06],\n",
       "       [1.86043618e+03, 1.21670386e+06],\n",
       "       [1.72323155e+03, 8.56007932e+05],\n",
       "       [1.95362634e+03, 1.31281086e+06],\n",
       "       [1.85854073e+03, 6.77777078e+05],\n",
       "       [1.12184168e+03, 1.05318530e+06],\n",
       "       [1.42917993e+03, 9.42788835e+05],\n",
       "       [1.30552104e+03, 8.57145128e+05],\n",
       "       [1.55865489e+03, 1.09684931e+06],\n",
       "       [1.16529772e+03, 9.75845741e+05],\n",
       "       [1.28117604e+03, 9.95327460e+05],\n",
       "       [9.03127133e+02, 9.36759864e+05],\n",
       "       [8.30025571e+02, 1.26405888e+06],\n",
       "       [1.44717583e+03, 8.26241716e+05],\n",
       "       [7.82908962e+02, 9.49718646e+05],\n",
       "       [1.30953881e+03, 8.05544645e+05],\n",
       "       [1.02008145e+03, 1.18601097e+06],\n",
       "       [7.67225606e+02, 7.30153946e+05],\n",
       "       [9.40543417e+02, 7.31312893e+05],\n",
       "       [1.06843120e+03, 1.14831000e+06],\n",
       "       [7.59482468e+02, 9.27258372e+05],\n",
       "       [7.32451666e+02, 1.32993513e+06],\n",
       "       [7.06399734e+02, 1.18456086e+06],\n",
       "       [7.67043499e+02, 7.98379241e+05],\n",
       "       [5.30292644e+02, 1.32030148e+06],\n",
       "       [5.27270391e+02, 1.11303165e+06],\n",
       "       [4.30556895e+02, 7.37433928e+05],\n",
       "       [6.92192735e+02, 6.73595928e+05],\n",
       "       [3.84239599e+02, 8.98704896e+05],\n",
       "       [4.05602919e+02, 7.68494127e+05],\n",
       "       [5.32379794e+02, 8.40066501e+05],\n",
       "       [5.54318875e+02, 1.16164974e+06],\n",
       "       [4.63878241e+02, 1.07374135e+06],\n",
       "       [3.08029258e+02, 6.73847356e+05],\n",
       "       [4.62024710e+02, 1.24764828e+06],\n",
       "       [4.03358695e+02, 1.16097583e+06],\n",
       "       [2.67202064e+02, 1.25038378e+06],\n",
       "       [3.63863050e+02, 7.18443773e+05],\n",
       "       [2.79615932e+02, 1.28780121e+06],\n",
       "       [3.60109790e+02, 8.39169235e+05],\n",
       "       [2.49320339e+02, 9.75423630e+05],\n",
       "       [3.48833566e+02, 1.32280122e+06],\n",
       "       [3.28403876e+02, 1.22196622e+06],\n",
       "       [2.21121004e+02, 1.32480298e+06],\n",
       "       [1.65069144e+02, 9.51352605e+05],\n",
       "       [2.61431490e+02, 1.09906347e+06],\n",
       "       [2.47834507e+02, 8.40256177e+05],\n",
       "       [2.32494283e+02, 1.04313372e+06],\n",
       "       [1.34238266e+02, 8.95668938e+05],\n",
       "       [1.53206781e+02, 9.70433336e+05],\n",
       "       [1.63387233e+02, 8.71489570e+05],\n",
       "       [2.16672546e+02, 1.22080878e+06],\n",
       "       [1.44421258e+02, 1.22576208e+06],\n",
       "       [1.92426070e+02, 7.40647282e+05],\n",
       "       [9.61128200e+01, 9.04821540e+05],\n",
       "       [1.66416779e+02, 9.75432108e+05],\n",
       "       [1.18125629e+02, 1.22564992e+06],\n",
       "       [1.35815896e+02, 1.26021637e+06],\n",
       "       [1.16890245e+02, 1.19561705e+06],\n",
       "       [9.77113189e+01, 8.33097662e+05],\n",
       "       [8.68018133e+01, 1.09653539e+06],\n",
       "       [9.42206676e+01, 8.50974231e+05],\n",
       "       [9.35370396e+01, 1.28633958e+06],\n",
       "       [1.17266143e+02, 1.09093515e+06],\n",
       "       [6.53374982e+01, 7.00052732e+05]])"
      ]
     },
     "execution_count": 10,
     "metadata": {},
     "output_type": "execute_result"
    }
   ],
   "source": [
    "data_to_fit = noised_data[:,1:3]\n",
    "data_to_fit = data_to_fit[1::,:]\n",
    "data_to_fit"
   ]
  },
  {
   "cell_type": "markdown",
   "metadata": {},
   "source": [
    "## Fitting Square l loss"
   ]
  },
  {
   "cell_type": "code",
   "execution_count": 11,
   "metadata": {},
   "outputs": [
    {
     "data": {
      "text/plain": [
       "[('beta', 3.6), ('gamma', 0.2), ('N', 1000000.0)]"
      ]
     },
     "execution_count": 11,
     "metadata": {},
     "output_type": "execute_result"
    }
   ],
   "source": [
    "param_evals"
   ]
  },
  {
   "cell_type": "code",
   "execution_count": 12,
   "metadata": {
    "scrolled": false
   },
   "outputs": [],
   "source": [
    "# Initial guess of parameters, and bounding constraints\n",
    "theta = [3, 0.15,1e6]\n",
    "boxBounds = [(2,5),(0.0,1.0),(1e6,1e6)]\n",
    "\n",
    "objSIR = SquareLoss(theta, model, x0=data[0,:], t0=t[0], t=t[1::], y=data_to_fit, state_name=['I','R'])"
   ]
  },
  {
   "cell_type": "code",
   "execution_count": 13,
   "metadata": {},
   "outputs": [
    {
     "data": {
      "text/plain": [
       "SquareLoss([3.0, 0.15, 1000000.0], SimulateOde([ODEVariable('S', 'S', None, True), ODEVariable('I', 'I', None, True), ODEVariable('R', 'R', None, True)], [ODEVariable('beta', 'beta', None, True), ODEVariable('gamma', 'gamma', None, True), ODEVariable('N', 'N', None, True)], [], [Transition('S', 'beta*S*I/N', 'T', 'I', None, None), Transition('I', 'gamma*I', 'T', 'R', None, None)], [], []).setParameters({'beta': 3.6, 'gamma': 0.2, 'N': 1000000.0}), [999998.0, 2.0, 0.0], 0.0, [0.25, 0.5, 0.75, 1.0, 1.25, 1.5, 1.75, 2.0, 2.25, 2.5, 2.75, 3.0, 3.25, 3.5, 3.75, 4.0, 4.25, 4.5, 4.75, 5.0, 5.25, 5.5, 5.75, 6.0, 6.25, 6.5, 6.75, 7.0, 7.25, 7.5, 7.75, 8.0, 8.25, 8.5, 8.75, 9.0, 9.25, 9.5, 9.75, 10.0, 10.25, 10.5, 10.75, 11.0, 11.25, 11.5, 11.75, 12.0, 12.25, 12.5, 12.75, 13.0, 13.25, 13.5, 13.75, 14.0, 14.25, 14.5, 14.75, 15.0, 15.25, 15.5, 15.75, 16.0, 16.25, 16.5, 16.75, 17.0, 17.25, 17.5, 17.75, 18.0, 18.25, 18.5, 18.75, 19.0, 19.25, 19.5, 19.75, 20.0, 20.25, 20.5, 20.75, 21.0, 21.25, 21.5, 21.75, 22.0, 22.25, 22.5, 22.75, 23.0, 23.25, 23.5, 23.75, 24.0, 24.25, 24.5, 24.75, 25.0, 25.25, 25.5, 25.75, 26.0, 26.25, 26.5, 26.75, 27.0, 27.25, 27.5, 27.75, 28.0, 28.25, 28.5, 28.75, 29.0, 29.25, 29.5, 29.75, 30.0, 30.25, 30.5, 30.75, 31.0, 31.25, 31.5, 31.75, 32.0, 32.25, 32.5, 32.75, 33.0, 33.25, 33.5, 33.75, 34.0, 34.25, 34.5, 34.75, 35.0, 35.25, 35.5, 35.75, 36.0, 36.25, 36.5, 36.75, 37.0, 37.25, 37.5, 37.75, 38.0, 38.25, 38.5, 38.75, 39.0, 39.25, 39.5, 39.75, 40.0, 40.25, 40.5, 40.75, 41.0, 41.25, 41.5, 41.75, 42.0, 42.25, 42.5, 42.75, 43.0, 43.25, 43.5, 43.75, 44.0, 44.25, 44.5, 44.75, 45.0, 45.25, 45.5, 45.75, 46.0, 46.25, 46.5, 46.75, 47.0, 47.25, 47.5, 47.75, 48.0, 48.25, 48.5, 48.75, 49.0, 49.25, 49.5, 49.75, 50.0, 50.25, 50.5, 50.75], [[4.130487025131687, 0.15404561775936773], [9.397247964980085, 0.46303278732171177], [22.633824079261842, 1.7992007113807156], [47.986586672487206, 2.7579529325485836], [165.196041952231, 9.600546411428384], [409.7793329814416, 18.59941777036534], [528.9994837079726, 47.98014835106094], [1446.5429145036974, 90.66807675329977], [4994.287706241389, 311.89286846212264], [10103.580369113544, 548.4608589124192], [26194.736213578377, 1402.654912118046], [38389.19639311862, 2236.8590689690504], [144615.6038613682, 4710.739919896741], [204841.14352293048, 12829.825865082867], [304860.2404249535, 26514.684493267272], [715472.6235634295, 66063.90607297285], [570803.6488074489, 75737.62898047472], [947231.3292945497, 154986.247976831], [923953.16649091, 193822.49178823238], [657801.2480252209, 150769.93914359063], [843171.2637992136, 249113.1495604983], [559341.2527328188, 185957.3813357946], [696237.264525381, 403687.88293160085], [540067.5094137926, 266418.8007305509], [457478.5443022633, 388221.974041893], [425920.1427231567, 391122.61823234084], [396908.2854576274, 371414.7879418473], [602102.7053746057, 423352.09770557744], [641769.7394061629, 518903.09780880454], [416901.64080071973, 404368.7588933208], [330039.3314030553, 378696.7305775569], [551529.4145009269, 643412.0070484518], [549787.7820911882, 535688.556709061], [280979.5285986585, 742016.811538869], [466284.35882357555, 614750.051516308], [312148.2058862273, 529680.9650844566], [350953.6705610238, 872215.874672448], [401568.19082765863, 808517.3646270183], [295505.55911352474, 681129.850659894], [316315.37513281166, 659415.8097179801], [195777.4490952229, 679437.4206703037], [194280.03265693723, 721315.4457581254], [178501.10961662387, 675465.1683738899], [247404.53170668957, 985931.5093514766], [299943.4851962682, 764644.9954514606], [148078.91870689174, 898769.9073671738], [203910.04957668108, 710664.8108294513], [198269.08657707038, 550194.198541208], [241973.63044169324, 836300.8441740677], [194887.10906344195, 906544.5642488404], [146665.03014024382, 913739.3641712739], [143779.84227086403, 880070.3435878769], [104096.5358741194, 721086.1047601945], [187776.95624604076, 893932.5009312815], [94145.49095393051, 832234.8307984242], [147360.51529741898, 975970.1109512364], [107959.76674711499, 919504.6172384012], [131352.53801677615, 843986.0818510734], [138134.14244997536, 944445.5248128581], [143810.73000588483, 874698.002250221], [102488.3325125742, 825331.1957907011], [93675.23614669341, 1065797.3512993983], [92885.83732391837, 1155351.0857456843], [66375.89434895372, 988499.2242781295], [106010.1011427728, 810618.6033656059], [104769.0474474182, 639799.6000771984], [64379.976276675065, 1004433.9910370467], [88310.77848764382, 751578.4374513394], [83290.24377534064, 1142480.3506778087], [82370.47996389655, 770222.8341590352], [63637.766473583026, 810851.8091807761], [66788.91229470367, 698840.8146168891], [75102.3290490617, 1035002.7902780143], [62638.27317992859, 683328.3156147334], [41870.43206330126, 729742.0444708264], [60907.32053788277, 1179178.6549844078], [34183.575255148746, 920899.2296020638], [51655.704042085505, 842315.3424291152], [35331.51366160177, 886502.7398532623], [47883.945613707736, 693420.0510623266], [33557.87124412175, 1150074.1571437381], [30499.492761509304, 832594.3834703927], [42733.43248401154, 791261.006569009], [42078.9053350363, 1192499.0062521168], [39537.12490267918, 820574.0244793433], [25766.68117003718, 749084.1915958913], [37431.3006839491, 1146839.7385431828], [19729.377253022878, 688071.6526254383], [17124.35674302549, 1290962.3295776465], [19615.43572022034, 939060.0950318159], [24794.10562003187, 1112677.165293667], [21900.889529328662, 858416.4692184512], [19373.06594088114, 1150876.7459370985], [24118.498247359745, 852800.0837341312], [21207.530605877277, 772057.6638792764], [22267.30551041926, 714074.8898722631], [12497.025723179937, 712008.7912734993], [15065.344990296639, 843052.9384454926], [20199.686086950154, 882232.5677295076], [12391.464759044167, 718155.5097697747], [9937.135196575824, 1227788.641219967], [15492.606340046807, 1133059.0676593857], [14651.76273816029, 882614.1807004922], [15189.523429391971, 1075073.6739545558], [13718.455011597003, 854583.2693140692], [13242.565179358064, 852689.7481448406], [12283.16329964135, 1054384.679136664], [10715.461680060893, 987530.7540134372], [9799.836999306235, 1188662.432761487], [6817.309005236672, 847516.4934806598], [9156.515653966426, 1029834.6994578489], [5647.526250134233, 700227.501149568], [6851.585075787405, 995376.7395363126], [8537.770338276303, 991275.0750426087], [5588.410860946238, 1096531.4230958493], [7832.874408306464, 681290.2321555684], [5385.709166136957, 1288904.2276863966], [5607.200777069934, 679212.9865083437], [7131.98062301099, 1233327.2530472076], [6143.062328777299, 1294580.6293236036], [4116.526919112113, 902602.6246132584], [5555.49183273859, 788062.6499769951], [5945.901312119126, 1236921.6936202012], [4307.837673987712, 1211308.1303755068], [3057.267111272262, 1144766.9718521282], [3412.952069021781, 954158.1280045257], [4857.118212156462, 1287958.9746543085], [2802.7914200776886, 857680.691013031], [3387.914599774963, 863233.6440396649], [3691.679610334573, 1031277.0232285978], [3889.932537061482, 1178453.4027236914], [3175.6272264942872, 897242.264150536], [3321.8016013704805, 1111506.090775924], [2484.743968904745, 1257395.831926505], [2604.1755637616475, 718592.1692915799], [2953.762015063723, 1299568.2114593633], [2674.99903287432, 1021821.7828949532], [1936.840241672874, 709331.3091161926], [2430.32784824078, 1018865.0657590512], [1860.436184602949, 1216703.8610504132], [1723.2315526850525, 856007.9319208895], [1953.6263447660579, 1312810.8625858119], [1858.5407262503563, 677777.0784941971], [1121.841683026275, 1053185.2996789496], [1429.1799261633125, 942788.834721557], [1305.5210429480653, 857145.1282976748], [1558.6548858562132, 1096849.3108424598], [1165.2977247587564, 975845.740861295], [1281.1760431911907, 995327.4595873987], [903.127132888626, 936759.8641734732], [830.0255705095318, 1264058.880523917], [1447.175826672647, 826241.7163334353], [782.9089616625392, 949718.6455322991], [1309.5388116616314, 805544.6451139126], [1020.0814509483284, 1186010.9653905143], [767.2256057638687, 730153.9456574344], [940.5434165348748, 731312.8929979993], [1068.431197781994, 1148310.00282886], [759.4824678568447, 927258.3721201726], [732.4516659883362, 1329935.1271868325], [706.3997339170826, 1184560.8555669347], [767.0434989984218, 798379.2411034874], [530.2926441714136, 1320301.478595184], [527.2703906339111, 1113031.6474556928], [430.5568953988018, 737433.9280313611], [692.1927353827714, 673595.9280200478], [384.23959921185053, 898704.8958790172], [405.6029193272436, 768494.1267053746], [532.3797944208193, 840066.5011984787], [554.3188745851079, 1161649.7413965538], [463.87824061723234, 1073741.3455026292], [308.0292581421485, 673847.3559565375], [462.02471007201643, 1247648.281420697], [403.35869455867373, 1160975.832082224], [267.2020640147793, 1250383.7841186798], [363.8630500648634, 718443.7734347496], [279.6159322070644, 1287801.210123048], [360.1097904304585, 839169.2354281674], [249.32033940693356, 975423.6296495761], [348.83356604943486, 1322801.2214118955], [328.40387580328803, 1221966.218413916], [221.1210037522975, 1324802.975776162], [165.06914366017043, 951352.6052332598], [261.4314897243031, 1099063.4721241775], [247.83450742057468, 840256.1768109152], [232.49428280316337, 1043133.7234717476], [134.23826614735785, 895668.9384443999], [153.20678095501415, 970433.3364156254], [163.3872329739676, 871489.5702094157], [216.6725459496833, 1220808.7783561496], [144.4212576438835, 1225762.0801782524], [192.42606995989752, 740647.2823234415], [96.11282000434359, 904821.5403045765], [166.41677897191434, 975432.1078972422], [118.12562865687576, 1225649.9201249767], [135.81589553462987, 1260216.3663823903], [116.89024486149172, 1195617.0482448642], [97.71131894635056, 833097.6624037084], [86.8018133066483, 1096535.386700453], [94.22066759538556, 850974.2314776242], [93.53703959337743, 1286339.5796547756], [117.26614306573515, 1090935.1549952293], [65.33749823040989, 700052.7320163958]], ['I', 'R'], [[1.0, 1.0], [1.0, 1.0], [1.0, 1.0], [1.0, 1.0], [1.0, 1.0], [1.0, 1.0], [1.0, 1.0], [1.0, 1.0], [1.0, 1.0], [1.0, 1.0], [1.0, 1.0], [1.0, 1.0], [1.0, 1.0], [1.0, 1.0], [1.0, 1.0], [1.0, 1.0], [1.0, 1.0], [1.0, 1.0], [1.0, 1.0], [1.0, 1.0], [1.0, 1.0], [1.0, 1.0], [1.0, 1.0], [1.0, 1.0], [1.0, 1.0], [1.0, 1.0], [1.0, 1.0], [1.0, 1.0], [1.0, 1.0], [1.0, 1.0], [1.0, 1.0], [1.0, 1.0], [1.0, 1.0], [1.0, 1.0], [1.0, 1.0], [1.0, 1.0], [1.0, 1.0], [1.0, 1.0], [1.0, 1.0], [1.0, 1.0], [1.0, 1.0], [1.0, 1.0], [1.0, 1.0], [1.0, 1.0], [1.0, 1.0], [1.0, 1.0], [1.0, 1.0], [1.0, 1.0], [1.0, 1.0], [1.0, 1.0], [1.0, 1.0], [1.0, 1.0], [1.0, 1.0], [1.0, 1.0], [1.0, 1.0], [1.0, 1.0], [1.0, 1.0], [1.0, 1.0], [1.0, 1.0], [1.0, 1.0], [1.0, 1.0], [1.0, 1.0], [1.0, 1.0], [1.0, 1.0], [1.0, 1.0], [1.0, 1.0], [1.0, 1.0], [1.0, 1.0], [1.0, 1.0], [1.0, 1.0], [1.0, 1.0], [1.0, 1.0], [1.0, 1.0], [1.0, 1.0], [1.0, 1.0], [1.0, 1.0], [1.0, 1.0], [1.0, 1.0], [1.0, 1.0], [1.0, 1.0], [1.0, 1.0], [1.0, 1.0], [1.0, 1.0], [1.0, 1.0], [1.0, 1.0], [1.0, 1.0], [1.0, 1.0], [1.0, 1.0], [1.0, 1.0], [1.0, 1.0], [1.0, 1.0], [1.0, 1.0], [1.0, 1.0], [1.0, 1.0], [1.0, 1.0], [1.0, 1.0], [1.0, 1.0], [1.0, 1.0], [1.0, 1.0], [1.0, 1.0], [1.0, 1.0], [1.0, 1.0], [1.0, 1.0], [1.0, 1.0], [1.0, 1.0], [1.0, 1.0], [1.0, 1.0], [1.0, 1.0], [1.0, 1.0], [1.0, 1.0], [1.0, 1.0], [1.0, 1.0], [1.0, 1.0], [1.0, 1.0], [1.0, 1.0], [1.0, 1.0], [1.0, 1.0], [1.0, 1.0], [1.0, 1.0], [1.0, 1.0], [1.0, 1.0], [1.0, 1.0], [1.0, 1.0], [1.0, 1.0], [1.0, 1.0], [1.0, 1.0], [1.0, 1.0], [1.0, 1.0], [1.0, 1.0], [1.0, 1.0], [1.0, 1.0], [1.0, 1.0], [1.0, 1.0], [1.0, 1.0], [1.0, 1.0], [1.0, 1.0], [1.0, 1.0], [1.0, 1.0], [1.0, 1.0], [1.0, 1.0], [1.0, 1.0], [1.0, 1.0], [1.0, 1.0], [1.0, 1.0], [1.0, 1.0], [1.0, 1.0], [1.0, 1.0], [1.0, 1.0], [1.0, 1.0], [1.0, 1.0], [1.0, 1.0], [1.0, 1.0], [1.0, 1.0], [1.0, 1.0], [1.0, 1.0], [1.0, 1.0], [1.0, 1.0], [1.0, 1.0], [1.0, 1.0], [1.0, 1.0], [1.0, 1.0], [1.0, 1.0], [1.0, 1.0], [1.0, 1.0], [1.0, 1.0], [1.0, 1.0], [1.0, 1.0], [1.0, 1.0], [1.0, 1.0], [1.0, 1.0], [1.0, 1.0], [1.0, 1.0], [1.0, 1.0], [1.0, 1.0], [1.0, 1.0], [1.0, 1.0], [1.0, 1.0], [1.0, 1.0], [1.0, 1.0], [1.0, 1.0], [1.0, 1.0], [1.0, 1.0], [1.0, 1.0], [1.0, 1.0], [1.0, 1.0], [1.0, 1.0], [1.0, 1.0], [1.0, 1.0], [1.0, 1.0], [1.0, 1.0], [1.0, 1.0], [1.0, 1.0], [1.0, 1.0], [1.0, 1.0], [1.0, 1.0], [1.0, 1.0], [1.0, 1.0], [1.0, 1.0], [1.0, 1.0], [1.0, 1.0], [1.0, 1.0], [1.0, 1.0], [1.0, 1.0]])"
      ]
     },
     "execution_count": 13,
     "metadata": {},
     "output_type": "execute_result"
    }
   ],
   "source": [
    "objSIR"
   ]
  },
  {
   "cell_type": "code",
   "execution_count": 14,
   "metadata": {},
   "outputs": [
    {
     "data": {
      "text/plain": [
       "9032988605419.916"
      ]
     },
     "execution_count": 14,
     "metadata": {},
     "output_type": "execute_result"
    }
   ],
   "source": [
    "objSIR.cost()"
   ]
  },
  {
   "cell_type": "code",
   "execution_count": 15,
   "metadata": {},
   "outputs": [
    {
     "name": "stderr",
     "output_type": "stream",
     "text": [
      "C:\\Users\\martin.grunnill\\AppData\\Local\\Continuum\\anaconda3\\envs\\pygomloss20200624\\lib\\site-packages\\scipy\\optimize\\_minimize.py:533: RuntimeWarning: Method BFGS cannot handle constraints nor bounds.\n",
      "  warn('Method %s cannot handle constraints nor bounds.' % method,\n"
     ]
    },
    {
     "name": "stdout",
     "output_type": "stream",
     "text": [
      "      fun: 6195089026101.063\n",
      " hess_inv: array([[ 8.74144835e-12, -2.58712672e-14,  2.68445022e-06],\n",
      "       [-2.58712712e-14,  2.36956010e-15, -5.05342211e-09],\n",
      "       [ 2.68444976e-06, -5.05342099e-09,  8.41021723e-01]])\n",
      "      jac: array([ 4.61669282e+00, -8.58643370e+01, -1.67724298e-05])\n",
      "  message: 'Desired error not necessarily achieved due to precision loss.'\n",
      "     nfev: 57\n",
      "      nit: 11\n",
      "     njev: 46\n",
      "   status: 2\n",
      "  success: False\n",
      "        x: array([4.97711288e+00, 1.97932062e-01, 1.36982257e+06])\n"
     ]
    }
   ],
   "source": [
    "# perform optimization\n",
    "res = minimize(fun=objSIR.cost,\n",
    "                jac=objSIR.sensitivity,\n",
    "                x0=theta,\n",
    "                bounds=boxBounds,\n",
    "                method='BFGS')\n",
    "print(res)"
   ]
  },
  {
   "cell_type": "code",
   "execution_count": 16,
   "metadata": {},
   "outputs": [
    {
     "name": "stdout",
     "output_type": "stream",
     "text": [
      "      fun: 6195089026101.077\n",
      " hess_inv: <3x3 LbfgsInvHessProduct with dtype=float64>\n",
      "      jac: array([ 7.75580656e+04,  3.96915387e+06, -2.81799456e-01])\n",
      "  message: b'CONVERGENCE: REL_REDUCTION_OF_F_<=_FACTR*EPSMCH'\n",
      "     nfev: 16\n",
      "      nit: 10\n",
      "     njev: 16\n",
      "   status: 0\n",
      "  success: True\n",
      "        x: array([3.63339968e+00, 1.97932071e-01, 1.00000000e+06])\n"
     ]
    }
   ],
   "source": [
    "# perform optimization\n",
    "res = minimize(fun=objSIR.cost,\n",
    "                jac=objSIR.sensitivity,\n",
    "                x0=theta,\n",
    "                bounds=boxBounds,\n",
    "                method='L-BFGS-B')\n",
    "print(res)"
   ]
  },
  {
   "cell_type": "code",
   "execution_count": 17,
   "metadata": {},
   "outputs": [
    {
     "data": {
      "text/plain": [
       "[3, 0.15, 1000000.0]"
      ]
     },
     "metadata": {},
     "output_type": "display_data"
    },
    {
     "data": {
      "text/plain": [
       "[(2, 5), (0.0, 1.0), (1000000.0, 1000000.0)]"
      ]
     },
     "metadata": {},
     "output_type": "display_data"
    },
    {
     "data": {
      "text/plain": [
       "[('beta', 3.6), ('gamma', 0.2), ('N', 1000000.0)]"
      ]
     },
     "metadata": {},
     "output_type": "display_data"
    }
   ],
   "source": [
    "display(theta,boxBounds,param_evals)"
   ]
  },
  {
   "cell_type": "markdown",
   "metadata": {},
   "source": [
    "## Fitting Normal loss"
   ]
  },
  {
   "cell_type": "code",
   "execution_count": 18,
   "metadata": {},
   "outputs": [
    {
     "data": {
      "text/plain": [
       "[('beta', 3.6), ('gamma', 0.2), ('N', 1000000.0)]"
      ]
     },
     "execution_count": 18,
     "metadata": {},
     "output_type": "execute_result"
    }
   ],
   "source": [
    "param_evals"
   ]
  },
  {
   "cell_type": "code",
   "execution_count": 19,
   "metadata": {
    "scrolled": false
   },
   "outputs": [],
   "source": [
    "# Initial guess of parameters, and bounding constraints\n",
    "theta = [3, 0.15,1e6]\n",
    "boxBounds = [(2,5),(0.0,1.0),(1e6,1e6)]\n",
    "\n",
    "objSIR = NormalLoss(theta, model, x0=data[0,:], t0=t[0], t=t[1::], y=data_to_fit, state_name=['I','R'])"
   ]
  },
  {
   "cell_type": "code",
   "execution_count": 20,
   "metadata": {},
   "outputs": [
    {
     "data": {
      "text/plain": [
       "NormalLoss([3.0, 0.15, 1000000.0], SimulateOde([ODEVariable('S', 'S', None, True), ODEVariable('I', 'I', None, True), ODEVariable('R', 'R', None, True)], [ODEVariable('beta', 'beta', None, True), ODEVariable('gamma', 'gamma', None, True), ODEVariable('N', 'N', None, True)], [], [Transition('S', 'beta*S*I/N', 'T', 'I', None, None), Transition('I', 'gamma*I', 'T', 'R', None, None)], [], []).setParameters({'beta': 3.6333996818761123, 'gamma': 0.19793207076619318, 'N': 1000000.0}), [999998.0, 2.0, 0.0], 0.0, [0.25, 0.5, 0.75, 1.0, 1.25, 1.5, 1.75, 2.0, 2.25, 2.5, 2.75, 3.0, 3.25, 3.5, 3.75, 4.0, 4.25, 4.5, 4.75, 5.0, 5.25, 5.5, 5.75, 6.0, 6.25, 6.5, 6.75, 7.0, 7.25, 7.5, 7.75, 8.0, 8.25, 8.5, 8.75, 9.0, 9.25, 9.5, 9.75, 10.0, 10.25, 10.5, 10.75, 11.0, 11.25, 11.5, 11.75, 12.0, 12.25, 12.5, 12.75, 13.0, 13.25, 13.5, 13.75, 14.0, 14.25, 14.5, 14.75, 15.0, 15.25, 15.5, 15.75, 16.0, 16.25, 16.5, 16.75, 17.0, 17.25, 17.5, 17.75, 18.0, 18.25, 18.5, 18.75, 19.0, 19.25, 19.5, 19.75, 20.0, 20.25, 20.5, 20.75, 21.0, 21.25, 21.5, 21.75, 22.0, 22.25, 22.5, 22.75, 23.0, 23.25, 23.5, 23.75, 24.0, 24.25, 24.5, 24.75, 25.0, 25.25, 25.5, 25.75, 26.0, 26.25, 26.5, 26.75, 27.0, 27.25, 27.5, 27.75, 28.0, 28.25, 28.5, 28.75, 29.0, 29.25, 29.5, 29.75, 30.0, 30.25, 30.5, 30.75, 31.0, 31.25, 31.5, 31.75, 32.0, 32.25, 32.5, 32.75, 33.0, 33.25, 33.5, 33.75, 34.0, 34.25, 34.5, 34.75, 35.0, 35.25, 35.5, 35.75, 36.0, 36.25, 36.5, 36.75, 37.0, 37.25, 37.5, 37.75, 38.0, 38.25, 38.5, 38.75, 39.0, 39.25, 39.5, 39.75, 40.0, 40.25, 40.5, 40.75, 41.0, 41.25, 41.5, 41.75, 42.0, 42.25, 42.5, 42.75, 43.0, 43.25, 43.5, 43.75, 44.0, 44.25, 44.5, 44.75, 45.0, 45.25, 45.5, 45.75, 46.0, 46.25, 46.5, 46.75, 47.0, 47.25, 47.5, 47.75, 48.0, 48.25, 48.5, 48.75, 49.0, 49.25, 49.5, 49.75, 50.0, 50.25, 50.5, 50.75], [[4.130487025131687, 0.15404561775936773], [9.397247964980085, 0.46303278732171177], [22.633824079261842, 1.7992007113807156], [47.986586672487206, 2.7579529325485836], [165.196041952231, 9.600546411428384], [409.7793329814416, 18.59941777036534], [528.9994837079726, 47.98014835106094], [1446.5429145036974, 90.66807675329977], [4994.287706241389, 311.89286846212264], [10103.580369113544, 548.4608589124192], [26194.736213578377, 1402.654912118046], [38389.19639311862, 2236.8590689690504], [144615.6038613682, 4710.739919896741], [204841.14352293048, 12829.825865082867], [304860.2404249535, 26514.684493267272], [715472.6235634295, 66063.90607297285], [570803.6488074489, 75737.62898047472], [947231.3292945497, 154986.247976831], [923953.16649091, 193822.49178823238], [657801.2480252209, 150769.93914359063], [843171.2637992136, 249113.1495604983], [559341.2527328188, 185957.3813357946], [696237.264525381, 403687.88293160085], [540067.5094137926, 266418.8007305509], [457478.5443022633, 388221.974041893], [425920.1427231567, 391122.61823234084], [396908.2854576274, 371414.7879418473], [602102.7053746057, 423352.09770557744], [641769.7394061629, 518903.09780880454], [416901.64080071973, 404368.7588933208], [330039.3314030553, 378696.7305775569], [551529.4145009269, 643412.0070484518], [549787.7820911882, 535688.556709061], [280979.5285986585, 742016.811538869], [466284.35882357555, 614750.051516308], [312148.2058862273, 529680.9650844566], [350953.6705610238, 872215.874672448], [401568.19082765863, 808517.3646270183], [295505.55911352474, 681129.850659894], [316315.37513281166, 659415.8097179801], [195777.4490952229, 679437.4206703037], [194280.03265693723, 721315.4457581254], [178501.10961662387, 675465.1683738899], [247404.53170668957, 985931.5093514766], [299943.4851962682, 764644.9954514606], [148078.91870689174, 898769.9073671738], [203910.04957668108, 710664.8108294513], [198269.08657707038, 550194.198541208], [241973.63044169324, 836300.8441740677], [194887.10906344195, 906544.5642488404], [146665.03014024382, 913739.3641712739], [143779.84227086403, 880070.3435878769], [104096.5358741194, 721086.1047601945], [187776.95624604076, 893932.5009312815], [94145.49095393051, 832234.8307984242], [147360.51529741898, 975970.1109512364], [107959.76674711499, 919504.6172384012], [131352.53801677615, 843986.0818510734], [138134.14244997536, 944445.5248128581], [143810.73000588483, 874698.002250221], [102488.3325125742, 825331.1957907011], [93675.23614669341, 1065797.3512993983], [92885.83732391837, 1155351.0857456843], [66375.89434895372, 988499.2242781295], [106010.1011427728, 810618.6033656059], [104769.0474474182, 639799.6000771984], [64379.976276675065, 1004433.9910370467], [88310.77848764382, 751578.4374513394], [83290.24377534064, 1142480.3506778087], [82370.47996389655, 770222.8341590352], [63637.766473583026, 810851.8091807761], [66788.91229470367, 698840.8146168891], [75102.3290490617, 1035002.7902780143], [62638.27317992859, 683328.3156147334], [41870.43206330126, 729742.0444708264], [60907.32053788277, 1179178.6549844078], [34183.575255148746, 920899.2296020638], [51655.704042085505, 842315.3424291152], [35331.51366160177, 886502.7398532623], [47883.945613707736, 693420.0510623266], [33557.87124412175, 1150074.1571437381], [30499.492761509304, 832594.3834703927], [42733.43248401154, 791261.006569009], [42078.9053350363, 1192499.0062521168], [39537.12490267918, 820574.0244793433], [25766.68117003718, 749084.1915958913], [37431.3006839491, 1146839.7385431828], [19729.377253022878, 688071.6526254383], [17124.35674302549, 1290962.3295776465], [19615.43572022034, 939060.0950318159], [24794.10562003187, 1112677.165293667], [21900.889529328662, 858416.4692184512], [19373.06594088114, 1150876.7459370985], [24118.498247359745, 852800.0837341312], [21207.530605877277, 772057.6638792764], [22267.30551041926, 714074.8898722631], [12497.025723179937, 712008.7912734993], [15065.344990296639, 843052.9384454926], [20199.686086950154, 882232.5677295076], [12391.464759044167, 718155.5097697747], [9937.135196575824, 1227788.641219967], [15492.606340046807, 1133059.0676593857], [14651.76273816029, 882614.1807004922], [15189.523429391971, 1075073.6739545558], [13718.455011597003, 854583.2693140692], [13242.565179358064, 852689.7481448406], [12283.16329964135, 1054384.679136664], [10715.461680060893, 987530.7540134372], [9799.836999306235, 1188662.432761487], [6817.309005236672, 847516.4934806598], [9156.515653966426, 1029834.6994578489], [5647.526250134233, 700227.501149568], [6851.585075787405, 995376.7395363126], [8537.770338276303, 991275.0750426087], [5588.410860946238, 1096531.4230958493], [7832.874408306464, 681290.2321555684], [5385.709166136957, 1288904.2276863966], [5607.200777069934, 679212.9865083437], [7131.98062301099, 1233327.2530472076], [6143.062328777299, 1294580.6293236036], [4116.526919112113, 902602.6246132584], [5555.49183273859, 788062.6499769951], [5945.901312119126, 1236921.6936202012], [4307.837673987712, 1211308.1303755068], [3057.267111272262, 1144766.9718521282], [3412.952069021781, 954158.1280045257], [4857.118212156462, 1287958.9746543085], [2802.7914200776886, 857680.691013031], [3387.914599774963, 863233.6440396649], [3691.679610334573, 1031277.0232285978], [3889.932537061482, 1178453.4027236914], [3175.6272264942872, 897242.264150536], [3321.8016013704805, 1111506.090775924], [2484.743968904745, 1257395.831926505], [2604.1755637616475, 718592.1692915799], [2953.762015063723, 1299568.2114593633], [2674.99903287432, 1021821.7828949532], [1936.840241672874, 709331.3091161926], [2430.32784824078, 1018865.0657590512], [1860.436184602949, 1216703.8610504132], [1723.2315526850525, 856007.9319208895], [1953.6263447660579, 1312810.8625858119], [1858.5407262503563, 677777.0784941971], [1121.841683026275, 1053185.2996789496], [1429.1799261633125, 942788.834721557], [1305.5210429480653, 857145.1282976748], [1558.6548858562132, 1096849.3108424598], [1165.2977247587564, 975845.740861295], [1281.1760431911907, 995327.4595873987], [903.127132888626, 936759.8641734732], [830.0255705095318, 1264058.880523917], [1447.175826672647, 826241.7163334353], [782.9089616625392, 949718.6455322991], [1309.5388116616314, 805544.6451139126], [1020.0814509483284, 1186010.9653905143], [767.2256057638687, 730153.9456574344], [940.5434165348748, 731312.8929979993], [1068.431197781994, 1148310.00282886], [759.4824678568447, 927258.3721201726], [732.4516659883362, 1329935.1271868325], [706.3997339170826, 1184560.8555669347], [767.0434989984218, 798379.2411034874], [530.2926441714136, 1320301.478595184], [527.2703906339111, 1113031.6474556928], [430.5568953988018, 737433.9280313611], [692.1927353827714, 673595.9280200478], [384.23959921185053, 898704.8958790172], [405.6029193272436, 768494.1267053746], [532.3797944208193, 840066.5011984787], [554.3188745851079, 1161649.7413965538], [463.87824061723234, 1073741.3455026292], [308.0292581421485, 673847.3559565375], [462.02471007201643, 1247648.281420697], [403.35869455867373, 1160975.832082224], [267.2020640147793, 1250383.7841186798], [363.8630500648634, 718443.7734347496], [279.6159322070644, 1287801.210123048], [360.1097904304585, 839169.2354281674], [249.32033940693356, 975423.6296495761], [348.83356604943486, 1322801.2214118955], [328.40387580328803, 1221966.218413916], [221.1210037522975, 1324802.975776162], [165.06914366017043, 951352.6052332598], [261.4314897243031, 1099063.4721241775], [247.83450742057468, 840256.1768109152], [232.49428280316337, 1043133.7234717476], [134.23826614735785, 895668.9384443999], [153.20678095501415, 970433.3364156254], [163.3872329739676, 871489.5702094157], [216.6725459496833, 1220808.7783561496], [144.4212576438835, 1225762.0801782524], [192.42606995989752, 740647.2823234415], [96.11282000434359, 904821.5403045765], [166.41677897191434, 975432.1078972422], [118.12562865687576, 1225649.9201249767], [135.81589553462987, 1260216.3663823903], [116.89024486149172, 1195617.0482448642], [97.71131894635056, 833097.6624037084], [86.8018133066483, 1096535.386700453], [94.22066759538556, 850974.2314776242], [93.53703959337743, 1286339.5796547756], [117.26614306573515, 1090935.1549952293], [65.33749823040989, 700052.7320163958]], ['I', 'R'], [[1.0, 1.0], [1.0, 1.0], [1.0, 1.0], [1.0, 1.0], [1.0, 1.0], [1.0, 1.0], [1.0, 1.0], [1.0, 1.0], [1.0, 1.0], [1.0, 1.0], [1.0, 1.0], [1.0, 1.0], [1.0, 1.0], [1.0, 1.0], [1.0, 1.0], [1.0, 1.0], [1.0, 1.0], [1.0, 1.0], [1.0, 1.0], [1.0, 1.0], [1.0, 1.0], [1.0, 1.0], [1.0, 1.0], [1.0, 1.0], [1.0, 1.0], [1.0, 1.0], [1.0, 1.0], [1.0, 1.0], [1.0, 1.0], [1.0, 1.0], [1.0, 1.0], [1.0, 1.0], [1.0, 1.0], [1.0, 1.0], [1.0, 1.0], [1.0, 1.0], [1.0, 1.0], [1.0, 1.0], [1.0, 1.0], [1.0, 1.0], [1.0, 1.0], [1.0, 1.0], [1.0, 1.0], [1.0, 1.0], [1.0, 1.0], [1.0, 1.0], [1.0, 1.0], [1.0, 1.0], [1.0, 1.0], [1.0, 1.0], [1.0, 1.0], [1.0, 1.0], [1.0, 1.0], [1.0, 1.0], [1.0, 1.0], [1.0, 1.0], [1.0, 1.0], [1.0, 1.0], [1.0, 1.0], [1.0, 1.0], [1.0, 1.0], [1.0, 1.0], [1.0, 1.0], [1.0, 1.0], [1.0, 1.0], [1.0, 1.0], [1.0, 1.0], [1.0, 1.0], [1.0, 1.0], [1.0, 1.0], [1.0, 1.0], [1.0, 1.0], [1.0, 1.0], [1.0, 1.0], [1.0, 1.0], [1.0, 1.0], [1.0, 1.0], [1.0, 1.0], [1.0, 1.0], [1.0, 1.0], [1.0, 1.0], [1.0, 1.0], [1.0, 1.0], [1.0, 1.0], [1.0, 1.0], [1.0, 1.0], [1.0, 1.0], [1.0, 1.0], [1.0, 1.0], [1.0, 1.0], [1.0, 1.0], [1.0, 1.0], [1.0, 1.0], [1.0, 1.0], [1.0, 1.0], [1.0, 1.0], [1.0, 1.0], [1.0, 1.0], [1.0, 1.0], [1.0, 1.0], [1.0, 1.0], [1.0, 1.0], [1.0, 1.0], [1.0, 1.0], [1.0, 1.0], [1.0, 1.0], [1.0, 1.0], [1.0, 1.0], [1.0, 1.0], [1.0, 1.0], [1.0, 1.0], [1.0, 1.0], [1.0, 1.0], [1.0, 1.0], [1.0, 1.0], [1.0, 1.0], [1.0, 1.0], [1.0, 1.0], [1.0, 1.0], [1.0, 1.0], [1.0, 1.0], [1.0, 1.0], [1.0, 1.0], [1.0, 1.0], [1.0, 1.0], [1.0, 1.0], [1.0, 1.0], [1.0, 1.0], [1.0, 1.0], [1.0, 1.0], [1.0, 1.0], [1.0, 1.0], [1.0, 1.0], [1.0, 1.0], [1.0, 1.0], [1.0, 1.0], [1.0, 1.0], [1.0, 1.0], [1.0, 1.0], [1.0, 1.0], [1.0, 1.0], [1.0, 1.0], [1.0, 1.0], [1.0, 1.0], [1.0, 1.0], [1.0, 1.0], [1.0, 1.0], [1.0, 1.0], [1.0, 1.0], [1.0, 1.0], [1.0, 1.0], [1.0, 1.0], [1.0, 1.0], [1.0, 1.0], [1.0, 1.0], [1.0, 1.0], [1.0, 1.0], [1.0, 1.0], [1.0, 1.0], [1.0, 1.0], [1.0, 1.0], [1.0, 1.0], [1.0, 1.0], [1.0, 1.0], [1.0, 1.0], [1.0, 1.0], [1.0, 1.0], [1.0, 1.0], [1.0, 1.0], [1.0, 1.0], [1.0, 1.0], [1.0, 1.0], [1.0, 1.0], [1.0, 1.0], [1.0, 1.0], [1.0, 1.0], [1.0, 1.0], [1.0, 1.0], [1.0, 1.0], [1.0, 1.0], [1.0, 1.0], [1.0, 1.0], [1.0, 1.0], [1.0, 1.0], [1.0, 1.0], [1.0, 1.0], [1.0, 1.0], [1.0, 1.0], [1.0, 1.0], [1.0, 1.0], [1.0, 1.0], [1.0, 1.0], [1.0, 1.0], [1.0, 1.0], [1.0, 1.0], [1.0, 1.0], [1.0, 1.0], [1.0, 1.0], [1.0, 1.0], [1.0, 1.0], [1.0, 1.0], [1.0, 1.0], [1.0, 1.0]])"
      ]
     },
     "execution_count": 20,
     "metadata": {},
     "output_type": "execute_result"
    }
   ],
   "source": [
    "objSIR"
   ]
  },
  {
   "cell_type": "code",
   "execution_count": 21,
   "metadata": {},
   "outputs": [
    {
     "data": {
      "text/plain": [
       "4516494303083.047"
      ]
     },
     "execution_count": 21,
     "metadata": {},
     "output_type": "execute_result"
    }
   ],
   "source": [
    "objSIR.cost()"
   ]
  },
  {
   "cell_type": "code",
   "execution_count": 22,
   "metadata": {},
   "outputs": [
    {
     "name": "stderr",
     "output_type": "stream",
     "text": [
      "C:\\Users\\martin.grunnill\\AppData\\Local\\Continuum\\anaconda3\\envs\\pygomloss20200624\\lib\\site-packages\\scipy\\optimize\\_minimize.py:533: RuntimeWarning: Method BFGS cannot handle constraints nor bounds.\n",
      "  warn('Method %s cannot handle constraints nor bounds.' % method,\n"
     ]
    },
    {
     "name": "stdout",
     "output_type": "stream",
     "text": [
      "      fun: 3097544513423.658\n",
      " hess_inv: array([[ 1.03645359e-11, -4.61156610e-14,  3.16936003e-06],\n",
      "       [-4.61156587e-14,  4.75500055e-15, -8.98088545e-09],\n",
      "       [ 3.16936002e-06, -8.98088607e-09,  1.00244138e+00]])\n",
      "      jac: array([ 9.35430284e+04, -3.55363991e+05, -3.39879219e-01])\n",
      "  message: 'Desired error not necessarily achieved due to precision loss.'\n",
      "     nfev: 55\n",
      "      nit: 9\n",
      "     njev: 46\n",
      "   status: 2\n",
      "  success: False\n",
      "        x: array([4.54710725e+00, 1.97932059e-01, 1.25147454e+06])\n"
     ]
    }
   ],
   "source": [
    "# perform optimization\n",
    "res = minimize(fun=objSIR.cost,\n",
    "                jac=objSIR.sensitivity,\n",
    "                x0=theta,\n",
    "                bounds=boxBounds,\n",
    "                method='BFGS')\n",
    "print(res)"
   ]
  },
  {
   "cell_type": "code",
   "execution_count": 23,
   "metadata": {},
   "outputs": [
    {
     "name": "stdout",
     "output_type": "stream",
     "text": [
      "      fun: 3097544513423.661\n",
      " hess_inv: <3x3 LbfgsInvHessProduct with dtype=float64>\n",
      "      jac: array([ 3.87782251e+04,  1.98457720e+06, -1.40896750e-01])\n",
      "  message: b'CONVERGENCE: REL_REDUCTION_OF_F_<=_FACTR*EPSMCH'\n",
      "     nfev: 16\n",
      "      nit: 10\n",
      "     njev: 16\n",
      "   status: 0\n",
      "  success: True\n",
      "        x: array([3.63339968e+00, 1.97932071e-01, 1.00000000e+06])\n"
     ]
    }
   ],
   "source": [
    "# perform optimization\n",
    "res = minimize(fun=objSIR.cost,\n",
    "                jac=objSIR.sensitivity,\n",
    "                x0=theta,\n",
    "                bounds=boxBounds,\n",
    "                method='L-BFGS-B')\n",
    "print(res)"
   ]
  },
  {
   "cell_type": "code",
   "execution_count": 24,
   "metadata": {},
   "outputs": [
    {
     "data": {
      "text/plain": [
       "[3, 0.15, 1000000.0]"
      ]
     },
     "metadata": {},
     "output_type": "display_data"
    },
    {
     "data": {
      "text/plain": [
       "[(2, 5), (0.0, 1.0), (1000000.0, 1000000.0)]"
      ]
     },
     "metadata": {},
     "output_type": "display_data"
    },
    {
     "data": {
      "text/plain": [
       "[('beta', 3.6), ('gamma', 0.2), ('N', 1000000.0)]"
      ]
     },
     "metadata": {},
     "output_type": "display_data"
    }
   ],
   "source": [
    "display(theta,boxBounds,param_evals)"
   ]
  },
  {
   "cell_type": "markdown",
   "metadata": {},
   "source": [
    "## Fitting Gamma loss"
   ]
  },
  {
   "cell_type": "code",
   "execution_count": 25,
   "metadata": {
    "scrolled": false
   },
   "outputs": [],
   "source": [
    "# Initial guess of parameters, and bounding constraints\n",
    "objSIR = GammaLoss(theta, model, x0=data[0,:], t0=t[0], t=t[1::], y=data_to_fit, state_name=['I','R'])"
   ]
  },
  {
   "cell_type": "code",
   "execution_count": 26,
   "metadata": {},
   "outputs": [
    {
     "data": {
      "text/plain": [
       "array([-5.77039500e+02, -6.96845671e+03,  1.73111850e-03])"
      ]
     },
     "execution_count": 26,
     "metadata": {},
     "output_type": "execute_result"
    }
   ],
   "source": [
    "objSIR.sensitivity()"
   ]
  },
  {
   "cell_type": "code",
   "execution_count": 27,
   "metadata": {},
   "outputs": [
    {
     "data": {
      "text/plain": [
       "5058.726988342257"
      ]
     },
     "execution_count": 27,
     "metadata": {},
     "output_type": "execute_result"
    }
   ],
   "source": [
    "objSIR.cost()"
   ]
  },
  {
   "cell_type": "code",
   "execution_count": 28,
   "metadata": {},
   "outputs": [
    {
     "name": "stderr",
     "output_type": "stream",
     "text": [
      "C:\\Users\\martin.grunnill\\AppData\\Local\\Continuum\\anaconda3\\envs\\pygomloss20200624\\lib\\site-packages\\scipy\\optimize\\_minimize.py:533: RuntimeWarning: Method BFGS cannot handle constraints nor bounds.\n",
      "  warn('Method %s cannot handle constraints nor bounds.' % method,\n"
     ]
    },
    {
     "name": "stdout",
     "output_type": "stream",
     "text": [
      "      fun: 4717.132458517435\n",
      " hess_inv: array([[ 3.86858865e-03, -3.00734373e-05,  3.30190074e-06],\n",
      "       [-3.00734373e-05,  3.91747625e-06,  2.36516472e-08],\n",
      "       [ 3.30190074e-06,  2.36516472e-08,  1.00000000e+00]])\n",
      "      jac: array([ 2.13941642e-10,  3.42940432e-08, -7.68280694e-16])\n",
      "  message: 'Optimization terminated successfully.'\n",
      "     nfev: 28\n",
      "      nit: 12\n",
      "     njev: 27\n",
      "   status: 0\n",
      "  success: True\n",
      "        x: array([3.59089103e+00, 1.99441546e-01, 1.00000000e+06])\n"
     ]
    }
   ],
   "source": [
    "# perform optimization\n",
    "res = minimize(fun=objSIR.cost,\n",
    "                jac=objSIR.sensitivity,\n",
    "                x0=theta,\n",
    "                bounds=boxBounds,\n",
    "                method='BFGS')\n",
    "print(res)"
   ]
  },
  {
   "cell_type": "code",
   "execution_count": 29,
   "metadata": {},
   "outputs": [
    {
     "name": "stderr",
     "output_type": "stream",
     "text": [
      "C:\\Users\\martin.grunnill\\AppData\\Roaming\\Python\\Python38\\site-packages\\pygom-0.1.7.dev8+g3f90a1d.d20200630-py3.8-win-amd64.egg\\pygom\\utilR\\distn.py:108: RuntimeWarning: invalid value encountered in log\n",
      "  logpdf_p3= -shape*np.log(mu/shape)\n"
     ]
    },
    {
     "name": "stdout",
     "output_type": "stream",
     "text": [
      "      fun: 4717.132458530734\n",
      " hess_inv: <3x3 LbfgsInvHessProduct with dtype=float64>\n",
      "      jac: array([ 1.00361678e-03, -6.86270665e-02, -3.60388445e-09])\n",
      "  message: b'CONVERGENCE: REL_REDUCTION_OF_F_<=_FACTR*EPSMCH'\n",
      "     nfev: 17\n",
      "      nit: 10\n",
      "     njev: 17\n",
      "   status: 0\n",
      "  success: True\n",
      "        x: array([3.59089697e+00, 1.99441247e-01, 1.00000000e+06])\n"
     ]
    }
   ],
   "source": [
    "# perform optimization\n",
    "res = minimize(fun=objSIR.cost,\n",
    "                jac=objSIR.sensitivity,\n",
    "                x0=theta,\n",
    "                bounds=boxBounds,\n",
    "                method='L-BFGS-B')\n",
    "print(res)"
   ]
  },
  {
   "cell_type": "code",
   "execution_count": 30,
   "metadata": {},
   "outputs": [
    {
     "data": {
      "text/plain": [
       "[3, 0.15, 1000000.0]"
      ]
     },
     "metadata": {},
     "output_type": "display_data"
    },
    {
     "data": {
      "text/plain": [
       "[(2, 5), (0.0, 1.0), (1000000.0, 1000000.0)]"
      ]
     },
     "metadata": {},
     "output_type": "display_data"
    },
    {
     "data": {
      "text/plain": [
       "[('beta', 3.6), ('gamma', 0.2), ('N', 1000000.0)]"
      ]
     },
     "metadata": {},
     "output_type": "display_data"
    }
   ],
   "source": [
    "display(theta,boxBounds,param_evals)"
   ]
  },
  {
   "cell_type": "markdown",
   "metadata": {},
   "source": [
    "# Adding random noise to produce Count Data"
   ]
  },
  {
   "cell_type": "markdown",
   "metadata": {},
   "source": [
    "Our data needs to a be counts:"
   ]
  },
  {
   "cell_type": "code",
   "execution_count": 31,
   "metadata": {},
   "outputs": [
    {
     "data": {
      "text/plain": [
       "array([[4.000000e+00, 0.000000e+00],\n",
       "       [9.000000e+00, 0.000000e+00],\n",
       "       [2.300000e+01, 2.000000e+00],\n",
       "       [4.800000e+01, 3.000000e+00],\n",
       "       [1.650000e+02, 1.000000e+01],\n",
       "       [4.100000e+02, 1.900000e+01],\n",
       "       [5.290000e+02, 4.800000e+01],\n",
       "       [1.447000e+03, 9.100000e+01],\n",
       "       [4.994000e+03, 3.120000e+02],\n",
       "       [1.010400e+04, 5.480000e+02],\n",
       "       [2.619500e+04, 1.403000e+03],\n",
       "       [3.838900e+04, 2.237000e+03],\n",
       "       [1.446160e+05, 4.711000e+03],\n",
       "       [2.048410e+05, 1.283000e+04],\n",
       "       [3.048600e+05, 2.651500e+04],\n",
       "       [7.154730e+05, 6.606400e+04],\n",
       "       [5.708040e+05, 7.573800e+04],\n",
       "       [9.472310e+05, 1.549860e+05],\n",
       "       [9.239530e+05, 1.938220e+05],\n",
       "       [6.578010e+05, 1.507700e+05],\n",
       "       [8.431710e+05, 2.491130e+05],\n",
       "       [5.593410e+05, 1.859570e+05],\n",
       "       [6.962370e+05, 4.036880e+05],\n",
       "       [5.400680e+05, 2.664190e+05],\n",
       "       [4.574790e+05, 3.882220e+05],\n",
       "       [4.259200e+05, 3.911230e+05],\n",
       "       [3.969080e+05, 3.714150e+05],\n",
       "       [6.021030e+05, 4.233520e+05],\n",
       "       [6.417700e+05, 5.189030e+05],\n",
       "       [4.169020e+05, 4.043690e+05],\n",
       "       [3.300390e+05, 3.786970e+05],\n",
       "       [5.515290e+05, 6.434120e+05],\n",
       "       [5.497880e+05, 5.356890e+05],\n",
       "       [2.809800e+05, 7.420170e+05],\n",
       "       [4.662840e+05, 6.147500e+05],\n",
       "       [3.121480e+05, 5.296810e+05],\n",
       "       [3.509540e+05, 8.722160e+05],\n",
       "       [4.015680e+05, 8.085170e+05],\n",
       "       [2.955060e+05, 6.811300e+05],\n",
       "       [3.163150e+05, 6.594160e+05],\n",
       "       [1.957770e+05, 6.794370e+05],\n",
       "       [1.942800e+05, 7.213150e+05],\n",
       "       [1.785010e+05, 6.754650e+05],\n",
       "       [2.474050e+05, 9.859320e+05],\n",
       "       [2.999430e+05, 7.646450e+05],\n",
       "       [1.480790e+05, 8.987700e+05],\n",
       "       [2.039100e+05, 7.106650e+05],\n",
       "       [1.982690e+05, 5.501940e+05],\n",
       "       [2.419740e+05, 8.363010e+05],\n",
       "       [1.948870e+05, 9.065450e+05],\n",
       "       [1.466650e+05, 9.137390e+05],\n",
       "       [1.437800e+05, 8.800700e+05],\n",
       "       [1.040970e+05, 7.210860e+05],\n",
       "       [1.877770e+05, 8.939330e+05],\n",
       "       [9.414500e+04, 8.322350e+05],\n",
       "       [1.473610e+05, 9.759700e+05],\n",
       "       [1.079600e+05, 9.195050e+05],\n",
       "       [1.313530e+05, 8.439860e+05],\n",
       "       [1.381340e+05, 9.444460e+05],\n",
       "       [1.438110e+05, 8.746980e+05],\n",
       "       [1.024880e+05, 8.253310e+05],\n",
       "       [9.367500e+04, 1.065797e+06],\n",
       "       [9.288600e+04, 1.155351e+06],\n",
       "       [6.637600e+04, 9.884990e+05],\n",
       "       [1.060100e+05, 8.106190e+05],\n",
       "       [1.047690e+05, 6.398000e+05],\n",
       "       [6.438000e+04, 1.004434e+06],\n",
       "       [8.831100e+04, 7.515780e+05],\n",
       "       [8.329000e+04, 1.142480e+06],\n",
       "       [8.237000e+04, 7.702230e+05],\n",
       "       [6.363800e+04, 8.108520e+05],\n",
       "       [6.678900e+04, 6.988410e+05],\n",
       "       [7.510200e+04, 1.035003e+06],\n",
       "       [6.263800e+04, 6.833280e+05],\n",
       "       [4.187000e+04, 7.297420e+05],\n",
       "       [6.090700e+04, 1.179179e+06],\n",
       "       [3.418400e+04, 9.208990e+05],\n",
       "       [5.165600e+04, 8.423150e+05],\n",
       "       [3.533200e+04, 8.865030e+05],\n",
       "       [4.788400e+04, 6.934200e+05],\n",
       "       [3.355800e+04, 1.150074e+06],\n",
       "       [3.049900e+04, 8.325940e+05],\n",
       "       [4.273300e+04, 7.912610e+05],\n",
       "       [4.207900e+04, 1.192499e+06],\n",
       "       [3.953700e+04, 8.205740e+05],\n",
       "       [2.576700e+04, 7.490840e+05],\n",
       "       [3.743100e+04, 1.146840e+06],\n",
       "       [1.972900e+04, 6.880720e+05],\n",
       "       [1.712400e+04, 1.290962e+06],\n",
       "       [1.961500e+04, 9.390600e+05],\n",
       "       [2.479400e+04, 1.112677e+06],\n",
       "       [2.190100e+04, 8.584160e+05],\n",
       "       [1.937300e+04, 1.150877e+06],\n",
       "       [2.411800e+04, 8.528000e+05],\n",
       "       [2.120800e+04, 7.720580e+05],\n",
       "       [2.226700e+04, 7.140750e+05],\n",
       "       [1.249700e+04, 7.120090e+05],\n",
       "       [1.506500e+04, 8.430530e+05],\n",
       "       [2.020000e+04, 8.822330e+05],\n",
       "       [1.239100e+04, 7.181560e+05],\n",
       "       [9.937000e+03, 1.227789e+06],\n",
       "       [1.549300e+04, 1.133059e+06],\n",
       "       [1.465200e+04, 8.826140e+05],\n",
       "       [1.519000e+04, 1.075074e+06],\n",
       "       [1.371800e+04, 8.545830e+05],\n",
       "       [1.324300e+04, 8.526900e+05],\n",
       "       [1.228300e+04, 1.054385e+06],\n",
       "       [1.071500e+04, 9.875310e+05],\n",
       "       [9.800000e+03, 1.188662e+06],\n",
       "       [6.817000e+03, 8.475160e+05],\n",
       "       [9.157000e+03, 1.029835e+06],\n",
       "       [5.648000e+03, 7.002280e+05],\n",
       "       [6.852000e+03, 9.953770e+05],\n",
       "       [8.538000e+03, 9.912750e+05],\n",
       "       [5.588000e+03, 1.096531e+06],\n",
       "       [7.833000e+03, 6.812900e+05],\n",
       "       [5.386000e+03, 1.288904e+06],\n",
       "       [5.607000e+03, 6.792130e+05],\n",
       "       [7.132000e+03, 1.233327e+06],\n",
       "       [6.143000e+03, 1.294581e+06],\n",
       "       [4.117000e+03, 9.026030e+05],\n",
       "       [5.555000e+03, 7.880630e+05],\n",
       "       [5.946000e+03, 1.236922e+06],\n",
       "       [4.308000e+03, 1.211308e+06],\n",
       "       [3.057000e+03, 1.144767e+06],\n",
       "       [3.413000e+03, 9.541580e+05],\n",
       "       [4.857000e+03, 1.287959e+06],\n",
       "       [2.803000e+03, 8.576810e+05],\n",
       "       [3.388000e+03, 8.632340e+05],\n",
       "       [3.692000e+03, 1.031277e+06],\n",
       "       [3.890000e+03, 1.178453e+06],\n",
       "       [3.176000e+03, 8.972420e+05],\n",
       "       [3.322000e+03, 1.111506e+06],\n",
       "       [2.485000e+03, 1.257396e+06],\n",
       "       [2.604000e+03, 7.185920e+05],\n",
       "       [2.954000e+03, 1.299568e+06],\n",
       "       [2.675000e+03, 1.021822e+06],\n",
       "       [1.937000e+03, 7.093310e+05],\n",
       "       [2.430000e+03, 1.018865e+06],\n",
       "       [1.860000e+03, 1.216704e+06],\n",
       "       [1.723000e+03, 8.560080e+05],\n",
       "       [1.954000e+03, 1.312811e+06],\n",
       "       [1.859000e+03, 6.777770e+05],\n",
       "       [1.122000e+03, 1.053185e+06],\n",
       "       [1.429000e+03, 9.427890e+05],\n",
       "       [1.306000e+03, 8.571450e+05],\n",
       "       [1.559000e+03, 1.096849e+06],\n",
       "       [1.165000e+03, 9.758460e+05],\n",
       "       [1.281000e+03, 9.953270e+05],\n",
       "       [9.030000e+02, 9.367600e+05],\n",
       "       [8.300000e+02, 1.264059e+06],\n",
       "       [1.447000e+03, 8.262420e+05],\n",
       "       [7.830000e+02, 9.497190e+05],\n",
       "       [1.310000e+03, 8.055450e+05],\n",
       "       [1.020000e+03, 1.186011e+06],\n",
       "       [7.670000e+02, 7.301540e+05],\n",
       "       [9.410000e+02, 7.313130e+05],\n",
       "       [1.068000e+03, 1.148310e+06],\n",
       "       [7.590000e+02, 9.272580e+05],\n",
       "       [7.320000e+02, 1.329935e+06],\n",
       "       [7.060000e+02, 1.184561e+06],\n",
       "       [7.670000e+02, 7.983790e+05],\n",
       "       [5.300000e+02, 1.320301e+06],\n",
       "       [5.270000e+02, 1.113032e+06],\n",
       "       [4.310000e+02, 7.374340e+05],\n",
       "       [6.920000e+02, 6.735960e+05],\n",
       "       [3.840000e+02, 8.987050e+05],\n",
       "       [4.060000e+02, 7.684940e+05],\n",
       "       [5.320000e+02, 8.400670e+05],\n",
       "       [5.540000e+02, 1.161650e+06],\n",
       "       [4.640000e+02, 1.073741e+06],\n",
       "       [3.080000e+02, 6.738470e+05],\n",
       "       [4.620000e+02, 1.247648e+06],\n",
       "       [4.030000e+02, 1.160976e+06],\n",
       "       [2.670000e+02, 1.250384e+06],\n",
       "       [3.640000e+02, 7.184440e+05],\n",
       "       [2.800000e+02, 1.287801e+06],\n",
       "       [3.600000e+02, 8.391690e+05],\n",
       "       [2.490000e+02, 9.754240e+05],\n",
       "       [3.490000e+02, 1.322801e+06],\n",
       "       [3.280000e+02, 1.221966e+06],\n",
       "       [2.210000e+02, 1.324803e+06],\n",
       "       [1.650000e+02, 9.513530e+05],\n",
       "       [2.610000e+02, 1.099063e+06],\n",
       "       [2.480000e+02, 8.402560e+05],\n",
       "       [2.320000e+02, 1.043134e+06],\n",
       "       [1.340000e+02, 8.956690e+05],\n",
       "       [1.530000e+02, 9.704330e+05],\n",
       "       [1.630000e+02, 8.714900e+05],\n",
       "       [2.170000e+02, 1.220809e+06],\n",
       "       [1.440000e+02, 1.225762e+06],\n",
       "       [1.920000e+02, 7.406470e+05],\n",
       "       [9.600000e+01, 9.048220e+05],\n",
       "       [1.660000e+02, 9.754320e+05],\n",
       "       [1.180000e+02, 1.225650e+06],\n",
       "       [1.360000e+02, 1.260216e+06],\n",
       "       [1.170000e+02, 1.195617e+06],\n",
       "       [9.800000e+01, 8.330980e+05],\n",
       "       [8.700000e+01, 1.096535e+06],\n",
       "       [9.400000e+01, 8.509740e+05],\n",
       "       [9.400000e+01, 1.286340e+06],\n",
       "       [1.170000e+02, 1.090935e+06],\n",
       "       [6.500000e+01, 7.000530e+05]])"
      ]
     },
     "execution_count": 31,
     "metadata": {},
     "output_type": "execute_result"
    }
   ],
   "source": [
    "int_data_to_fit = np.around(data_to_fit)\n",
    "int_data_to_fit "
   ]
  },
  {
   "cell_type": "markdown",
   "metadata": {},
   "source": [
    "## Poisson loss"
   ]
  },
  {
   "cell_type": "code",
   "execution_count": 32,
   "metadata": {
    "scrolled": false
   },
   "outputs": [],
   "source": [
    "# Initial guess of parameters, and bounding constraints\n",
    "objSIR = PoissonLoss(theta, model, x0=data[0,:], t0=t[0], t=t[1::], y=int_data_to_fit, state_name=['I','R'])"
   ]
  },
  {
   "cell_type": "code",
   "execution_count": 33,
   "metadata": {},
   "outputs": [
    {
     "data": {
      "text/plain": [
       "8999599.052695096"
      ]
     },
     "execution_count": 33,
     "metadata": {},
     "output_type": "execute_result"
    }
   ],
   "source": [
    "objSIR.cost()"
   ]
  },
  {
   "cell_type": "code",
   "execution_count": 34,
   "metadata": {},
   "outputs": [
    {
     "name": "stderr",
     "output_type": "stream",
     "text": [
      "C:\\Users\\martin.grunnill\\AppData\\Local\\Continuum\\anaconda3\\envs\\pygomloss20200624\\lib\\site-packages\\scipy\\optimize\\_minimize.py:533: RuntimeWarning: Method BFGS cannot handle constraints nor bounds.\n",
      "  warn('Method %s cannot handle constraints nor bounds.' % method,\n"
     ]
    },
    {
     "name": "stdout",
     "output_type": "stream",
     "text": [
      "      fun: 3555725.9211099287\n",
      " hess_inv: array([[ 1.12854102e-07, -2.48584571e-09,  2.27949584e-06],\n",
      "       [-2.48584571e-09,  9.25888041e-10,  9.47168312e-09],\n",
      "       [ 2.27949584e-06,  9.47168312e-09,  1.00000832e+00]])\n",
      "      jac: array([ 1.48618754e-02, -2.24162553e-02, -5.37171184e-08])\n",
      "  message: 'Desired error not necessarily achieved due to precision loss.'\n",
      "     nfev: 71\n",
      "      nit: 11\n",
      "     njev: 60\n",
      "   status: 2\n",
      "  success: False\n",
      "        x: array([3.61442328e+00, 1.98453976e-01, 9.99999326e+05])\n"
     ]
    }
   ],
   "source": [
    "# perform optimization\n",
    "res = minimize(fun=objSIR.cost,\n",
    "                jac=objSIR.sensitivity,\n",
    "                x0=theta,\n",
    "                bounds=boxBounds,\n",
    "                method='BFGS')\n",
    "print(res)"
   ]
  },
  {
   "cell_type": "code",
   "execution_count": 35,
   "metadata": {},
   "outputs": [
    {
     "name": "stdout",
     "output_type": "stream",
     "text": [
      "      fun: 3555725.9211287573\n",
      " hess_inv: <3x3 LbfgsInvHessProduct with dtype=float64>\n",
      "      jac: array([-7.98496027e-01, -2.01665131e+02,  2.88610490e-06])\n",
      "  message: b'CONVERGENCE: REL_REDUCTION_OF_F_<=_FACTR*EPSMCH'\n",
      "     nfev: 14\n",
      "      nit: 10\n",
      "     njev: 14\n",
      "   status: 0\n",
      "  success: True\n",
      "        x: array([3.61442613e+00, 1.98453791e-01, 1.00000000e+06])\n"
     ]
    }
   ],
   "source": [
    "# perform optimization\n",
    "res = minimize(fun=objSIR.cost,\n",
    "                jac=objSIR.sensitivity,\n",
    "                x0=theta,\n",
    "                bounds=boxBounds,\n",
    "                method='L-BFGS-B')\n",
    "print(res)"
   ]
  },
  {
   "cell_type": "code",
   "execution_count": 36,
   "metadata": {},
   "outputs": [
    {
     "data": {
      "text/plain": [
       "[3, 0.15, 1000000.0]"
      ]
     },
     "metadata": {},
     "output_type": "display_data"
    },
    {
     "data": {
      "text/plain": [
       "[(2, 5), (0.0, 1.0), (1000000.0, 1000000.0)]"
      ]
     },
     "metadata": {},
     "output_type": "display_data"
    },
    {
     "data": {
      "text/plain": [
       "[('beta', 3.6), ('gamma', 0.2), ('N', 1000000.0)]"
      ]
     },
     "metadata": {},
     "output_type": "display_data"
    }
   ],
   "source": [
    "display(theta,boxBounds,param_evals)"
   ]
  },
  {
   "cell_type": "markdown",
   "metadata": {},
   "source": [
    "## NegBinom loss"
   ]
  },
  {
   "cell_type": "code",
   "execution_count": 37,
   "metadata": {
    "scrolled": false
   },
   "outputs": [
    {
     "name": "stderr",
     "output_type": "stream",
     "text": [
      "C:\\Users\\martin.grunnill\\AppData\\Roaming\\Python\\Python38\\site-packages\\pygom-0.1.7.dev8+g3f90a1d.d20200630-py3.8-win-amd64.egg\\pygom\\utilR\\distn.py:450: RuntimeWarning: divide by zero encountered in log\n",
      "  logpmf_p4= x*(np.log(mu) - np.log(k + mu))\n",
      "C:\\Users\\martin.grunnill\\AppData\\Roaming\\Python\\Python38\\site-packages\\pygom-0.1.7.dev8+g3f90a1d.d20200630-py3.8-win-amd64.egg\\pygom\\utilR\\distn.py:450: RuntimeWarning: invalid value encountered in multiply\n",
      "  logpmf_p4= x*(np.log(mu) - np.log(k + mu))\n"
     ]
    }
   ],
   "source": [
    "# Initial guess of parameters, and bounding constraints\n",
    "objSIR = NegBinomLoss(theta, model, x0=data[0,:], t0=t[0], t=t[1::], y=int_data_to_fit, state_name=['I','R'])"
   ]
  },
  {
   "cell_type": "code",
   "execution_count": 38,
   "metadata": {},
   "outputs": [
    {
     "data": {
      "text/plain": [
       "array([-2.86825346e+02, -3.46781844e+03,  8.60476039e-04])"
      ]
     },
     "execution_count": 38,
     "metadata": {},
     "output_type": "execute_result"
    }
   ],
   "source": [
    "objSIR.sensitivity()"
   ]
  },
  {
   "cell_type": "code",
   "execution_count": 39,
   "metadata": {},
   "outputs": [
    {
     "data": {
      "text/plain": [
       "5038.2958154688895"
      ]
     },
     "execution_count": 39,
     "metadata": {},
     "output_type": "execute_result"
    }
   ],
   "source": [
    "objSIR.cost()"
   ]
  },
  {
   "cell_type": "code",
   "execution_count": 40,
   "metadata": {},
   "outputs": [
    {
     "name": "stderr",
     "output_type": "stream",
     "text": [
      "C:\\Users\\martin.grunnill\\AppData\\Local\\Continuum\\anaconda3\\envs\\pygomloss20200624\\lib\\site-packages\\scipy\\optimize\\_minimize.py:533: RuntimeWarning: Method BFGS cannot handle constraints nor bounds.\n",
      "  warn('Method %s cannot handle constraints nor bounds.' % method,\n"
     ]
    },
    {
     "name": "stdout",
     "output_type": "stream",
     "text": [
      "      fun: 4868.230711182974\n",
      " hess_inv: array([[ 7.84349281e-03, -6.15336988e-05,  1.77314305e-06],\n",
      "       [-6.15336988e-05,  7.88477962e-06,  1.39267526e-08],\n",
      "       [ 1.77314305e-06,  1.39267526e-08,  1.00000000e+00]])\n",
      "      jac: array([-1.03570668e-08,  1.32455900e-07,  3.71928550e-14])\n",
      "  message: 'Optimization terminated successfully.'\n",
      "     nfev: 16\n",
      "      nit: 11\n",
      "     njev: 16\n",
      "   status: 0\n",
      "  success: True\n",
      "        x: array([3.59106407e+00, 1.99435913e-01, 1.00000000e+06])\n"
     ]
    }
   ],
   "source": [
    "# perform optimization\n",
    "res = minimize(fun=objSIR.cost,\n",
    "                jac=objSIR.sensitivity,\n",
    "                x0=theta,\n",
    "                bounds=boxBounds,\n",
    "                method='BFGS')\n",
    "print(res)"
   ]
  },
  {
   "cell_type": "code",
   "execution_count": 41,
   "metadata": {},
   "outputs": [
    {
     "name": "stderr",
     "output_type": "stream",
     "text": [
      "C:\\Users\\martin.grunnill\\AppData\\Roaming\\Python\\Python38\\site-packages\\pygom-0.1.7.dev8+g3f90a1d.d20200630-py3.8-win-amd64.egg\\pygom\\utilR\\distn.py:450: RuntimeWarning: invalid value encountered in log\n",
      "  logpmf_p4= x*(np.log(mu) - np.log(k + mu))\n"
     ]
    },
    {
     "name": "stdout",
     "output_type": "stream",
     "text": [
      "      fun: 4868.230711171033\n",
      " hess_inv: <3x3 LbfgsInvHessProduct with dtype=float64>\n",
      "      jac: array([-8.31389989e-04, -6.80463204e-03,  2.98556969e-09])\n",
      "  message: b'CONVERGENCE: REL_REDUCTION_OF_F_<=_FACTR*EPSMCH'\n",
      "     nfev: 26\n",
      "      nit: 12\n",
      "     njev: 26\n",
      "   status: 0\n",
      "  success: True\n",
      "        x: array([3.59105802e+00, 1.99435910e-01, 1.00000000e+06])\n"
     ]
    }
   ],
   "source": [
    "# perform optimization\n",
    "res = minimize(fun=objSIR.cost,\n",
    "                jac=objSIR.sensitivity,\n",
    "                x0=theta,\n",
    "                bounds=boxBounds,\n",
    "                method='L-BFGS-B')\n",
    "print(res)"
   ]
  },
  {
   "cell_type": "code",
   "execution_count": 42,
   "metadata": {},
   "outputs": [
    {
     "data": {
      "text/plain": [
       "[3, 0.15, 1000000.0]"
      ]
     },
     "metadata": {},
     "output_type": "display_data"
    },
    {
     "data": {
      "text/plain": [
       "[(2, 5), (0.0, 1.0), (1000000.0, 1000000.0)]"
      ]
     },
     "metadata": {},
     "output_type": "display_data"
    },
    {
     "data": {
      "text/plain": [
       "[('beta', 3.6), ('gamma', 0.2), ('N', 1000000.0)]"
      ]
     },
     "metadata": {},
     "output_type": "display_data"
    }
   ],
   "source": [
    "display(theta,boxBounds,param_evals)"
   ]
  },
  {
   "cell_type": "code",
   "execution_count": null,
   "metadata": {},
   "outputs": [],
   "source": []
  },
  {
   "cell_type": "code",
   "execution_count": null,
   "metadata": {},
   "outputs": [],
   "source": []
  },
  {
   "cell_type": "code",
   "execution_count": null,
   "metadata": {},
   "outputs": [],
   "source": []
  },
  {
   "cell_type": "code",
   "execution_count": null,
   "metadata": {},
   "outputs": [],
   "source": []
  }
 ],
 "metadata": {
  "kernelspec": {
   "display_name": "Python 3",
   "language": "python",
   "name": "python3"
  },
  "language_info": {
   "codemirror_mode": {
    "name": "ipython",
    "version": 3
   },
   "file_extension": ".py",
   "mimetype": "text/x-python",
   "name": "python",
   "nbconvert_exporter": "python",
   "pygments_lexer": "ipython3",
   "version": "3.8.3"
  }
 },
 "nbformat": 4,
 "nbformat_minor": 2
}
