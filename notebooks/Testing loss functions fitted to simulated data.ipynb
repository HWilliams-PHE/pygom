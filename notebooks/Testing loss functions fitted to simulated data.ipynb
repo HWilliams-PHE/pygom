{
 "cells": [
  {
   "cell_type": "markdown",
   "metadata": {},
   "source": [
    "# Testing Negativ Binomail and Gamma loss Data fitting and parameter estimation within PyGOM\n",
    "\n",
    "This is an example of parameter fitting with an SIR model."
   ]
  },
  {
   "cell_type": "code",
   "execution_count": 1,
   "metadata": {},
   "outputs": [],
   "source": [
    "from pygom import Transition, TransitionType, SimulateOde, SquareLoss, PoissonLoss, NormalLoss, NegBinomLoss, GammaLoss\n",
    "import numpy as np\n",
    "import scipy.integrate\n",
    "import matplotlib.pyplot as plt\n",
    "import copy\n",
    "\n",
    "from scipy.optimize import minimize"
   ]
  },
  {
   "cell_type": "code",
   "execution_count": 2,
   "metadata": {},
   "outputs": [],
   "source": [
    "# Generate some data for fitting\n",
    "\n",
    "# Standard SIR model with 2 parameters\n",
    "# construct model \n",
    "states = ['S', 'I', 'R']\n",
    "params = ['beta', 'gamma', 'N']\n",
    "transitions = [Transition(origin='S', destination='I', equation='beta*S*I/N', \n",
    "                          transition_type=TransitionType.T),\n",
    "               Transition(origin='I', destination='R', equation='gamma*I', \n",
    "                          transition_type=TransitionType.T)]\n",
    "model = SimulateOde(states, params, transition=transitions)"
   ]
  },
  {
   "cell_type": "code",
   "execution_count": 3,
   "metadata": {},
   "outputs": [],
   "source": [
    "# initial conditions \n",
    "N = 1e6\n",
    "in_inf = 2\n",
    "init_state = [N - in_inf, in_inf, 0.0]\n",
    "# time \n",
    "t = np.arange (0 , 51 , 0.25)\n",
    "# deterministic parameter values\n",
    "param_evals = [('beta', 3.6), ('gamma', 0.2), ('N', N)]\n",
    "model.parameters = param_evals\n",
    "model.initial_values = (init_state, t[0])"
   ]
  },
  {
   "cell_type": "code",
   "execution_count": 4,
   "metadata": {},
   "outputs": [],
   "source": [
    "# run 1 simulations\n",
    "data = model.integrate(t[1:])"
   ]
  },
  {
   "cell_type": "markdown",
   "metadata": {},
   "source": [
    "Data over 100 days, with observations from every day for infected and removed populations."
   ]
  },
  {
   "cell_type": "code",
   "execution_count": 5,
   "metadata": {
    "scrolled": true
   },
   "outputs": [
    {
     "data": {
      "image/png": "[encoded data removed]",
      "text/plain": [
       "<Figure size 432x288 with 1 Axes>"
      ]
     },
     "metadata": {
      "needs_background": "light"
     },
     "output_type": "display_data"
    }
   ],
   "source": [
    "plt.plot(t,data[:,0], 'bo') # infected observations\n",
    "plt.plot(t,data[:,1], 'ro') # infected observations\n",
    "plt.plot(t,data[:,2], 'go') # removed observations (recoverd/died)\n",
    "\n",
    "plt.show()"
   ]
  },
  {
   "cell_type": "markdown",
   "metadata": {},
   "source": [
    "# Adding random noise to produce Continuos Data"
   ]
  },
  {
   "cell_type": "markdown",
   "metadata": {},
   "source": [
    "Our data needs to be have some noise so lets put it through a function for randomisation using the gamma distribution."
   ]
  },
  {
   "cell_type": "code",
   "execution_count": 6,
   "metadata": {},
   "outputs": [],
   "source": [
    "def runif_noise(x,noise_prop):\n",
    "    '''\n",
    "    Takes x and adds noise on the uniform distribution.\n",
    "    '''\n",
    "    i_len,j_len = x.shape\n",
    "    ans = copy.deepcopy(x)\n",
    "    for i in range(i_len):\n",
    "        for j in range(j_len):\n",
    "            ans[i,j]=x[i,j] + x[i,j]*np.random.uniform(low=-noise_prop,high=noise_prop,size=1)\n",
    "                   \n",
    "    return ans"
   ]
  },
  {
   "cell_type": "code",
   "execution_count": 7,
   "metadata": {},
   "outputs": [
    {
     "data": {
      "text/plain": [
       "array([9.99998e+05, 2.00000e+00, 0.00000e+00])"
      ]
     },
     "execution_count": 7,
     "metadata": {},
     "output_type": "execute_result"
    }
   ],
   "source": [
    "data[0,:]"
   ]
  },
  {
   "cell_type": "code",
   "execution_count": 8,
   "metadata": {},
   "outputs": [
    {
     "name": "stderr",
     "output_type": "stream",
     "text": [
      "<ipython-input-8-74bf619963ac>:4: RuntimeWarning: invalid value encountered in true_divide\n",
      "  (noised_data-data)/data\n"
     ]
    },
    {
     "data": {
      "text/plain": [
       "array([[ 0.        ,  0.        ,         nan],\n",
       "       [-0.26594371,  0.0481614 ,  0.14354852],\n",
       "       [ 0.18044689, -0.21459589, -0.23607263],\n",
       "       [-0.22631835, -0.25986512,  0.00977265],\n",
       "       [ 0.08317535, -0.24033984, -0.13717155],\n",
       "       [ 0.01893378, -0.30765339, -0.20936384],\n",
       "       [-0.1927195 , -0.20495292,  0.14883087],\n",
       "       [-0.31513136,  0.29092017,  0.20333613],\n",
       "       [-0.0144959 , -0.15434097,  0.15017585],\n",
       "       [-0.06943103, -0.04553612,  0.24527238],\n",
       "       [ 0.1423363 , -0.26289285, -0.27731679],\n",
       "       [ 0.22902387, -0.11970823, -0.0786823 ],\n",
       "       [ 0.24507763,  0.13939913,  0.19873885],\n",
       "       [ 0.0851626 ,  0.33156697, -0.02946794],\n",
       "       [-0.18589297,  0.28048003,  0.15186529],\n",
       "       [ 0.10976604, -0.27140908, -0.29451267],\n",
       "       [-0.02481169, -0.01567338,  0.12217416],\n",
       "       [-0.00554871, -0.31163176,  0.09909475],\n",
       "       [ 0.20449806, -0.13271217, -0.21380146],\n",
       "       [ 0.23288222, -0.26931907,  0.17116807],\n",
       "       [-0.16775002, -0.08171666,  0.3285523 ],\n",
       "       [-0.13957109, -0.00980709, -0.0315168 ],\n",
       "       [ 0.06701958,  0.12872299, -0.03394576],\n",
       "       [-0.10946453,  0.20814074, -0.19773507],\n",
       "       [ 0.01024636, -0.18041067, -0.23682284],\n",
       "       [-0.07439538,  0.25262383, -0.17858645],\n",
       "       [ 0.29102576,  0.1511979 , -0.14440452],\n",
       "       [-0.11485163,  0.04940554,  0.06448306],\n",
       "       [ 0.10676958,  0.21332199, -0.10266298],\n",
       "       [ 0.05285174,  0.14572103, -0.30224747],\n",
       "       [ 0.21323456, -0.11097107, -0.09723039],\n",
       "       [-0.26727707,  0.18230789, -0.04970821],\n",
       "       [ 0.16396675,  0.30519932,  0.19783618],\n",
       "       [-0.29474402,  0.26031346,  0.15008278],\n",
       "       [ 0.1983954 , -0.09186773,  0.1033981 ],\n",
       "       [ 0.01819894, -0.30503091, -0.00801638],\n",
       "       [ 0.18546865,  0.17688293,  0.07902597],\n",
       "       [ 0.0076256 , -0.30361511, -0.15894734],\n",
       "       [-0.14879804, -0.19371648, -0.20285748],\n",
       "       [ 0.02042512, -0.03584361,  0.02819072],\n",
       "       [ 0.23491568, -0.06869137, -0.17772354],\n",
       "       [-0.06566397, -0.06776337, -0.12467524],\n",
       "       [-0.24064783, -0.02981388, -0.20090267],\n",
       "       [-0.2546167 , -0.09699615,  0.33171511],\n",
       "       [-0.28714369, -0.15456429,  0.17458153],\n",
       "       [ 0.30123993,  0.18002521,  0.1692988 ],\n",
       "       [ 0.02128767, -0.15262815, -0.32506278],\n",
       "       [ 0.33296938,  0.237988  , -0.30015583],\n",
       "       [-0.2934129 ,  0.08130536, -0.09999738],\n",
       "       [-0.3235725 ,  0.13686141, -0.2596026 ],\n",
       "       [ 0.15582601, -0.02119342,  0.0201688 ],\n",
       "       [-0.09663488, -0.00329313, -0.0186065 ],\n",
       "       [-0.13049885, -0.2873186 ,  0.15998342],\n",
       "       [ 0.1820132 ,  0.15728375, -0.17590421],\n",
       "       [ 0.32023337, -0.29931336, -0.07075369],\n",
       "       [-0.2687179 ,  0.11859697,  0.19943461],\n",
       "       [-0.15646938,  0.32058394,  0.11942069],\n",
       "       [ 0.01135593,  0.20676602, -0.19312968],\n",
       "       [-0.12103279,  0.27442481, -0.06271944],\n",
       "       [ 0.16266687,  0.31851177,  0.00352883],\n",
       "       [-0.08580615,  0.18960581,  0.16840495],\n",
       "       [-0.08982207,  0.03192396,  0.1188008 ],\n",
       "       [-0.20494301, -0.01120558,  0.25235198],\n",
       "       [-0.1467698 ,  0.22918715, -0.1282447 ],\n",
       "       [ 0.17906087, -0.10461238,  0.13495474],\n",
       "       [ 0.17601782, -0.03623687, -0.25142906],\n",
       "       [ 0.30978103,  0.00397469,  0.22194208],\n",
       "       [ 0.25752416,  0.1042392 ,  0.25591297],\n",
       "       [-0.13772319, -0.11275306,  0.01176822],\n",
       "       [-0.1576899 , -0.07936526, -0.14969428],\n",
       "       [ 0.22779235,  0.15750085, -0.28242108],\n",
       "       [-0.0992169 , -0.24829993, -0.24564635],\n",
       "       [ 0.2802134 , -0.26679643,  0.14145995],\n",
       "       [-0.19666873,  0.10925674, -0.15420511],\n",
       "       [-0.15718523, -0.04667504,  0.10463   ],\n",
       "       [ 0.23934475,  0.23012487,  0.19921085],\n",
       "       [-0.05472834, -0.01380446, -0.2970063 ],\n",
       "       [ 0.10511899, -0.21625187, -0.00291365],\n",
       "       [-0.25868477, -0.10864835, -0.10815295],\n",
       "       [-0.0549668 , -0.26682451,  0.30208219],\n",
       "       [-0.2252228 , -0.28258864,  0.24447319],\n",
       "       [ 0.32262681,  0.24986113, -0.26776005],\n",
       "       [-0.28439645,  0.17894896,  0.04479451],\n",
       "       [ 0.23324145,  0.14693671,  0.03221976],\n",
       "       [ 0.19536078,  0.29770609,  0.28112025],\n",
       "       [ 0.26628981, -0.05904756,  0.25696101],\n",
       "       [ 0.26286499, -0.21866198,  0.25475143],\n",
       "       [-0.17818083,  0.21188372,  0.2483309 ],\n",
       "       [ 0.17844389,  0.08694361,  0.28079217],\n",
       "       [-0.2312997 ,  0.06568179,  0.13610579],\n",
       "       [ 0.2905747 , -0.25361048, -0.05708808],\n",
       "       [ 0.22593571,  0.09708349,  0.07385119],\n",
       "       [ 0.01186936, -0.15807059, -0.08762729],\n",
       "       [-0.00639177,  0.0221159 , -0.03221789],\n",
       "       [-0.11634133, -0.23084855, -0.08819899],\n",
       "       [ 0.10440324, -0.2578205 ,  0.04979053],\n",
       "       [ 0.19253324,  0.08374047, -0.32555527],\n",
       "       [-0.31328116, -0.31449333, -0.29090413],\n",
       "       [ 0.11266601,  0.02762068,  0.05099049],\n",
       "       [-0.009882  ,  0.11925011,  0.29849163],\n",
       "       [ 0.07112188, -0.17385365,  0.06267588],\n",
       "       [-0.23180648, -0.02778307, -0.30315784],\n",
       "       [-0.10563222,  0.06910103,  0.2532015 ],\n",
       "       [ 0.07369744,  0.26329815,  0.15720732],\n",
       "       [ 0.12417477,  0.245335  , -0.04359579],\n",
       "       [-0.01950269, -0.22894254,  0.27712502],\n",
       "       [ 0.04573258, -0.04995886,  0.31596549],\n",
       "       [ 0.16523415, -0.17750199, -0.154256  ],\n",
       "       [-0.06935528, -0.11561912, -0.32852905],\n",
       "       [ 0.17573865, -0.16438354,  0.08092944],\n",
       "       [-0.14557532, -0.16221617,  0.20846123],\n",
       "       [-0.1530618 ,  0.00607467,  0.1679275 ],\n",
       "       [ 0.2915459 ,  0.03303514,  0.01665417],\n",
       "       [ 0.25416671, -0.13892646, -0.32628175],\n",
       "       [ 0.18898644,  0.21485992, -0.16411458],\n",
       "       [-0.31186503, -0.23293792,  0.24676476],\n",
       "       [ 0.01727794, -0.16295204,  0.29225053],\n",
       "       [-0.30057741, -0.19557768,  0.28403295],\n",
       "       [-0.08805621, -0.21801336, -0.14952844],\n",
       "       [ 0.17080778, -0.19999893,  0.10857179],\n",
       "       [-0.01016595,  0.03945573, -0.23341481],\n",
       "       [ 0.0889063 , -0.22661675,  0.27247754],\n",
       "       [-0.10284494, -0.21721198, -0.01215395],\n",
       "       [ 0.04750522, -0.05609498, -0.11760032],\n",
       "       [-0.12049032,  0.16369776,  0.22946754],\n",
       "       [-0.3259247 ,  0.14942894,  0.01034819],\n",
       "       [ 0.30482666,  0.10876203,  0.18606517],\n",
       "       [-0.22421853, -0.1229635 ,  0.31979197],\n",
       "       [-0.31666275,  0.18239926, -0.31941235],\n",
       "       [-0.15058556,  0.2803648 ,  0.29741955],\n",
       "       [ 0.27943625, -0.31952391, -0.11504683],\n",
       "       [ 0.02835105, -0.15542857, -0.12654592],\n",
       "       [ 0.25274379,  0.06784749, -0.02814774],\n",
       "       [ 0.18619024, -0.15448604, -0.27449163],\n",
       "       [-0.19728779,  0.02537731, -0.00569949],\n",
       "       [-0.21443474, -0.01553967,  0.091896  ],\n",
       "       [-0.26827219, -0.05445831, -0.02413247],\n",
       "       [ 0.00827749,  0.1737784 , -0.02126288],\n",
       "       [ 0.23937747,  0.25076279, -0.00298444],\n",
       "       [-0.12216854,  0.29956893,  0.2265178 ],\n",
       "       [ 0.15886145,  0.1952358 , -0.10230103],\n",
       "       [-0.16707728, -0.11592906,  0.23063125],\n",
       "       [ 0.08048473, -0.28616788,  0.27649409],\n",
       "       [-0.2399056 ,  0.17466809,  0.2670509 ],\n",
       "       [ 0.01100893, -0.22544906,  0.03502344],\n",
       "       [-0.24534992, -0.0282792 ,  0.04012958],\n",
       "       [-0.32417314,  0.30503388,  0.07024417],\n",
       "       [-0.30165476, -0.03131702, -0.11390332],\n",
       "       [ 0.11602546,  0.17258092,  0.27320442],\n",
       "       [-0.01679539,  0.17988321,  0.07326227],\n",
       "       [ 0.32585914, -0.31318578,  0.21703063],\n",
       "       [-0.25118099,  0.08755176,  0.1418994 ],\n",
       "       [ 0.25308867,  0.27702219, -0.26432973],\n",
       "       [ 0.1694537 ,  0.15167072, -0.24991087],\n",
       "       [ 0.32780948, -0.30710299, -0.16902237],\n",
       "       [ 0.25018489, -0.24231413,  0.03174931],\n",
       "       [ 0.05986629,  0.03359792, -0.30558626],\n",
       "       [-0.30815473, -0.11973154,  0.01174757],\n",
       "       [-0.13523555, -0.02621417,  0.18494329],\n",
       "       [ 0.19637621, -0.06536179,  0.16160518],\n",
       "       [ 0.16124011,  0.12639132, -0.02431527],\n",
       "       [ 0.19221785,  0.24196546,  0.00068597],\n",
       "       [ 0.08134284,  0.31422214, -0.20704816],\n",
       "       [ 0.1727692 ,  0.02115635, -0.13793911],\n",
       "       [-0.28248369,  0.05719562, -0.09881328],\n",
       "       [-0.15519892,  0.30149671,  0.30585306],\n",
       "       [ 0.18343869, -0.18022277,  0.23596179],\n",
       "       [-0.09597099,  0.31572377, -0.02601189],\n",
       "       [-0.23722386, -0.20593368, -0.01834659],\n",
       "       [ 0.21902069,  0.24623962, -0.19736678],\n",
       "       [ 0.02226348,  0.21272945, -0.30751679],\n",
       "       [-0.24202336, -0.2567437 ,  0.14965649],\n",
       "       [-0.25945811,  0.28880295,  0.33275319],\n",
       "       [ 0.28975049,  0.04492393,  0.24388337],\n",
       "       [-0.09991367,  0.11365879, -0.30462007],\n",
       "       [-0.33098441, -0.20249934, -0.32534145],\n",
       "       [-0.00702099, -0.2097019 , -0.11255923],\n",
       "       [ 0.23478388,  0.14543586,  0.32737759],\n",
       "       [-0.32148961,  0.03430904, -0.23725884],\n",
       "       [-0.15295436, -0.23766421,  0.16057446],\n",
       "       [ 0.24874516,  0.02814334,  0.05567249],\n",
       "       [ 0.18373544,  0.05456167, -0.00065203],\n",
       "       [ 0.29179694, -0.02776448, -0.27429118],\n",
       "       [ 0.19373542, -0.10868194,  0.10012632],\n",
       "       [-0.05908267, -0.20556755, -0.06223371],\n",
       "       [-0.08392523, -0.13577942, -0.14284998],\n",
       "       [ 0.10779361,  0.11329162,  0.17968936],\n",
       "       [-0.04555323,  0.22342669,  0.302655  ],\n",
       "       [ 0.31417606,  0.32366651, -0.24461707],\n",
       "       [ 0.25052832,  0.04730799,  0.0135891 ],\n",
       "       [ 0.24008863,  0.11260373,  0.10348191],\n",
       "       [ 0.26464085, -0.16812188, -0.23981266],\n",
       "       [-0.23031692,  0.25901614,  0.25404338],\n",
       "       [-0.08783901,  0.21082491,  0.09234899],\n",
       "       [-0.12828791,  0.23402825, -0.13942016],\n",
       "       [ 0.17317795,  0.06544127, -0.32470743],\n",
       "       [-0.01350832, -0.20846687,  0.06141013],\n",
       "       [ 0.08516377, -0.27381567,  0.19523863],\n",
       "       [-0.2885919 ,  0.04913673,  0.27292814],\n",
       "       [-0.14942594, -0.11490962, -0.27067257],\n",
       "       [ 0.0428627 ,  0.22205546,  0.16590721],\n",
       "       [ 0.16898513, -0.03668338, -0.06368085],\n",
       "       [ 0.30915912, -0.13559047, -0.05790722],\n",
       "       [ 0.28353642, -0.20041566, -0.00223925]])"
      ]
     },
     "execution_count": 8,
     "metadata": {},
     "output_type": "execute_result"
    }
   ],
   "source": [
    "noised_data = runif_noise(data,1/3)\n",
    "#we stil want the first row from data\n",
    "noised_data[0,:] = data[0,:]\n",
    "(noised_data-data)/data"
   ]
  },
  {
   "cell_type": "code",
   "execution_count": 9,
   "metadata": {},
   "outputs": [
    {
     "data": {
      "image/png": "[encoded data removed]",
      "text/plain": [
       "<Figure size 432x288 with 1 Axes>"
      ]
     },
     "metadata": {
      "needs_background": "light"
     },
     "output_type": "display_data"
    }
   ],
   "source": [
    "plt.plot(t,noised_data[:,0], 'bo') # infected observations\n",
    "plt.plot(t,noised_data[:,1], 'ro') # infected observations\n",
    "plt.plot(t,noised_data[:,2], 'go') # removed observations (recoverd/died)\n",
    "\n",
    "plt.show()"
   ]
  },
  {
   "cell_type": "markdown",
   "metadata": {},
   "source": [
    "We provide a guess for $\\beta$ and $\\gamma$. \n",
    "\n",
    "This example assumes we have information about the infected and removed population, up to 50 days of the epidemic.\n"
   ]
  },
  {
   "cell_type": "code",
   "execution_count": 10,
   "metadata": {},
   "outputs": [
    {
     "data": {
      "text/plain": [
       "array([[4.90464096e+00, 1.80229297e-01],\n",
       "       [8.59843745e+00, 4.02088747e-01],\n",
       "       [1.89574734e+01, 1.40262775e+00],\n",
       "       [4.55221314e+01, 2.94002911e+00],\n",
       "       [9.70595088e+01, 6.42741549e+00],\n",
       "       [2.60715165e+02, 2.20294695e+01],\n",
       "       [9.89941096e+02, 5.41627913e+01],\n",
       "       [1.51549915e+03, 1.21234960e+02],\n",
       "       [3.99119374e+03, 3.06882053e+02],\n",
       "       [7.16646079e+03, 4.15491759e+02],\n",
       "       [1.97356855e+04, 1.23045676e+03],\n",
       "       [5.78166023e+04, 3.68388673e+03],\n",
       "       [1.46862042e+05, 6.72234947e+03],\n",
       "       [2.83221926e+05, 1.72384073e+04],\n",
       "       [2.82099064e+05, 2.11595297e+04],\n",
       "       [5.58399812e+05, 6.05232963e+04],\n",
       "       [4.82619234e+05, 9.44362098e+04],\n",
       "       [6.65765758e+05, 9.66241419e+04],\n",
       "       [5.72747123e+05, 1.89549046e+05],\n",
       "       [7.09146912e+05, 2.66809758e+05],\n",
       "       [7.40234990e+05, 2.31329292e+05],\n",
       "       [8.09839926e+05, 2.66144343e+05],\n",
       "       [8.28408036e+05, 2.49165951e+05],\n",
       "       [5.35922195e+05, 2.62582973e+05],\n",
       "       [7.80220803e+05, 3.08835399e+05],\n",
       "       [6.82617907e+05, 3.47689342e+05],\n",
       "       [5.92186788e+05, 4.63366922e+05],\n",
       "       [6.51475912e+05, 4.15308489e+05],\n",
       "       [5.85276935e+05, 3.41209635e+05],\n",
       "       [4.32046981e+05, 4.63958279e+05],\n",
       "       [5.46589709e+05, 5.10905271e+05],\n",
       "       [5.74001575e+05, 6.71000810e+05],\n",
       "       [5.27246397e+05, 6.68918229e+05],\n",
       "       [3.61392141e+05, 6.64278025e+05],\n",
       "       [2.63079400e+05, 6.16456105e+05],\n",
       "       [4.23783943e+05, 6.90468622e+05],\n",
       "       [2.38533388e+05, 5.52959981e+05],\n",
       "       [2.62709237e+05, 5.37407391e+05],\n",
       "       [2.98828587e+05, 7.09511325e+05],\n",
       "       [2.74571172e+05, 5.79847948e+05],\n",
       "       [2.61441068e+05, 6.29842262e+05],\n",
       "       [2.58814617e+05, 5.85922250e+05],\n",
       "       [2.29144409e+05, 9.93779854e+05],\n",
       "       [2.04073231e+05, 8.91056939e+05],\n",
       "       [2.70945802e+05, 9.00814781e+05],\n",
       "       [1.85076291e+05, 5.27522223e+05],\n",
       "       [2.57204604e+05, 5.54443973e+05],\n",
       "       [2.13695888e+05, 7.22136698e+05],\n",
       "       [2.13717852e+05, 6.01210232e+05],\n",
       "       [1.75031250e+05, 8.37740727e+05],\n",
       "       [1.69539766e+05, 8.14458217e+05],\n",
       "       [1.15314773e+05, 9.72293020e+05],\n",
       "       [1.78120848e+05, 6.97256650e+05],\n",
       "       [1.02585057e+05, 7.93198444e+05],\n",
       "       [1.55782711e+05, 1.03239372e+06],\n",
       "       [1.74943163e+05, 9.71126263e+05],\n",
       "       [1.52068538e+05, 7.05193833e+05],\n",
       "       [1.52762181e+05, 8.24930915e+05],\n",
       "       [1.50338761e+05, 8.89104794e+05],\n",
       "       [1.29025441e+05, 1.04167885e+06],\n",
       "       [1.06464615e+05, 1.00337291e+06],\n",
       "       [9.70395803e+04, 1.12944693e+06],\n",
       "       [1.14748290e+05, 7.90374269e+05],\n",
       "       [7.95105215e+04, 1.03417055e+06],\n",
       "       [8.14083834e+04, 6.85339633e+05],\n",
       "       [8.06690402e+04, 1.12375935e+06],\n",
       "       [8.43980836e+04, 1.15992224e+06],\n",
       "       [6.45058699e+04, 9.38209174e+05],\n",
       "       [6.36689048e+04, 7.91500558e+05],\n",
       "       [7.61459197e+04, 6.70373122e+05],\n",
       "       [4.70386884e+04, 7.07148873e+05],\n",
       "       [4.36435911e+04, 1.07351504e+06],\n",
       "       [6.28077554e+04, 7.97904695e+05],\n",
       "       [5.13460989e+04, 1.04513457e+06],\n",
       "       [6.30232768e+04, 1.13777135e+06],\n",
       "       [4.80618082e+04, 6.68733585e+05],\n",
       "       [3.63328010e+04, 9.50863634e+05],\n",
       "       [3.93058078e+04, 8.52519368e+05],\n",
       "       [3.07539481e+04, 1.24746471e+06],\n",
       "       [2.86250646e+04, 1.19481806e+06],\n",
       "       [4.74378807e+04, 7.04448109e+05],\n",
       "       [4.25641347e+04, 1.00707379e+06],\n",
       "       [3.93888722e+04, 9.96770546e+05],\n",
       "       [4.23931532e+04, 1.23926888e+06],\n",
       "       [2.92396611e+04, 1.21790150e+06],\n",
       "       [2.30955819e+04, 1.21766218e+06],\n",
       "       [3.40750253e+04, 1.21323104e+06],\n",
       "       [2.90715064e+04, 1.24653594e+06],\n",
       "       [2.71127364e+04, 1.10720133e+06],\n",
       "       [1.80632805e+04, 9.20092600e+05],\n",
       "       [2.52555051e+04, 1.04913048e+06],\n",
       "       [1.84364518e+04, 8.92393680e+05],\n",
       "       [2.12905604e+04, 9.47623291e+05],\n",
       "       [1.52399694e+04, 8.93734566e+05],\n",
       "       [1.39883494e+04, 1.03000441e+06],\n",
       "       [1.94297894e+04, 6.62352965e+05],\n",
       "       [1.16906798e+04, 6.97002881e+05],\n",
       "       [1.66704070e+04, 1.03394095e+06],\n",
       "       [1.72713306e+04, 1.27845437e+06],\n",
       "       [1.21266522e+04, 1.04707729e+06],\n",
       "       [1.35747674e+04, 6.87112352e+05],\n",
       "       [1.41995065e+04, 1.23655680e+06],\n",
       "       [1.59604690e+04, 1.14258717e+06],\n",
       "       [1.49661903e+04, 9.44910315e+05],\n",
       "       [8.81448811e+03, 1.26252531e+06],\n",
       "       [1.03308974e+04, 1.30165545e+06],\n",
       "       [8.50777068e+03, 8.36995757e+05],\n",
       "       [8.70172886e+03, 6.64864104e+05],\n",
       "       [7.82093131e+03, 1.07081249e+06],\n",
       "       [7.45879620e+03, 1.19770227e+06],\n",
       "       [8.52024863e+03, 1.15803653e+06],\n",
       "       [8.32189873e+03, 1.00846421e+06],\n",
       "       [6.59831222e+03, 6.68555612e+05],\n",
       "       [8.85531680e+03, 8.29792492e+05],\n",
       "       [5.31855548e+03, 1.23812008e+06],\n",
       "       [5.52075923e+03, 1.28372745e+06],\n",
       "       [5.04682049e+03, 1.27597711e+06],\n",
       "       [4.66679110e+03, 8.45396050e+05],\n",
       "       [4.54145355e+03, 1.10227862e+06],\n",
       "       [5.61300707e+03, 7.62445652e+05],\n",
       "       [3.97255243e+03, 1.26594133e+06],\n",
       "       [3.82476121e+03, 9.83019339e+05],\n",
       "       [4.38706165e+03, 8.78298467e+05],\n",
       "       [5.14482874e+03, 1.22403191e+06],\n",
       "       [4.83390522e+03, 1.00609917e+06],\n",
       "       [4.43546984e+03, 1.18132044e+06],\n",
       "       [3.33736908e+03, 1.31476977e+06],\n",
       "       [4.27992342e+03, 6.78124116e+05],\n",
       "       [4.40850014e+03, 1.29295231e+06],\n",
       "       [2.22871884e+03, 8.82054729e+05],\n",
       "       [2.63126192e+03, 8.70732818e+05],\n",
       "       [3.16462468e+03, 9.68972110e+05],\n",
       "       [2.38352132e+03, 7.23463131e+05],\n",
       "       [2.74958560e+03, 9.91634243e+05],\n",
       "       [2.51111756e+03, 1.08911082e+06],\n",
       "       [2.29421855e+03, 9.73499719e+05],\n",
       "       [2.70910290e+03, 9.76478163e+05],\n",
       "       [2.74599424e+03, 9.94826643e+05],\n",
       "       [2.71399644e+03, 1.22395635e+06],\n",
       "       [2.37437235e+03, 8.95915646e+05],\n",
       "       [1.67058137e+03, 1.22830577e+06],\n",
       "       [1.28310408e+03, 1.27419959e+06],\n",
       "       [2.00847418e+03, 1.26488445e+06],\n",
       "       [1.25975575e+03, 1.03334003e+06],\n",
       "       [1.50336053e+03, 1.03852036e+06],\n",
       "       [1.92056369e+03, 1.06866912e+06],\n",
       "       [1.35604430e+03, 8.84856232e+05],\n",
       "       [1.56142207e+03, 1.27150899e+06],\n",
       "       [1.49452022e+03, 1.07190279e+06],\n",
       "       [8.27536828e+02, 1.21556422e+06],\n",
       "       [1.24647414e+03, 1.14059062e+06],\n",
       "       [1.39224948e+03, 7.34868209e+05],\n",
       "       [1.19435169e+03, 7.49311234e+05],\n",
       "       [6.83530459e+02, 8.30157875e+05],\n",
       "       [7.10990264e+02, 1.03078113e+06],\n",
       "       [9.22595586e+02, 6.93793896e+05],\n",
       "       [7.47412178e+02, 1.01088851e+06],\n",
       "       [7.86491010e+02, 1.18398624e+06],\n",
       "       [7.18057337e+02, 1.16071273e+06],\n",
       "       [8.23171200e+02, 9.74971676e+05],\n",
       "       [8.63367455e+02, 9.99990314e+05],\n",
       "       [8.69040904e+02, 7.92427482e+05],\n",
       "       [6.42316325e+02, 8.61518628e+05],\n",
       "       [6.32553637e+02, 9.00647496e+05],\n",
       "       [7.40747779e+02, 1.30510982e+06],\n",
       "       [4.43821580e+02, 1.23529263e+06],\n",
       "       [6.77583106e+02, 9.73486505e+05],\n",
       "       [3.88991313e+02, 9.81172515e+05],\n",
       "       [5.80724252e+02, 8.02259191e+05],\n",
       "       [5.37548455e+02, 6.92176252e+05],\n",
       "       [3.13384546e+02, 1.14917174e+06],\n",
       "       [5.16905055e+02, 1.33221864e+06],\n",
       "       [3.98652245e+02, 1.24340879e+06],\n",
       "       [4.04154080e+02, 6.95127565e+05],\n",
       "       [2.75303132e+02, 6.74425641e+05],\n",
       "       [2.59511329e+02, 8.87149341e+05],\n",
       "       [3.57784433e+02, 1.32696295e+06],\n",
       "       [3.07316774e+02, 7.62514516e+05],\n",
       "       [2.15460438e+02, 1.16024642e+06],\n",
       "       [2.76414090e+02, 1.05538866e+06],\n",
       "       [2.69689336e+02, 9.99092387e+05],\n",
       "       [2.36509482e+02, 7.25532274e+05],\n",
       "       [2.06250526e+02, 1.09987173e+06],\n",
       "       [1.74865694e+02, 9.37559865e+05],\n",
       "       [1.80949557e+02, 8.56970535e+05],\n",
       "       [2.21731370e+02, 1.17945438e+06],\n",
       "       [2.31782922e+02, 1.30240818e+06],\n",
       "       [2.38543368e+02, 7.55246791e+05],\n",
       "       [1.79534727e+02, 1.01341533e+06],\n",
       "       [1.81426132e+02, 1.10330196e+06],\n",
       "       [1.29034045e+02, 7.60069418e+05],\n",
       "       [1.85763844e+02, 1.25385833e+06],\n",
       "       [1.69940356e+02, 1.09219566e+06],\n",
       "       [1.64750052e+02, 8.60464933e+05],\n",
       "       [1.35305439e+02, 6.75206798e+05],\n",
       "       [9.56181015e+01, 1.06128189e+06],\n",
       "       [8.34455489e+01, 1.19510127e+06],\n",
       "       [1.14676301e+02, 1.27278898e+06],\n",
       "       [9.20268352e+01, 7.29251586e+05],\n",
       "       [1.20865697e+02, 1.16579188e+06],\n",
       "       [9.06288530e+01, 9.36231050e+05],\n",
       "       [7.73574703e+01, 9.42008457e+05],\n",
       "       [6.80663206e+01, 9.97675798e+05]])"
      ]
     },
     "execution_count": 10,
     "metadata": {},
     "output_type": "execute_result"
    }
   ],
   "source": [
    "data_to_fit = noised_data[:,1:3]\n",
    "data_to_fit = data_to_fit[1::,:]\n",
    "data_to_fit"
   ]
  },
  {
   "cell_type": "markdown",
   "metadata": {},
   "source": [
    "## Fitting Normal loss"
   ]
  },
  {
   "cell_type": "code",
   "execution_count": 11,
   "metadata": {},
   "outputs": [
    {
     "data": {
      "text/plain": [
       "[('beta', 3.6), ('gamma', 0.2), ('N', 1000000.0)]"
      ]
     },
     "execution_count": 11,
     "metadata": {},
     "output_type": "execute_result"
    }
   ],
   "source": [
    "param_evals"
   ]
  },
  {
   "cell_type": "code",
   "execution_count": 12,
   "metadata": {
    "scrolled": false
   },
   "outputs": [],
   "source": [
    "# Initial guess of parameters, and bounding constraints\n",
    "theta = [3, 0.15,1e6]\n",
    "boxBounds = [(2,5),(0.0,1.0),(1e6,1e6)]\n",
    "\n",
    "objSIR = NormalLoss(theta, model, x0=data[0,:], t0=t[0], t=t[1::], y=data_to_fit, state_name=['I','R'])"
   ]
  },
  {
   "cell_type": "code",
   "execution_count": 13,
   "metadata": {},
   "outputs": [
    {
     "data": {
      "text/plain": [
       "4209072260954.626"
      ]
     },
     "execution_count": 13,
     "metadata": {},
     "output_type": "execute_result"
    }
   ],
   "source": [
    "objSIR.cost()"
   ]
  },
  {
   "cell_type": "code",
   "execution_count": 14,
   "metadata": {},
   "outputs": [
    {
     "name": "stderr",
     "output_type": "stream",
     "text": [
      "C:\\Users\\martin.grunnill\\AppData\\Local\\Continuum\\anaconda3\\envs\\pygom_loss_20200410\\lib\\site-packages\\scipy\\optimize\\_minimize.py:521: RuntimeWarning: Method BFGS cannot handle constraints nor bounds.\n",
      "  warn('Method %s cannot handle constraints nor bounds.' % method,\n"
     ]
    },
    {
     "name": "stdout",
     "output_type": "stream",
     "text": [
      "      fun: 3149715468391.5137\n",
      " hess_inv: array([[ 1.02285673e-11, -3.28483610e-14,  3.23263121e-06],\n",
      "       [-3.28483423e-14,  5.00246087e-15, -3.92052034e-09],\n",
      "       [ 3.23263111e-06, -3.92052576e-09,  1.06428103e+00]])\n",
      "      jac: array([-1.89198473e+03,  2.05662437e+05,  6.51297284e-03])\n",
      "  message: 'Desired error not necessarily achieved due to precision loss.'\n",
      "     nfev: 74\n",
      "      nit: 10\n",
      "     njev: 62\n",
      "   status: 2\n",
      "  success: False\n",
      "        x: array([3.84976144e+00, 2.02859211e-01, 1.11835931e+06])\n"
     ]
    }
   ],
   "source": [
    "# perform optimization\n",
    "res = minimize(fun=objSIR.cost,\n",
    "                jac=objSIR.sensitivity,\n",
    "                x0=theta,\n",
    "                bounds=boxBounds,\n",
    "                method='BFGS')\n",
    "print(res)"
   ]
  },
  {
   "cell_type": "code",
   "execution_count": 15,
   "metadata": {},
   "outputs": [
    {
     "name": "stdout",
     "output_type": "stream",
     "text": [
      "      fun: 3149715468391.6045\n",
      " hess_inv: <3x3 LbfgsInvHessProduct with dtype=float64>\n",
      "      jac: array([ 2.80002429e+03,  1.18458645e+05, -9.63846812e-03])\n",
      "  message: b'CONVERGENCE: REL_REDUCTION_OF_F_<=_FACTR*EPSMCH'\n",
      "     nfev: 12\n",
      "      nit: 9\n",
      "   status: 0\n",
      "  success: True\n",
      "        x: array([3.44232967e+00, 2.02859211e-01, 1.00000000e+06])\n"
     ]
    }
   ],
   "source": [
    "# perform optimization\n",
    "res = minimize(fun=objSIR.cost,\n",
    "                jac=objSIR.sensitivity,\n",
    "                x0=theta,\n",
    "                bounds=boxBounds,\n",
    "                method='L-BFGS-B')\n",
    "print(res)"
   ]
  },
  {
   "cell_type": "code",
   "execution_count": 16,
   "metadata": {},
   "outputs": [
    {
     "data": {
      "text/plain": [
       "[3, 0.15, 1000000.0]"
      ]
     },
     "metadata": {},
     "output_type": "display_data"
    },
    {
     "data": {
      "text/plain": [
       "[(2, 5), (0.0, 1.0), (1000000.0, 1000000.0)]"
      ]
     },
     "metadata": {},
     "output_type": "display_data"
    },
    {
     "data": {
      "text/plain": [
       "[('beta', 3.6), ('gamma', 0.2), ('N', 1000000.0)]"
      ]
     },
     "metadata": {},
     "output_type": "display_data"
    }
   ],
   "source": [
    "display(theta,boxBounds,param_evals)"
   ]
  },
  {
   "cell_type": "markdown",
   "metadata": {},
   "source": [
    "## Fitting Gamma loss"
   ]
  },
  {
   "cell_type": "code",
   "execution_count": 17,
   "metadata": {
    "scrolled": false
   },
   "outputs": [],
   "source": [
    "# Initial guess of parameters, and bounding constraints\n",
    "objSIR = GammaLoss(theta, model, x0=data[0,:], t0=t[0], t=t[1::], y=data_to_fit, state_name=['I','R'])"
   ]
  },
  {
   "cell_type": "code",
   "execution_count": 18,
   "metadata": {},
   "outputs": [
    {
     "data": {
      "text/plain": [
       "array([-1.17798986e+03, -1.40835509e+04,  3.53396958e-03])"
      ]
     },
     "execution_count": 18,
     "metadata": {},
     "output_type": "execute_result"
    }
   ],
   "source": [
    "objSIR.sensitivity()"
   ]
  },
  {
   "cell_type": "code",
   "execution_count": 19,
   "metadata": {},
   "outputs": [
    {
     "data": {
      "text/plain": [
       "5065.797364214306"
      ]
     },
     "execution_count": 19,
     "metadata": {},
     "output_type": "execute_result"
    }
   ],
   "source": [
    "objSIR.cost()"
   ]
  },
  {
   "cell_type": "code",
   "execution_count": 20,
   "metadata": {},
   "outputs": [
    {
     "name": "stderr",
     "output_type": "stream",
     "text": [
      "C:\\Users\\martin.grunnill\\AppData\\Local\\Continuum\\anaconda3\\envs\\pygom_loss_20200410\\lib\\site-packages\\scipy\\optimize\\_minimize.py:521: RuntimeWarning: Method BFGS cannot handle constraints nor bounds.\n",
      "  warn('Method %s cannot handle constraints nor bounds.' % method,\n"
     ]
    },
    {
     "name": "stdout",
     "output_type": "stream",
     "text": [
      "      fun: 4716.804547726841\n",
      " hess_inv: array([[ 1.93830562e-03, -1.55181618e-05,  1.36514445e-06],\n",
      "       [-1.55181618e-05,  1.96280251e-06,  1.90886878e-08],\n",
      "       [ 1.36514445e-06,  1.90886878e-08,  1.00000000e+00]])\n",
      "      jac: array([ 8.67860428e-08, -3.11402124e-06, -3.11981179e-13])\n",
      "  message: 'Optimization terminated successfully.'\n",
      "     nfev: 15\n",
      "      nit: 10\n",
      "     njev: 15\n",
      "   status: 0\n",
      "  success: True\n",
      "        x: array([3.59483138e+00, 1.99847237e-01, 1.00000000e+06])\n"
     ]
    }
   ],
   "source": [
    "# perform optimization\n",
    "res = minimize(fun=objSIR.cost,\n",
    "                jac=objSIR.sensitivity,\n",
    "                x0=theta,\n",
    "                bounds=boxBounds,\n",
    "                method='BFGS')\n",
    "print(res)"
   ]
  },
  {
   "cell_type": "code",
   "execution_count": 21,
   "metadata": {},
   "outputs": [
    {
     "name": "stderr",
     "output_type": "stream",
     "text": [
      "C:\\Users\\martin.grunnill\\AppData\\Local\\Continuum\\anaconda3\\envs\\pygom_loss_20200410\\lib\\site-packages\\pygom-0.1.7.dev1+gbbd58f3.d20200410-py3.8-win-amd64.egg\\pygom\\utilR\\distn.py:108: RuntimeWarning: invalid value encountered in log\n",
      "  logpdf_p3= -shape*np.log(mu/shape)\n"
     ]
    },
    {
     "name": "stdout",
     "output_type": "stream",
     "text": [
      "      fun: 4716.804547726802\n",
      " hess_inv: <3x3 LbfgsInvHessProduct with dtype=float64>\n",
      "      jac: array([-9.16923207e-05, -1.70890676e-03,  3.29618418e-10])\n",
      "  message: b'CONVERGENCE: REL_REDUCTION_OF_F_<=_FACTR*EPSMCH'\n",
      "     nfev: 15\n",
      "      nit: 10\n",
      "   status: 0\n",
      "  success: True\n",
      "        x: array([3.59483123e+00, 1.99847235e-01, 1.00000000e+06])\n"
     ]
    }
   ],
   "source": [
    "# perform optimization\n",
    "res = minimize(fun=objSIR.cost,\n",
    "                jac=objSIR.sensitivity,\n",
    "                x0=theta,\n",
    "                bounds=boxBounds,\n",
    "                method='L-BFGS-B')\n",
    "print(res)"
   ]
  },
  {
   "cell_type": "code",
   "execution_count": 22,
   "metadata": {},
   "outputs": [
    {
     "data": {
      "text/plain": [
       "[3, 0.15, 1000000.0]"
      ]
     },
     "metadata": {},
     "output_type": "display_data"
    },
    {
     "data": {
      "text/plain": [
       "[(2, 5), (0.0, 1.0), (1000000.0, 1000000.0)]"
      ]
     },
     "metadata": {},
     "output_type": "display_data"
    },
    {
     "data": {
      "text/plain": [
       "[('beta', 3.6), ('gamma', 0.2), ('N', 1000000.0)]"
      ]
     },
     "metadata": {},
     "output_type": "display_data"
    }
   ],
   "source": [
    "display(theta,boxBounds,param_evals)"
   ]
  },
  {
   "cell_type": "markdown",
   "metadata": {},
   "source": [
    "# Adding random noise to produce Count Data"
   ]
  },
  {
   "cell_type": "markdown",
   "metadata": {},
   "source": [
    "Our data needs to a be counts:"
   ]
  },
  {
   "cell_type": "code",
   "execution_count": 23,
   "metadata": {},
   "outputs": [
    {
     "data": {
      "text/plain": [
       "array([[5.000000e+00, 0.000000e+00],\n",
       "       [9.000000e+00, 0.000000e+00],\n",
       "       [1.900000e+01, 1.000000e+00],\n",
       "       [4.600000e+01, 3.000000e+00],\n",
       "       [9.700000e+01, 6.000000e+00],\n",
       "       [2.610000e+02, 2.200000e+01],\n",
       "       [9.900000e+02, 5.400000e+01],\n",
       "       [1.515000e+03, 1.210000e+02],\n",
       "       [3.991000e+03, 3.070000e+02],\n",
       "       [7.166000e+03, 4.150000e+02],\n",
       "       [1.973600e+04, 1.230000e+03],\n",
       "       [5.781700e+04, 3.684000e+03],\n",
       "       [1.468620e+05, 6.722000e+03],\n",
       "       [2.832220e+05, 1.723800e+04],\n",
       "       [2.820990e+05, 2.116000e+04],\n",
       "       [5.584000e+05, 6.052300e+04],\n",
       "       [4.826190e+05, 9.443600e+04],\n",
       "       [6.657660e+05, 9.662400e+04],\n",
       "       [5.727470e+05, 1.895490e+05],\n",
       "       [7.091470e+05, 2.668100e+05],\n",
       "       [7.402350e+05, 2.313290e+05],\n",
       "       [8.098400e+05, 2.661440e+05],\n",
       "       [8.284080e+05, 2.491660e+05],\n",
       "       [5.359220e+05, 2.625830e+05],\n",
       "       [7.802210e+05, 3.088350e+05],\n",
       "       [6.826180e+05, 3.476890e+05],\n",
       "       [5.921870e+05, 4.633670e+05],\n",
       "       [6.514760e+05, 4.153080e+05],\n",
       "       [5.852770e+05, 3.412100e+05],\n",
       "       [4.320470e+05, 4.639580e+05],\n",
       "       [5.465900e+05, 5.109050e+05],\n",
       "       [5.740020e+05, 6.710010e+05],\n",
       "       [5.272460e+05, 6.689180e+05],\n",
       "       [3.613920e+05, 6.642780e+05],\n",
       "       [2.630790e+05, 6.164560e+05],\n",
       "       [4.237840e+05, 6.904690e+05],\n",
       "       [2.385330e+05, 5.529600e+05],\n",
       "       [2.627090e+05, 5.374070e+05],\n",
       "       [2.988290e+05, 7.095110e+05],\n",
       "       [2.745710e+05, 5.798480e+05],\n",
       "       [2.614410e+05, 6.298420e+05],\n",
       "       [2.588150e+05, 5.859220e+05],\n",
       "       [2.291440e+05, 9.937800e+05],\n",
       "       [2.040730e+05, 8.910570e+05],\n",
       "       [2.709460e+05, 9.008150e+05],\n",
       "       [1.850760e+05, 5.275220e+05],\n",
       "       [2.572050e+05, 5.544440e+05],\n",
       "       [2.136960e+05, 7.221370e+05],\n",
       "       [2.137180e+05, 6.012100e+05],\n",
       "       [1.750310e+05, 8.377410e+05],\n",
       "       [1.695400e+05, 8.144580e+05],\n",
       "       [1.153150e+05, 9.722930e+05],\n",
       "       [1.781210e+05, 6.972570e+05],\n",
       "       [1.025850e+05, 7.931980e+05],\n",
       "       [1.557830e+05, 1.032394e+06],\n",
       "       [1.749430e+05, 9.711260e+05],\n",
       "       [1.520690e+05, 7.051940e+05],\n",
       "       [1.527620e+05, 8.249310e+05],\n",
       "       [1.503390e+05, 8.891050e+05],\n",
       "       [1.290250e+05, 1.041679e+06],\n",
       "       [1.064650e+05, 1.003373e+06],\n",
       "       [9.704000e+04, 1.129447e+06],\n",
       "       [1.147480e+05, 7.903740e+05],\n",
       "       [7.951100e+04, 1.034171e+06],\n",
       "       [8.140800e+04, 6.853400e+05],\n",
       "       [8.066900e+04, 1.123759e+06],\n",
       "       [8.439800e+04, 1.159922e+06],\n",
       "       [6.450600e+04, 9.382090e+05],\n",
       "       [6.366900e+04, 7.915010e+05],\n",
       "       [7.614600e+04, 6.703730e+05],\n",
       "       [4.703900e+04, 7.071490e+05],\n",
       "       [4.364400e+04, 1.073515e+06],\n",
       "       [6.280800e+04, 7.979050e+05],\n",
       "       [5.134600e+04, 1.045135e+06],\n",
       "       [6.302300e+04, 1.137771e+06],\n",
       "       [4.806200e+04, 6.687340e+05],\n",
       "       [3.633300e+04, 9.508640e+05],\n",
       "       [3.930600e+04, 8.525190e+05],\n",
       "       [3.075400e+04, 1.247465e+06],\n",
       "       [2.862500e+04, 1.194818e+06],\n",
       "       [4.743800e+04, 7.044480e+05],\n",
       "       [4.256400e+04, 1.007074e+06],\n",
       "       [3.938900e+04, 9.967710e+05],\n",
       "       [4.239300e+04, 1.239269e+06],\n",
       "       [2.924000e+04, 1.217901e+06],\n",
       "       [2.309600e+04, 1.217662e+06],\n",
       "       [3.407500e+04, 1.213231e+06],\n",
       "       [2.907200e+04, 1.246536e+06],\n",
       "       [2.711300e+04, 1.107201e+06],\n",
       "       [1.806300e+04, 9.200930e+05],\n",
       "       [2.525600e+04, 1.049130e+06],\n",
       "       [1.843600e+04, 8.923940e+05],\n",
       "       [2.129100e+04, 9.476230e+05],\n",
       "       [1.524000e+04, 8.937350e+05],\n",
       "       [1.398800e+04, 1.030004e+06],\n",
       "       [1.943000e+04, 6.623530e+05],\n",
       "       [1.169100e+04, 6.970030e+05],\n",
       "       [1.667000e+04, 1.033941e+06],\n",
       "       [1.727100e+04, 1.278454e+06],\n",
       "       [1.212700e+04, 1.047077e+06],\n",
       "       [1.357500e+04, 6.871120e+05],\n",
       "       [1.420000e+04, 1.236557e+06],\n",
       "       [1.596000e+04, 1.142587e+06],\n",
       "       [1.496600e+04, 9.449100e+05],\n",
       "       [8.814000e+03, 1.262525e+06],\n",
       "       [1.033100e+04, 1.301655e+06],\n",
       "       [8.508000e+03, 8.369960e+05],\n",
       "       [8.702000e+03, 6.648640e+05],\n",
       "       [7.821000e+03, 1.070812e+06],\n",
       "       [7.459000e+03, 1.197702e+06],\n",
       "       [8.520000e+03, 1.158037e+06],\n",
       "       [8.322000e+03, 1.008464e+06],\n",
       "       [6.598000e+03, 6.685560e+05],\n",
       "       [8.855000e+03, 8.297920e+05],\n",
       "       [5.319000e+03, 1.238120e+06],\n",
       "       [5.521000e+03, 1.283727e+06],\n",
       "       [5.047000e+03, 1.275977e+06],\n",
       "       [4.667000e+03, 8.453960e+05],\n",
       "       [4.541000e+03, 1.102279e+06],\n",
       "       [5.613000e+03, 7.624460e+05],\n",
       "       [3.973000e+03, 1.265941e+06],\n",
       "       [3.825000e+03, 9.830190e+05],\n",
       "       [4.387000e+03, 8.782980e+05],\n",
       "       [5.145000e+03, 1.224032e+06],\n",
       "       [4.834000e+03, 1.006099e+06],\n",
       "       [4.435000e+03, 1.181320e+06],\n",
       "       [3.337000e+03, 1.314770e+06],\n",
       "       [4.280000e+03, 6.781240e+05],\n",
       "       [4.409000e+03, 1.292952e+06],\n",
       "       [2.229000e+03, 8.820550e+05],\n",
       "       [2.631000e+03, 8.707330e+05],\n",
       "       [3.165000e+03, 9.689720e+05],\n",
       "       [2.384000e+03, 7.234630e+05],\n",
       "       [2.750000e+03, 9.916340e+05],\n",
       "       [2.511000e+03, 1.089111e+06],\n",
       "       [2.294000e+03, 9.735000e+05],\n",
       "       [2.709000e+03, 9.764780e+05],\n",
       "       [2.746000e+03, 9.948270e+05],\n",
       "       [2.714000e+03, 1.223956e+06],\n",
       "       [2.374000e+03, 8.959160e+05],\n",
       "       [1.671000e+03, 1.228306e+06],\n",
       "       [1.283000e+03, 1.274200e+06],\n",
       "       [2.008000e+03, 1.264884e+06],\n",
       "       [1.260000e+03, 1.033340e+06],\n",
       "       [1.503000e+03, 1.038520e+06],\n",
       "       [1.921000e+03, 1.068669e+06],\n",
       "       [1.356000e+03, 8.848560e+05],\n",
       "       [1.561000e+03, 1.271509e+06],\n",
       "       [1.495000e+03, 1.071903e+06],\n",
       "       [8.280000e+02, 1.215564e+06],\n",
       "       [1.246000e+03, 1.140591e+06],\n",
       "       [1.392000e+03, 7.348680e+05],\n",
       "       [1.194000e+03, 7.493110e+05],\n",
       "       [6.840000e+02, 8.301580e+05],\n",
       "       [7.110000e+02, 1.030781e+06],\n",
       "       [9.230000e+02, 6.937940e+05],\n",
       "       [7.470000e+02, 1.010889e+06],\n",
       "       [7.860000e+02, 1.183986e+06],\n",
       "       [7.180000e+02, 1.160713e+06],\n",
       "       [8.230000e+02, 9.749720e+05],\n",
       "       [8.630000e+02, 9.999900e+05],\n",
       "       [8.690000e+02, 7.924270e+05],\n",
       "       [6.420000e+02, 8.615190e+05],\n",
       "       [6.330000e+02, 9.006470e+05],\n",
       "       [7.410000e+02, 1.305110e+06],\n",
       "       [4.440000e+02, 1.235293e+06],\n",
       "       [6.780000e+02, 9.734870e+05],\n",
       "       [3.890000e+02, 9.811730e+05],\n",
       "       [5.810000e+02, 8.022590e+05],\n",
       "       [5.380000e+02, 6.921760e+05],\n",
       "       [3.130000e+02, 1.149172e+06],\n",
       "       [5.170000e+02, 1.332219e+06],\n",
       "       [3.990000e+02, 1.243409e+06],\n",
       "       [4.040000e+02, 6.951280e+05],\n",
       "       [2.750000e+02, 6.744260e+05],\n",
       "       [2.600000e+02, 8.871490e+05],\n",
       "       [3.580000e+02, 1.326963e+06],\n",
       "       [3.070000e+02, 7.625150e+05],\n",
       "       [2.150000e+02, 1.160246e+06],\n",
       "       [2.760000e+02, 1.055389e+06],\n",
       "       [2.700000e+02, 9.990920e+05],\n",
       "       [2.370000e+02, 7.255320e+05],\n",
       "       [2.060000e+02, 1.099872e+06],\n",
       "       [1.750000e+02, 9.375600e+05],\n",
       "       [1.810000e+02, 8.569710e+05],\n",
       "       [2.220000e+02, 1.179454e+06],\n",
       "       [2.320000e+02, 1.302408e+06],\n",
       "       [2.390000e+02, 7.552470e+05],\n",
       "       [1.800000e+02, 1.013415e+06],\n",
       "       [1.810000e+02, 1.103302e+06],\n",
       "       [1.290000e+02, 7.600690e+05],\n",
       "       [1.860000e+02, 1.253858e+06],\n",
       "       [1.700000e+02, 1.092196e+06],\n",
       "       [1.650000e+02, 8.604650e+05],\n",
       "       [1.350000e+02, 6.752070e+05],\n",
       "       [9.600000e+01, 1.061282e+06],\n",
       "       [8.300000e+01, 1.195101e+06],\n",
       "       [1.150000e+02, 1.272789e+06],\n",
       "       [9.200000e+01, 7.292520e+05],\n",
       "       [1.210000e+02, 1.165792e+06],\n",
       "       [9.100000e+01, 9.362310e+05],\n",
       "       [7.700000e+01, 9.420080e+05],\n",
       "       [6.800000e+01, 9.976760e+05]])"
      ]
     },
     "execution_count": 23,
     "metadata": {},
     "output_type": "execute_result"
    }
   ],
   "source": [
    "int_data_to_fit = np.around(data_to_fit)\n",
    "int_data_to_fit "
   ]
  },
  {
   "cell_type": "markdown",
   "metadata": {},
   "source": [
    "## Poisson loss"
   ]
  },
  {
   "cell_type": "code",
   "execution_count": 24,
   "metadata": {
    "scrolled": false
   },
   "outputs": [],
   "source": [
    "# Initial guess of parameters, and bounding constraints\n",
    "objSIR = PoissonLoss(theta, model, x0=data[0,:], t0=t[0], t=t[1::], y=int_data_to_fit, state_name=['I','R'])"
   ]
  },
  {
   "cell_type": "code",
   "execution_count": null,
   "metadata": {},
   "outputs": [],
   "source": []
  },
  {
   "cell_type": "code",
   "execution_count": 25,
   "metadata": {},
   "outputs": [
    {
     "data": {
      "text/plain": [
       "8329023.1484972015"
      ]
     },
     "execution_count": 25,
     "metadata": {},
     "output_type": "execute_result"
    }
   ],
   "source": [
    "objSIR.cost()"
   ]
  },
  {
   "cell_type": "code",
   "execution_count": 26,
   "metadata": {},
   "outputs": [
    {
     "name": "stdout",
     "output_type": "stream",
     "text": [
      "      fun: 3557908.6464113127\n",
      " hess_inv: array([[ 1.27472646e-07, -3.23818317e-09,  2.26214178e-06],\n",
      "       [-3.23818317e-09,  9.56376557e-10,  2.13419691e-08],\n",
      "       [ 2.26214178e-06,  2.13419691e-08,  1.00001208e+00]])\n",
      "      jac: array([-6.34498993e-04,  1.86534335e-03,  2.25490671e-09])\n",
      "  message: 'Desired error not necessarily achieved due to precision loss.'\n",
      "     nfev: 109\n",
      "      nit: 11\n",
      "     njev: 97\n",
      "   status: 2\n",
      "  success: False\n",
      "        x: array([3.55378376e+00, 1.99169650e-01, 1.00000147e+06])\n"
     ]
    }
   ],
   "source": [
    "# perform optimization\n",
    "res = minimize(fun=objSIR.cost,\n",
    "                jac=objSIR.sensitivity,\n",
    "                x0=theta,\n",
    "                bounds=boxBounds,\n",
    "                method='BFGS')\n",
    "print(res)"
   ]
  },
  {
   "cell_type": "code",
   "execution_count": 27,
   "metadata": {},
   "outputs": [
    {
     "name": "stdout",
     "output_type": "stream",
     "text": [
      "      fun: 3557908.646411574\n",
      " hess_inv: <3x3 LbfgsInvHessProduct with dtype=float64>\n",
      "      jac: array([-2.83986623e-01, -4.04398552e-01,  1.00922556e-06])\n",
      "  message: b'CONVERGENCE: REL_REDUCTION_OF_F_<=_FACTR*EPSMCH'\n",
      "     nfev: 15\n",
      "      nit: 11\n",
      "   status: 0\n",
      "  success: True\n",
      "        x: array([3.55377851e+00, 1.99169650e-01, 1.00000000e+06])\n"
     ]
    }
   ],
   "source": [
    "# perform optimization\n",
    "res = minimize(fun=objSIR.cost,\n",
    "                jac=objSIR.sensitivity,\n",
    "                x0=theta,\n",
    "                bounds=boxBounds,\n",
    "                method='L-BFGS-B')\n",
    "print(res)"
   ]
  },
  {
   "cell_type": "code",
   "execution_count": 28,
   "metadata": {},
   "outputs": [
    {
     "data": {
      "text/plain": [
       "[3, 0.15, 1000000.0]"
      ]
     },
     "metadata": {},
     "output_type": "display_data"
    },
    {
     "data": {
      "text/plain": [
       "[(2, 5), (0.0, 1.0), (1000000.0, 1000000.0)]"
      ]
     },
     "metadata": {},
     "output_type": "display_data"
    },
    {
     "data": {
      "text/plain": [
       "[('beta', 3.6), ('gamma', 0.2), ('N', 1000000.0)]"
      ]
     },
     "metadata": {},
     "output_type": "display_data"
    }
   ],
   "source": [
    "display(theta,boxBounds,param_evals)"
   ]
  },
  {
   "cell_type": "markdown",
   "metadata": {},
   "source": [
    "## NegBinom loss"
   ]
  },
  {
   "cell_type": "code",
   "execution_count": 29,
   "metadata": {
    "scrolled": false
   },
   "outputs": [
    {
     "name": "stderr",
     "output_type": "stream",
     "text": [
      "C:\\Users\\martin.grunnill\\AppData\\Local\\Continuum\\anaconda3\\envs\\pygom_loss_20200410\\lib\\site-packages\\pygom-0.1.7.dev1+gbbd58f3.d20200410-py3.8-win-amd64.egg\\pygom\\utilR\\distn.py:450: RuntimeWarning: divide by zero encountered in log\n",
      "  logpmf_p4= x*(np.log(mu) - np.log(k + mu))\n",
      "C:\\Users\\martin.grunnill\\AppData\\Local\\Continuum\\anaconda3\\envs\\pygom_loss_20200410\\lib\\site-packages\\pygom-0.1.7.dev1+gbbd58f3.d20200410-py3.8-win-amd64.egg\\pygom\\utilR\\distn.py:450: RuntimeWarning: invalid value encountered in multiply\n",
      "  logpmf_p4= x*(np.log(mu) - np.log(k + mu))\n"
     ]
    }
   ],
   "source": [
    "# Initial guess of parameters, and bounding constraints\n",
    "objSIR = NegBinomLoss(theta, model, x0=data[0,:], t0=t[0], t=t[1::], y=int_data_to_fit, state_name=['I','R'])"
   ]
  },
  {
   "cell_type": "code",
   "execution_count": 30,
   "metadata": {},
   "outputs": [
    {
     "data": {
      "text/plain": [
       "array([-2.92555910e+02, -3.50195352e+03,  8.77667731e-04])"
      ]
     },
     "execution_count": 30,
     "metadata": {},
     "output_type": "execute_result"
    }
   ],
   "source": [
    "objSIR.sensitivity()"
   ]
  },
  {
   "cell_type": "code",
   "execution_count": 31,
   "metadata": {},
   "outputs": [
    {
     "data": {
      "text/plain": [
       "5041.425763395273"
      ]
     },
     "execution_count": 31,
     "metadata": {},
     "output_type": "execute_result"
    }
   ],
   "source": [
    "objSIR.cost()"
   ]
  },
  {
   "cell_type": "code",
   "execution_count": 32,
   "metadata": {},
   "outputs": [
    {
     "name": "stderr",
     "output_type": "stream",
     "text": [
      "C:\\Users\\martin.grunnill\\AppData\\Local\\Continuum\\anaconda3\\envs\\pygom_loss_20200410\\lib\\site-packages\\scipy\\optimize\\_minimize.py:521: RuntimeWarning: Method BFGS cannot handle constraints nor bounds.\n",
      "  warn('Method %s cannot handle constraints nor bounds.' % method,\n"
     ]
    },
    {
     "name": "stdout",
     "output_type": "stream",
     "text": [
      "      fun: 4867.899797539529\n",
      " hess_inv: array([[ 7.67776936e-03, -5.97617430e-05,  1.74660277e-06],\n",
      "       [-5.97617430e-05,  7.85112146e-06,  1.25323010e-08],\n",
      "       [ 1.74660277e-06,  1.25323010e-08,  1.00000000e+00]])\n",
      "      jac: array([ 8.13167572e-09, -3.92696007e-06, -2.92247481e-14])\n",
      "  message: 'Optimization terminated successfully.'\n",
      "     nfev: 15\n",
      "      nit: 10\n",
      "     njev: 15\n",
      "   status: 0\n",
      "  success: True\n",
      "        x: array([3.59393939e+00, 1.99830691e-01, 1.00000000e+06])\n"
     ]
    }
   ],
   "source": [
    "# perform optimization\n",
    "res = minimize(fun=objSIR.cost,\n",
    "                jac=objSIR.sensitivity,\n",
    "                x0=theta,\n",
    "                bounds=boxBounds,\n",
    "                method='BFGS')\n",
    "print(res)"
   ]
  },
  {
   "cell_type": "code",
   "execution_count": 33,
   "metadata": {},
   "outputs": [
    {
     "name": "stderr",
     "output_type": "stream",
     "text": [
      "C:\\Users\\martin.grunnill\\AppData\\Local\\Continuum\\anaconda3\\envs\\pygom_loss_20200410\\lib\\site-packages\\pygom-0.1.7.dev1+gbbd58f3.d20200410-py3.8-win-amd64.egg\\pygom\\utilR\\distn.py:450: RuntimeWarning: invalid value encountered in log\n",
      "  logpmf_p4= x*(np.log(mu) - np.log(k + mu))\n"
     ]
    },
    {
     "name": "stdout",
     "output_type": "stream",
     "text": [
      "      fun: 4867.899797547801\n",
      " hess_inv: <3x3 LbfgsInvHessProduct with dtype=float64>\n",
      "      jac: array([ 4.12746856e-04,  1.84890228e-02, -1.48338804e-09])\n",
      "  message: b'CONVERGENCE: REL_REDUCTION_OF_F_<=_FACTR*EPSMCH'\n",
      "     nfev: 17\n",
      "      nit: 12\n",
      "   status: 0\n",
      "  success: True\n",
      "        x: array([3.59394146e+00, 1.99830811e-01, 1.00000000e+06])\n"
     ]
    }
   ],
   "source": [
    "# perform optimization\n",
    "res = minimize(fun=objSIR.cost,\n",
    "                jac=objSIR.sensitivity,\n",
    "                x0=theta,\n",
    "                bounds=boxBounds,\n",
    "                method='L-BFGS-B')\n",
    "print(res)"
   ]
  },
  {
   "cell_type": "code",
   "execution_count": 34,
   "metadata": {},
   "outputs": [
    {
     "data": {
      "text/plain": [
       "[3, 0.15, 1000000.0]"
      ]
     },
     "metadata": {},
     "output_type": "display_data"
    },
    {
     "data": {
      "text/plain": [
       "[(2, 5), (0.0, 1.0), (1000000.0, 1000000.0)]"
      ]
     },
     "metadata": {},
     "output_type": "display_data"
    },
    {
     "data": {
      "text/plain": [
       "[('beta', 3.6), ('gamma', 0.2), ('N', 1000000.0)]"
      ]
     },
     "metadata": {},
     "output_type": "display_data"
    }
   ],
   "source": [
    "display(theta,boxBounds,param_evals)"
   ]
  },
  {
   "cell_type": "code",
   "execution_count": null,
   "metadata": {},
   "outputs": [],
   "source": []
  },
  {
   "cell_type": "code",
   "execution_count": null,
   "metadata": {},
   "outputs": [],
   "source": []
  }
 ],
 "metadata": {
  "kernelspec": {
   "display_name": "Python 3",
   "language": "python",
   "name": "python3"
  },
  "language_info": {
   "codemirror_mode": {
    "name": "ipython",
    "version": 3
   },
   "file_extension": ".py",
   "mimetype": "text/x-python",
   "name": "python",
   "nbconvert_exporter": "python",
   "pygments_lexer": "ipython3",
   "version": "3.8.2"
  }
 },
 "nbformat": 4,
 "nbformat_minor": 2
}
