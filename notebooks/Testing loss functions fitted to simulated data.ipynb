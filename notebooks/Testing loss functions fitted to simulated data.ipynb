{
 "cells": [
  {
   "cell_type": "markdown",
   "metadata": {},
   "source": [
    "# Testing Negativ Binomail and Gamma loss Data fitting and parameter estimation within PyGOM\n",
    "\n",
    "This is an example of parameter fitting with an SIR model."
   ]
  },
  {
   "cell_type": "code",
   "execution_count": 1,
   "metadata": {},
   "outputs": [],
   "source": [
    "from pygom import Transition, TransitionType, SimulateOde, SquareLoss, PoissonLoss, NormalLoss, NegBinomLoss, GammaLoss\n",
    "import numpy as np\n",
    "import scipy.integrate\n",
    "import matplotlib.pyplot as plt\n",
    "import copy\n",
    "\n",
    "from scipy.optimize import minimize"
   ]
  },
  {
   "cell_type": "code",
   "execution_count": 2,
   "metadata": {},
   "outputs": [],
   "source": [
    "# Generate some data for fitting\n",
    "\n",
    "# Standard SIR model with 2 parameters\n",
    "# construct model \n",
    "states = ['S', 'I', 'R']\n",
    "params = ['beta', 'gamma', 'N']\n",
    "transitions = [Transition(origin='S', destination='I', equation='beta*S*I/N', \n",
    "                          transition_type=TransitionType.T),\n",
    "               Transition(origin='I', destination='R', equation='gamma*I', \n",
    "                          transition_type=TransitionType.T)]\n",
    "model = SimulateOde(states, params, transition=transitions)"
   ]
  },
  {
   "cell_type": "code",
   "execution_count": 3,
   "metadata": {},
   "outputs": [],
   "source": [
    "# initial conditions \n",
    "N = 1e6\n",
    "in_inf = 2\n",
    "init_state = [N - in_inf, in_inf, 0.0]\n",
    "# time \n",
    "t = np.arange (0 , 51 , 0.25)\n",
    "# deterministic parameter values\n",
    "param_evals = [('beta', 3.6), ('gamma', 0.2), ('N', N)]\n",
    "model.parameters = param_evals\n",
    "model.initial_values = (init_state, t[0])"
   ]
  },
  {
   "cell_type": "code",
   "execution_count": 4,
   "metadata": {},
   "outputs": [],
   "source": [
    "# run 1 simulations\n",
    "data = model.integrate(t[1:])"
   ]
  },
  {
   "cell_type": "markdown",
   "metadata": {},
   "source": [
    "Data over 100 days, with observations from every day for infected and removed populations."
   ]
  },
  {
   "cell_type": "code",
   "execution_count": 5,
   "metadata": {
    "scrolled": true
   },
   "outputs": [
    {
     "data": {
      "image/png": "[encoded data removed]",
      "text/plain": [
       "<Figure size 432x288 with 1 Axes>"
      ]
     },
     "metadata": {
      "needs_background": "light"
     },
     "output_type": "display_data"
    }
   ],
   "source": [
    "plt.plot(t,data[:,0], 'bo') # infected observations\n",
    "plt.plot(t,data[:,1], 'ro') # infected observations\n",
    "plt.plot(t,data[:,2], 'go') # removed observations (recoverd/died)\n",
    "\n",
    "plt.show()"
   ]
  },
  {
   "cell_type": "markdown",
   "metadata": {},
   "source": [
    "# Adding random noise to produce Continuos Data"
   ]
  },
  {
   "cell_type": "markdown",
   "metadata": {},
   "source": [
    "Our data needs to be have some noise so lets put it through a function for randomisation using the gamma distribution."
   ]
  },
  {
   "cell_type": "code",
   "execution_count": 6,
   "metadata": {},
   "outputs": [],
   "source": [
    "def runif_noise(x,noise_prop):\n",
    "    '''\n",
    "    Takes x and adds noise on the uniform distribution.\n",
    "    '''\n",
    "    i_len,j_len = x.shape\n",
    "    ans = copy.deepcopy(x)\n",
    "    for i in range(i_len):\n",
    "        for j in range(j_len):\n",
    "            ans[i,j]=x[i,j] + x[i,j]*np.random.uniform(low=-noise_prop,high=noise_prop,size=1)\n",
    "                   \n",
    "    return ans"
   ]
  },
  {
   "cell_type": "code",
   "execution_count": 7,
   "metadata": {},
   "outputs": [
    {
     "data": {
      "text/plain": [
       "array([9.99998e+05, 2.00000e+00, 0.00000e+00])"
      ]
     },
     "execution_count": 7,
     "metadata": {},
     "output_type": "execute_result"
    }
   ],
   "source": [
    "data[0,:]"
   ]
  },
  {
   "cell_type": "code",
   "execution_count": 8,
   "metadata": {},
   "outputs": [
    {
     "name": "stderr",
     "output_type": "stream",
     "text": [
      "<ipython-input-8-74bf619963ac>:4: RuntimeWarning: invalid value encountered in true_divide\n",
      "  (noised_data-data)/data\n"
     ]
    },
    {
     "data": {
      "text/plain": [
       "array([[ 0.00000000e+00,  0.00000000e+00,             nan],\n",
       "       [-3.21943456e-01,  1.85865527e-01, -1.13217774e-01],\n",
       "       [-2.10940831e-01, -1.40000086e-01,  3.21150841e-01],\n",
       "       [ 1.81602995e-01,  1.28076820e-02,  2.49787871e-01],\n",
       "       [-1.99910787e-01, -3.21987422e-01,  6.59265374e-02],\n",
       "       [-3.07353570e-01, -2.27188132e-01,  2.17562011e-01],\n",
       "       [-5.63337347e-02, -1.89013740e-01,  2.84964767e-02],\n",
       "       [ 2.31501967e-01,  6.14997028e-02, -2.35895637e-01],\n",
       "       [ 2.23927782e-01, -1.01405449e-01, -1.98699260e-01],\n",
       "       [ 2.48735438e-01, -3.53640373e-02,  1.67031470e-01],\n",
       "       [ 4.94412026e-02, -1.52057161e-01,  2.09835766e-01],\n",
       "       [-2.06776227e-01,  3.13201462e-01, -4.29291297e-02],\n",
       "       [ 2.46433170e-02, -2.84114224e-01,  3.25711119e-03],\n",
       "       [ 1.92155506e-01,  2.17675626e-01,  5.62946687e-02],\n",
       "       [-1.44069462e-01,  1.35347749e-01, -1.82909871e-01],\n",
       "       [-8.29226910e-02,  3.23393603e-01, -2.81718008e-01],\n",
       "       [-3.76928728e-02,  3.23038547e-02, -2.86446432e-01],\n",
       "       [-3.11282664e-01,  1.27084504e-01, -2.59438059e-02],\n",
       "       [-2.62325766e-02,  2.69860578e-01,  1.18361484e-01],\n",
       "       [ 1.06221765e-01, -9.70804044e-02, -2.74947371e-01],\n",
       "       [-2.71437837e-02, -2.18447494e-01, -5.67370795e-02],\n",
       "       [-3.12189987e-01,  2.22512900e-01, -1.66663625e-01],\n",
       "       [-1.28018641e-01, -2.34923267e-01,  1.41683585e-02],\n",
       "       [ 2.32254315e-01, -3.26165428e-01,  2.34238143e-01],\n",
       "       [ 8.69678367e-02,  1.64301394e-01, -2.47656180e-01],\n",
       "       [ 1.40965168e-01,  6.32849105e-02, -9.45633773e-02],\n",
       "       [ 3.07096765e-01, -1.42502266e-01, -3.77726686e-02],\n",
       "       [-6.09429143e-02,  1.63808739e-01,  3.28916009e-01],\n",
       "       [ 3.82767127e-02,  3.20843549e-02, -7.79089580e-02],\n",
       "       [ 9.56398819e-02,  4.18597131e-02,  4.03213450e-02],\n",
       "       [ 1.27231497e-01, -8.30499409e-02, -7.31856628e-02],\n",
       "       [ 4.95710698e-02,  2.76706458e-01,  2.05492090e-01],\n",
       "       [-2.08266620e-01,  2.39049966e-01,  2.01173560e-01],\n",
       "       [-2.93349546e-01, -2.57007747e-01,  9.98727121e-03],\n",
       "       [-3.22996838e-01,  1.46160366e-01,  1.80225707e-01],\n",
       "       [-1.87518084e-01, -3.77615176e-02, -6.75263992e-02],\n",
       "       [ 1.79662877e-01, -1.35008808e-01,  2.83698888e-01],\n",
       "       [ 1.35604549e-02, -2.62201419e-01, -2.72549801e-01],\n",
       "       [ 3.88544297e-02, -5.52991492e-02,  1.35833062e-02],\n",
       "       [ 9.16412350e-04, -9.24962534e-02,  2.09220178e-01],\n",
       "       [ 3.25720195e-01, -1.13579915e-01,  6.44327795e-02],\n",
       "       [ 1.85011815e-01,  2.56123076e-01, -4.11627271e-02],\n",
       "       [-2.82554284e-01,  2.64315337e-01, -8.83167048e-02],\n",
       "       [-1.86349157e-01,  3.56996669e-02,  2.01663352e-01],\n",
       "       [-1.57759231e-01,  1.39231206e-01, -1.85782649e-01],\n",
       "       [ 7.03547306e-02,  1.01422084e-01,  1.23427057e-01],\n",
       "       [ 2.76699346e-02, -3.91221695e-02,  2.16061024e-01],\n",
       "       [ 1.59004020e-01, -2.21259419e-01,  3.27064373e-01],\n",
       "       [ 1.47263354e-01, -1.04940533e-01,  2.44662128e-01],\n",
       "       [-1.02896184e-01, -1.55783920e-01,  2.95573231e-01],\n",
       "       [-2.68855926e-01,  3.19496258e-01, -2.91857351e-01],\n",
       "       [ 1.13792396e-01, -1.79844552e-01,  3.31017884e-01],\n",
       "       [-2.88347996e-01, -2.13458276e-01,  7.44025583e-02],\n",
       "       [ 7.94402079e-02, -4.94810671e-02, -5.15517506e-02],\n",
       "       [ 2.73209861e-01,  4.98005575e-02,  3.17599430e-01],\n",
       "       [-1.26001530e-01,  1.86226792e-01, -2.41490855e-01],\n",
       "       [ 2.20762784e-01,  2.08149383e-01, -1.95067777e-01],\n",
       "       [ 7.66135816e-02, -2.49310855e-01, -9.13035120e-02],\n",
       "       [ 1.97046212e-01, -2.14907322e-02,  3.29487704e-01],\n",
       "       [ 1.55059587e-01, -2.26415078e-01,  1.59962712e-01],\n",
       "       [ 2.11096333e-01, -2.65176253e-01, -4.05930821e-03],\n",
       "       [ 2.79075501e-01,  1.92098721e-01, -8.23100303e-02],\n",
       "       [-3.08439506e-01, -7.98957238e-02, -5.01829836e-02],\n",
       "       [-2.03697278e-01,  2.05995436e-01, -9.14985961e-02],\n",
       "       [ 1.20521659e-01,  3.00440276e-01,  1.47263752e-02],\n",
       "       [-2.27957751e-01, -8.21201620e-02, -1.19488396e-02],\n",
       "       [ 1.59556225e-01, -2.82204036e-02, -2.21599601e-01],\n",
       "       [ 2.15680392e-01,  3.03996830e-01, -2.71423977e-01],\n",
       "       [ 1.77769288e-01,  2.09960478e-01,  8.39473619e-02],\n",
       "       [ 1.13717062e-01, -1.79358977e-01, -4.59715825e-03],\n",
       "       [-1.84322552e-01, -2.26755373e-01, -2.39767730e-01],\n",
       "       [ 1.86058326e-01, -3.21698703e-01, -2.46524540e-01],\n",
       "       [ 2.86200529e-01, -2.17887930e-01,  3.57893365e-02],\n",
       "       [-1.18158603e-01, -6.54001442e-02, -2.87505412e-01],\n",
       "       [-1.50315173e-01,  1.42851125e-01,  2.20421926e-01],\n",
       "       [-2.23556346e-01, -1.92795329e-01,  1.74674105e-01],\n",
       "       [-2.31639431e-01, -4.84220495e-02, -8.52286090e-02],\n",
       "       [ 1.20174394e-01, -1.96588635e-01,  2.49598607e-01],\n",
       "       [ 1.96578388e-01, -6.38269970e-02,  9.43425551e-02],\n",
       "       [-3.81314176e-02,  3.18781466e-01,  1.77470481e-01],\n",
       "       [ 4.32925130e-02, -2.00318211e-01,  4.17754219e-02],\n",
       "       [ 2.36790925e-01, -1.03921195e-01, -3.30797879e-02],\n",
       "       [ 1.99476702e-01, -1.43344835e-01,  5.64405904e-02],\n",
       "       [ 3.31310790e-01,  1.50853809e-01,  1.35732696e-01],\n",
       "       [-2.41321604e-01,  3.19392547e-01, -4.54542545e-02],\n",
       "       [-6.91929812e-03, -2.13076727e-01, -1.63392477e-01],\n",
       "       [-1.22865716e-01, -1.78234910e-01,  2.03967351e-01],\n",
       "       [ 3.30704049e-01,  9.71682583e-02, -3.08190158e-01],\n",
       "       [ 2.00774222e-01, -1.42644728e-01, -2.98044193e-01],\n",
       "       [-2.23396056e-01, -2.40914551e-01,  2.12421125e-01],\n",
       "       [ 7.12265936e-02,  2.47778623e-02, -2.88177768e-01],\n",
       "       [-2.60885258e-01,  3.13300871e-01,  1.71580578e-01],\n",
       "       [-1.36024349e-01, -6.65814427e-02, -6.26423574e-02],\n",
       "       [ 1.55892372e-01,  2.48340883e-01, -2.95586414e-01],\n",
       "       [-1.77048639e-01,  3.20849855e-02,  3.03433400e-01],\n",
       "       [ 1.31558930e-01,  2.33285122e-01, -2.34144482e-02],\n",
       "       [-9.99275328e-02, -8.26120829e-02,  2.48214915e-01],\n",
       "       [ 1.06138964e-01,  1.75757064e-01, -3.19240383e-01],\n",
       "       [ 1.62623817e-01,  2.72537446e-02, -5.92349069e-02],\n",
       "       [-1.50942703e-01,  8.10263676e-02, -2.45111595e-01],\n",
       "       [ 1.80449990e-01,  2.72827791e-01,  1.08298678e-01],\n",
       "       [-2.32438202e-01,  2.88886019e-01, -1.84345430e-01],\n",
       "       [ 2.49503066e-01,  3.10983987e-01, -2.86543276e-01],\n",
       "       [ 1.20511488e-01,  5.13694112e-03,  1.36225876e-01],\n",
       "       [ 2.68332086e-01,  3.15883069e-01,  4.00702873e-02],\n",
       "       [-2.69552790e-01,  1.13927547e-01, -1.31478459e-01],\n",
       "       [ 1.53144584e-01,  2.49076716e-01, -2.26674703e-01],\n",
       "       [-1.03603484e-01, -2.10210157e-02, -2.41978432e-01],\n",
       "       [ 1.96105677e-01, -2.68912665e-01,  2.84057482e-01],\n",
       "       [ 1.07999685e-01,  9.50813469e-02,  1.44150697e-01],\n",
       "       [ 1.18566775e-02,  1.67907743e-01,  8.67410283e-02],\n",
       "       [-1.40939249e-01,  2.15215929e-01,  1.36839282e-01],\n",
       "       [-9.05791123e-02, -1.79494555e-01, -3.22292115e-01],\n",
       "       [-1.62777658e-01, -1.38902568e-01, -1.04280378e-01],\n",
       "       [-2.48846862e-01,  5.49497354e-02, -2.55146872e-01],\n",
       "       [-1.92560097e-01,  2.75780669e-01,  1.38053097e-02],\n",
       "       [ 7.22306638e-02,  2.51954666e-01,  2.00025665e-01],\n",
       "       [-1.48601712e-01, -6.24716939e-02,  1.22190401e-01],\n",
       "       [ 2.96343742e-01, -9.16466617e-02, -2.79057616e-01],\n",
       "       [-9.44903089e-02,  2.02212337e-01,  1.30955098e-01],\n",
       "       [ 2.59779211e-01, -3.17918046e-01,  1.04952796e-01],\n",
       "       [-9.19699690e-02,  3.24716030e-01,  1.02188300e-01],\n",
       "       [-1.56266425e-01,  2.22184605e-01,  9.96280301e-02],\n",
       "       [-8.09897738e-02,  1.34471312e-01, -7.32451926e-02],\n",
       "       [-1.40359625e-01, -2.11776854e-02, -3.10384400e-01],\n",
       "       [-2.73853206e-01, -1.95512118e-01,  3.98482839e-02],\n",
       "       [-1.27223980e-01, -2.32593176e-01,  1.70883648e-01],\n",
       "       [ 4.92405598e-02,  8.50372783e-02,  4.05976680e-02],\n",
       "       [ 1.29315076e-01,  1.81514925e-01,  2.69971751e-01],\n",
       "       [ 5.07861648e-02, -7.40873609e-02,  1.65365118e-01],\n",
       "       [ 2.68151227e-01, -1.45063285e-01, -2.16386660e-02],\n",
       "       [-3.17820212e-01,  1.62066777e-01, -2.07795803e-01],\n",
       "       [-3.16812154e-01,  2.96508501e-01,  1.92175410e-01],\n",
       "       [ 1.96337705e-01,  8.81620255e-02, -1.02653817e-01],\n",
       "       [-1.93525139e-01, -2.03936400e-01,  1.70445013e-01],\n",
       "       [-2.87456720e-02, -1.07611842e-01,  2.49101875e-01],\n",
       "       [ 8.09404791e-02, -3.21299706e-02,  1.23033680e-01],\n",
       "       [ 2.59498758e-01, -2.55703800e-02, -2.66267193e-01],\n",
       "       [ 2.35573590e-01, -1.56838315e-01,  2.56689692e-01],\n",
       "       [ 1.30542822e-01,  2.69746313e-01, -2.57985160e-01],\n",
       "       [ 1.74263648e-01,  2.29095931e-01,  7.48744349e-02],\n",
       "       [ 2.86189769e-01,  2.79547063e-01,  6.85199411e-02],\n",
       "       [-1.05937815e-01,  1.79938630e-01,  7.44842201e-02],\n",
       "       [ 2.15354490e-01,  1.79798390e-01,  1.86155500e-01],\n",
       "       [-2.40897200e-01, -1.23944817e-01,  6.86891899e-05],\n",
       "       [ 1.92303073e-01,  2.93842299e-01,  1.69436631e-01],\n",
       "       [ 6.00638743e-02, -1.92023781e-01, -2.35632974e-01],\n",
       "       [ 1.08886035e-01, -3.11263490e-01,  6.42473250e-02],\n",
       "       [-2.28977828e-01, -2.88312273e-01, -4.60168657e-02],\n",
       "       [ 1.88477181e-03, -1.41546947e-01,  3.28242664e-01],\n",
       "       [-1.73354229e-01,  3.13080313e-01,  2.87096208e-01],\n",
       "       [ 4.29327556e-02, -1.06010816e-01,  2.17850274e-01],\n",
       "       [ 6.71826155e-02,  6.18062750e-03, -1.61497479e-01],\n",
       "       [ 1.03828416e-01,  1.42508637e-01,  3.30062436e-01],\n",
       "       [ 2.68190801e-01, -2.61865575e-02, -4.02513191e-02],\n",
       "       [-2.31829458e-01, -1.09360422e-01, -3.29300076e-01],\n",
       "       [-1.81418170e-01, -5.11671925e-02, -9.01593327e-02],\n",
       "       [-3.11486686e-01,  3.11728877e-02, -3.05828061e-01],\n",
       "       [ 1.86347159e-01,  2.36229401e-01,  3.01929479e-01],\n",
       "       [-2.92591029e-01,  9.08584343e-02, -1.40299446e-01],\n",
       "       [-1.05944855e-02,  1.61865581e-01, -2.50704225e-01],\n",
       "       [-2.45622639e-02, -3.16306034e-01, -2.69959629e-01],\n",
       "       [ 8.84372993e-02, -2.81337428e-01,  1.35729306e-01],\n",
       "       [-6.21876036e-02, -5.41408363e-02,  1.77717783e-01],\n",
       "       [ 2.05371132e-01,  1.73047469e-02,  3.20133765e-01],\n",
       "       [ 1.28758414e-01,  4.28390061e-03,  8.84307448e-02],\n",
       "       [ 2.02100596e-01, -6.90202732e-03, -1.15680333e-01],\n",
       "       [ 4.91767073e-02,  2.68686316e-01,  1.27224288e-01],\n",
       "       [ 1.53107746e-01, -2.24791872e-01, -2.82729565e-01],\n",
       "       [ 1.27456089e-01,  2.89267392e-02, -2.31685444e-01],\n",
       "       [ 1.21530019e-01, -1.50701614e-01, -2.20018436e-01],\n",
       "       [ 2.40944283e-01, -5.44516998e-02,  1.78625669e-01],\n",
       "       [-2.20691466e-01,  2.27806142e-01, -3.19788277e-01],\n",
       "       [ 5.43321208e-02, -1.68073613e-01,  2.88610851e-01],\n",
       "       [-5.14881733e-02, -2.17052746e-01,  8.46518610e-02],\n",
       "       [-3.26344726e-01, -2.65734801e-01, -3.29900167e-01],\n",
       "       [ 2.91065837e-01, -8.86418051e-02,  1.43952139e-01],\n",
       "       [-3.18629385e-01,  2.42564945e-01, -1.50746165e-01],\n",
       "       [ 1.31558589e-02, -1.37399607e-01, -3.10027779e-02],\n",
       "       [-2.82888143e-01, -1.97311938e-01, -1.71934170e-01],\n",
       "       [-3.26726159e-01, -1.46398217e-01, -2.67336805e-01],\n",
       "       [-2.50764400e-01,  2.40030847e-01,  1.90164020e-01],\n",
       "       [-1.86402443e-01, -1.59800689e-01, -1.24289238e-01],\n",
       "       [-3.23243518e-01,  1.64399910e-01,  1.89434490e-02],\n",
       "       [ 1.62444666e-01,  1.72003606e-01,  3.15533874e-01],\n",
       "       [ 4.11196377e-02, -8.77415417e-02,  1.23995207e-01],\n",
       "       [ 1.28272258e-01, -2.32939686e-02,  4.35417997e-02],\n",
       "       [-1.75479288e-01,  9.41603764e-02,  2.52966436e-01],\n",
       "       [-1.12455732e-01,  1.64264689e-01, -3.33227910e-01],\n",
       "       [-2.10629561e-02,  2.63683701e-01, -2.22926132e-01],\n",
       "       [ 4.89649368e-02,  1.17222997e-01,  2.04754960e-01],\n",
       "       [-1.00714628e-01,  7.93490662e-02, -7.47079386e-02],\n",
       "       [ 2.92136018e-03,  1.29087068e-01, -1.48908029e-01],\n",
       "       [ 1.13242124e-01, -1.04279228e-01,  2.47219125e-01],\n",
       "       [-2.18469863e-01, -1.99858094e-01, -3.11419043e-01],\n",
       "       [ 2.82152105e-01, -5.74810426e-02,  6.78507853e-02],\n",
       "       [ 1.90039518e-01, -2.49188273e-01, -2.24943614e-01],\n",
       "       [-1.39040280e-01, -1.70893861e-01, -9.90695495e-02],\n",
       "       [-1.54891812e-01,  2.19340978e-01, -2.86544108e-03],\n",
       "       [ 1.54253118e-01,  1.73852897e-01, -1.74464629e-01],\n",
       "       [-9.57521372e-02,  1.46961351e-01,  3.27614130e-01],\n",
       "       [ 3.20980053e-01, -1.54030722e-01, -3.70355927e-03],\n",
       "       [ 1.10411322e-01, -1.66169988e-01, -2.91024643e-01],\n",
       "       [ 2.03023170e-01,  2.57521968e-01, -1.37497649e-01]])"
      ]
     },
     "execution_count": 8,
     "metadata": {},
     "output_type": "execute_result"
    }
   ],
   "source": [
    "noised_data = runif_noise(data,1/3)\n",
    "#we stil want the first row from data\n",
    "noised_data[0,:] = data[0,:]\n",
    "(noised_data-data)/data"
   ]
  },
  {
   "cell_type": "code",
   "execution_count": 9,
   "metadata": {},
   "outputs": [
    {
     "data": {
      "image/png": "[encoded data removed]",
      "text/plain": [
       "<Figure size 432x288 with 1 Axes>"
      ]
     },
     "metadata": {
      "needs_background": "light"
     },
     "output_type": "display_data"
    }
   ],
   "source": [
    "plt.plot(t,noised_data[:,0], 'bo') # infected observations\n",
    "plt.plot(t,noised_data[:,1], 'ro') # infected observations\n",
    "plt.plot(t,noised_data[:,2], 'go') # removed observations (recoverd/died)\n",
    "\n",
    "plt.show()"
   ]
  },
  {
   "cell_type": "markdown",
   "metadata": {},
   "source": [
    "We provide a guess for $\\beta$ and $\\gamma$. \n",
    "\n",
    "This example assumes we have information about the infected and removed population, up to 50 days of the epidemic.\n"
   ]
  },
  {
   "cell_type": "code",
   "execution_count": 10,
   "metadata": {},
   "outputs": [
    {
     "data": {
      "text/plain": [
       "array([[5.54899714e+00, 1.39761571e-01],\n",
       "       [9.41509648e+00, 6.95380093e-01],\n",
       "       [2.59415887e+01, 1.73602161e+00],\n",
       "       [4.06294543e+01, 3.63207199e+00],\n",
       "       [1.08339867e+02, 9.89807619e+00],\n",
       "       [2.65942008e+02, 1.97219908e+01],\n",
       "       [8.14010192e+02, 3.43927387e+01],\n",
       "       [1.61036450e+03, 8.44615745e+01],\n",
       "       [4.03372942e+03, 2.87600545e+02],\n",
       "       [8.24405119e+03, 6.95570046e+02],\n",
       "       [2.94412965e+04, 1.27820655e+03],\n",
       "       [3.63262375e+04, 3.08314488e+03],\n",
       "       [1.34300664e+05, 7.31638055e+03],\n",
       "       [2.51120961e+05, 1.22282810e+04],\n",
       "       [5.12397402e+05, 2.15432773e+04],\n",
       "       [5.85616873e+05, 3.84847695e+04],\n",
       "       [7.90205922e+05, 8.36926709e+04],\n",
       "       [9.74797129e+05, 1.37447113e+05],\n",
       "       [7.07757082e+05, 1.17346978e+05],\n",
       "       [6.03556137e+05, 1.89433078e+05],\n",
       "       [9.13909621e+05, 1.99048484e+05],\n",
       "       [5.48929799e+05, 2.79399602e+05],\n",
       "       [4.62040519e+05, 3.83327390e+05],\n",
       "       [7.61326355e+05, 2.58855593e+05],\n",
       "       [6.62287422e+05, 3.40426427e+05],\n",
       "       [5.08464539e+05, 3.91021455e+05],\n",
       "       [6.56745303e+05, 5.78473948e+05],\n",
       "       [5.54162951e+05, 4.26765230e+05],\n",
       "       [5.32220707e+05, 5.08730031e+05],\n",
       "       [4.45615989e+05, 4.76315527e+05],\n",
       "       [5.90230868e+05, 6.48108582e+05],\n",
       "       [5.44910361e+05, 6.72870334e+05],\n",
       "       [3.10827425e+05, 5.87435017e+05],\n",
       "       [4.56115660e+05, 7.10530498e+05],\n",
       "       [3.64253784e+05, 5.79474331e+05],\n",
       "       [3.11474802e+05, 8.21438803e+05],\n",
       "       [2.52718860e+05, 4.78270705e+05],\n",
       "       [3.07809391e+05, 6.83324686e+05],\n",
       "       [2.81269787e+05, 8.34432164e+05],\n",
       "       [2.61336999e+05, 7.50610280e+05],\n",
       "       [3.52273390e+05, 6.89933915e+05],\n",
       "       [3.37278880e+05, 6.68473671e+05],\n",
       "       [2.62817027e+05, 8.96729957e+05],\n",
       "       [2.74990268e+05, 6.17678724e+05],\n",
       "       [2.52897724e+05, 8.65475700e+05],\n",
       "       [2.09867373e+05, 9.50457602e+05],\n",
       "       [1.61791280e+05, 1.05135240e+06],\n",
       "       [1.76888541e+05, 9.98681754e+05],\n",
       "       [1.58703643e+05, 1.05201866e+06],\n",
       "       [2.35953746e+05, 5.81511546e+05],\n",
       "       [1.39508382e+05, 1.10461141e+06],\n",
       "       [1.27265676e+05, 9.00559518e+05],\n",
       "       [1.46297085e+05, 8.02469639e+05],\n",
       "       [1.53697592e+05, 1.12469407e+06],\n",
       "       [1.65201257e+05, 6.52874344e+05],\n",
       "       [1.60048497e+05, 6.98299422e+05],\n",
       "       [9.45967979e+04, 7.94188534e+05],\n",
       "       [1.17291509e+05, 1.17012509e+06],\n",
       "       [8.82053548e+04, 1.02770182e+06],\n",
       "       [7.96994745e+04, 8.87920192e+05],\n",
       "       [1.22990003e+05, 8.23010899e+05],\n",
       "       [9.02983786e+04, 8.56602566e+05],\n",
       "       [1.12583275e+05, 8.23690011e+05],\n",
       "       [1.15479244e+05, 9.24618482e+05],\n",
       "       [7.75326545e+04, 9.04591116e+05],\n",
       "       [7.80821749e+04, 7.15856130e+05],\n",
       "       [9.96657551e+04, 6.72890200e+05],\n",
       "       [8.79682412e+04, 1.00514064e+06],\n",
       "       [5.67535777e+04, 9.26563100e+05],\n",
       "       [5.08677148e+04, 7.10220532e+05],\n",
       "       [4.24456569e+04, 7.06325639e+05],\n",
       "       [4.65548460e+04, 9.74134427e+05],\n",
       "       [5.29184248e+04, 6.72152061e+05],\n",
       "       [6.15539817e+04, 1.15468993e+06],\n",
       "       [4.13557069e+04, 1.11449170e+06],\n",
       "       [4.63747352e+04, 8.70190374e+05],\n",
       "       [3.72443444e+04, 1.19166998e+06],\n",
       "       [4.12822885e+04, 1.04608545e+06],\n",
       "       [5.53179116e+04, 1.12807999e+06],\n",
       "       [3.19076952e+04, 1.00020804e+06],\n",
       "       [3.40102420e+04, 9.30221189e+05],\n",
       "       [3.09282140e+04, 1.01829940e+06],\n",
       "       [3.95233957e+04, 1.09672857e+06],\n",
       "       [4.31016012e+04, 9.23362846e+05],\n",
       "       [2.44532763e+04, 8.10610309e+05],\n",
       "       [2.42905662e+04, 1.16837923e+06],\n",
       "       [3.08495243e+04, 6.72357927e+05],\n",
       "       [2.29309129e+04, 6.83181207e+05],\n",
       "       [1.93124101e+04, 1.18157506e+06],\n",
       "       [2.48005224e+04, 6.94595493e+05],\n",
       "       [3.02329559e+04, 1.14461008e+06],\n",
       "       [2.04398683e+04, 9.16831496e+05],\n",
       "       [2.60028015e+04, 6.89740714e+05],\n",
       "       [2.04497354e+04, 1.27760714e+06],\n",
       "       [2.32445428e+04, 9.58179175e+05],\n",
       "       [1.64473455e+04, 1.22583633e+06],\n",
       "       [2.00514453e+04, 6.69149880e+05],\n",
       "       [1.66644545e+04, 9.25503667e+05],\n",
       "       [1.66814938e+04, 7.43239584e+05],\n",
       "       [1.86832999e+04, 1.09203041e+06],\n",
       "       [1.79963211e+04, 8.04265819e+05],\n",
       "       [1.74121296e+04, 7.03980774e+05],\n",
       "       [1.26988684e+04, 1.12187081e+06],\n",
       "       [1.58140231e+04, 1.02757091e+06],\n",
       "       [1.27340719e+04, 8.58592858e+05],\n",
       "       [1.35826575e+04, 7.64916022e+05],\n",
       "       [1.01263816e+04, 7.50180716e+05],\n",
       "       [7.19342074e+03, 1.27142317e+06],\n",
       "       [1.02493864e+04, 1.13344203e+06],\n",
       "       [1.03978921e+04, 1.07706574e+06],\n",
       "       [1.02914248e+04, 1.12721159e+06],\n",
       "       [6.60980734e+03, 6.72248410e+05],\n",
       "       [6.59849528e+03, 8.88855805e+05],\n",
       "       [7.68970477e+03, 7.39423756e+05],\n",
       "       [8.84584242e+03, 1.00677590e+06],\n",
       "       [8.25728105e+03, 1.19211086e+06],\n",
       "       [5.88190675e+03, 1.11514993e+06],\n",
       "       [5.42093057e+03, 7.16639885e+05],\n",
       "       [6.82473026e+03, 1.12453486e+06],\n",
       "       [3.68320721e+03, 1.09898609e+06],\n",
       "       [6.80452270e+03, 1.09652679e+06],\n",
       "       [5.97168604e+03, 1.09425515e+06],\n",
       "       [5.27277158e+03, 9.22447441e+05],\n",
       "       [4.32747516e+03, 6.86566727e+05],\n",
       "       [3.38326107e+03, 1.03547520e+06],\n",
       "       [3.06991919e+03, 1.16619965e+06],\n",
       "       [4.12887018e+03, 1.03663789e+06],\n",
       "       [4.27672242e+03, 1.26537482e+06],\n",
       "       [3.18806484e+03, 1.16135256e+06],\n",
       "       [2.80011832e+03, 9.75156955e+05],\n",
       "       [3.62041856e+03, 7.89736072e+05],\n",
       "       [3.84227414e+03, 1.18864231e+06],\n",
       "       [3.06755125e+03, 8.94816531e+05],\n",
       "       [2.13467277e+03, 1.16730640e+06],\n",
       "       [2.27626397e+03, 1.24591570e+06],\n",
       "       [2.34839501e+03, 1.12030879e+06],\n",
       "       [2.24900213e+03, 7.32039326e+05],\n",
       "       [1.85112410e+03, 1.25393067e+06],\n",
       "       [2.65171542e+03, 7.40465218e+05],\n",
       "       [2.44163654e+03, 1.07273915e+06],\n",
       "       [2.41789135e+03, 1.06650080e+06],\n",
       "       [2.12092455e+03, 1.07255283e+06],\n",
       "       [2.01724608e+03, 1.18412737e+06],\n",
       "       [1.42484567e+03, 9.98442128e+05],\n",
       "       [2.00171844e+03, 1.16762736e+06],\n",
       "       [1.18906475e+03, 7.63242127e+05],\n",
       "       [9.64151573e+02, 1.06275748e+06],\n",
       "       [9.47691461e+02, 9.52712785e+05],\n",
       "       [1.08737495e+03, 1.32656020e+06],\n",
       "       [1.58211972e+03, 1.28554538e+06],\n",
       "       [1.02462654e+03, 1.21645444e+06],\n",
       "       [1.09696954e+03, 8.37588347e+05],\n",
       "       [1.18485005e+03, 1.32868306e+06],\n",
       "       [9.60649471e+02, 9.58801891e+05],\n",
       "       [8.35750134e+02, 6.70070548e+05],\n",
       "       [8.46933749e+02, 9.09028524e+05],\n",
       "       [8.75541052e+02, 6.93582525e+05],\n",
       "       [9.98457029e+02, 1.30087794e+06],\n",
       "       [8.38077124e+02, 8.59040056e+05],\n",
       "       [8.49095933e+02, 7.48748175e+05],\n",
       "       [4.75278209e+02, 7.29532863e+05],\n",
       "       [4.75221920e+02, 1.13497828e+06],\n",
       "       [5.94953735e+02, 1.17697697e+06],\n",
       "       [6.08685663e+02, 1.31934387e+06],\n",
       "       [5.71588897e+02, 1.08781125e+06],\n",
       "       [5.37656203e+02, 8.83840889e+05],\n",
       "       [6.53359338e+02, 1.12664376e+06],\n",
       "       [3.79753204e+02, 7.16919053e+05],\n",
       "       [4.79460534e+02, 7.67956524e+05],\n",
       "       [3.76455799e+02, 7.79635821e+05],\n",
       "       [3.98678387e+02, 1.17812870e+06],\n",
       "       [4.92440834e+02, 6.79938898e+05],\n",
       "       [3.17390876e+02, 1.28811921e+06],\n",
       "       [2.84136696e+02, 1.08425822e+06],\n",
       "       [2.53473783e+02, 6.69868499e+05],\n",
       "       [2.99264007e+02, 1.14357648e+06],\n",
       "       [3.88123342e+02, 8.48988552e+05],\n",
       "       [2.56298225e+02, 9.68709296e+05],\n",
       "       [2.26865279e+02, 8.27831780e+05],\n",
       "       [2.29488974e+02, 7.32466208e+05],\n",
       "       [3.17120474e+02, 1.18985963e+06],\n",
       "       [2.04389883e+02, 8.75497720e+05],\n",
       "       [2.69441520e+02, 1.01870765e+06],\n",
       "       [2.57974385e+02, 1.31524429e+06],\n",
       "       [1.91007675e+02, 1.12375985e+06],\n",
       "       [1.94527978e+02, 1.04333394e+06],\n",
       "       [2.07292919e+02, 1.25272904e+06],\n",
       "       [2.09816912e+02, 6.66651918e+05],\n",
       "       [2.16626923e+02, 7.76940647e+05],\n",
       "       [1.82179370e+02, 1.20455849e+06],\n",
       "       [1.67419689e+02, 9.25148524e+05],\n",
       "       [1.66593221e+02, 8.50966382e+05],\n",
       "       [1.25715209e+02, 1.24704406e+06],\n",
       "       [1.06823665e+02, 6.88489017e+05],\n",
       "       [1.19694951e+02, 1.06771516e+06],\n",
       "       [9.06989100e+01, 7.74962746e+05],\n",
       "       [9.52722524e+01, 9.00826911e+05],\n",
       "       [1.33280543e+02, 9.97025552e+05],\n",
       "       [1.22050775e+02, 8.25449524e+05],\n",
       "       [1.13438619e+02, 1.32748280e+06],\n",
       "       [7.95888118e+01, 9.96202694e+05],\n",
       "       [7.46208572e+01, 7.08911899e+05],\n",
       "       [1.07049236e+02, 8.62428915e+05]])"
      ]
     },
     "execution_count": 10,
     "metadata": {},
     "output_type": "execute_result"
    }
   ],
   "source": [
    "data_to_fit = noised_data[:,1:3]\n",
    "data_to_fit = data_to_fit[1::,:]\n",
    "data_to_fit"
   ]
  },
  {
   "cell_type": "markdown",
   "metadata": {},
   "source": [
    "## Fitting Normal loss"
   ]
  },
  {
   "cell_type": "code",
   "execution_count": 11,
   "metadata": {},
   "outputs": [
    {
     "data": {
      "text/plain": [
       "[('beta', 3.6), ('gamma', 0.2), ('N', 1000000.0)]"
      ]
     },
     "execution_count": 11,
     "metadata": {},
     "output_type": "execute_result"
    }
   ],
   "source": [
    "param_evals"
   ]
  },
  {
   "cell_type": "code",
   "execution_count": 12,
   "metadata": {
    "scrolled": false
   },
   "outputs": [],
   "source": [
    "# Initial guess of parameters, and bounding constraints\n",
    "theta = [3, 0.15,1e6]\n",
    "boxBounds = [(2,5),(0.0,1.0),(1e6,1e6)]\n",
    "\n",
    "objSIR = NormalLoss(theta, model, x0=data[0,:], t0=t[0], t=t[1::], y=data_to_fit, state_name=['I','R'])"
   ]
  },
  {
   "cell_type": "code",
   "execution_count": 13,
   "metadata": {},
   "outputs": [
    {
     "data": {
      "text/plain": [
       "NormalLoss([3.0, 0.15, 1000000.0], SimulateOde([ODEVariable('S', 'S', None, True), ODEVariable('I', 'I', None, True), ODEVariable('R', 'R', None, True)], [ODEVariable('beta', 'beta', None, True), ODEVariable('gamma', 'gamma', None, True), ODEVariable('N', 'N', None, True)], [], [Transition('S', 'beta*S*I/N', 'T', 'I', None, None), Transition('I', 'gamma*I', 'T', 'R', None, None)], [], []).setParameters({'beta': 3.6, 'gamma': 0.2, 'N': 1000000.0}), [999998.0, 2.0, 0.0], 0.0, [0.25, 0.5, 0.75, 1.0, 1.25, 1.5, 1.75, 2.0, 2.25, 2.5, 2.75, 3.0, 3.25, 3.5, 3.75, 4.0, 4.25, 4.5, 4.75, 5.0, 5.25, 5.5, 5.75, 6.0, 6.25, 6.5, 6.75, 7.0, 7.25, 7.5, 7.75, 8.0, 8.25, 8.5, 8.75, 9.0, 9.25, 9.5, 9.75, 10.0, 10.25, 10.5, 10.75, 11.0, 11.25, 11.5, 11.75, 12.0, 12.25, 12.5, 12.75, 13.0, 13.25, 13.5, 13.75, 14.0, 14.25, 14.5, 14.75, 15.0, 15.25, 15.5, 15.75, 16.0, 16.25, 16.5, 16.75, 17.0, 17.25, 17.5, 17.75, 18.0, 18.25, 18.5, 18.75, 19.0, 19.25, 19.5, 19.75, 20.0, 20.25, 20.5, 20.75, 21.0, 21.25, 21.5, 21.75, 22.0, 22.25, 22.5, 22.75, 23.0, 23.25, 23.5, 23.75, 24.0, 24.25, 24.5, 24.75, 25.0, 25.25, 25.5, 25.75, 26.0, 26.25, 26.5, 26.75, 27.0, 27.25, 27.5, 27.75, 28.0, 28.25, 28.5, 28.75, 29.0, 29.25, 29.5, 29.75, 30.0, 30.25, 30.5, 30.75, 31.0, 31.25, 31.5, 31.75, 32.0, 32.25, 32.5, 32.75, 33.0, 33.25, 33.5, 33.75, 34.0, 34.25, 34.5, 34.75, 35.0, 35.25, 35.5, 35.75, 36.0, 36.25, 36.5, 36.75, 37.0, 37.25, 37.5, 37.75, 38.0, 38.25, 38.5, 38.75, 39.0, 39.25, 39.5, 39.75, 40.0, 40.25, 40.5, 40.75, 41.0, 41.25, 41.5, 41.75, 42.0, 42.25, 42.5, 42.75, 43.0, 43.25, 43.5, 43.75, 44.0, 44.25, 44.5, 44.75, 45.0, 45.25, 45.5, 45.75, 46.0, 46.25, 46.5, 46.75, 47.0, 47.25, 47.5, 47.75, 48.0, 48.25, 48.5, 48.75, 49.0, 49.25, 49.5, 49.75, 50.0, 50.25, 50.5, 50.75], [[5.5489971387876365, 0.13976157088347727], [9.415096478582125, 0.6953800925736477], [25.941588724404888, 1.7360216096973626], [40.629454348405005, 3.6320719863452124], [108.33986724048995, 9.898076194201028], [265.94200822963205, 19.72199081288608], [814.0101919108965, 34.39273873132337], [1610.3645021087707, 84.46157450404837], [4033.7294190704292, 287.6005446141324], [8244.051192760833, 695.5700455200907], [29441.296547302398, 1278.206554206765], [36326.23747211643, 3083.1448823639666], [134300.6643766737, 7316.380551470222], [251120.96130046487, 12228.281008380864], [512397.4021229717, 21543.277252460124], [585616.8734093554, 38484.76952026679], [790205.921992304, 83692.67093281484], [974797.1285860298, 137447.11265771437], [707757.0823571573, 117346.97836716496], [603556.1371978847, 189433.07773085634], [913909.6207876124, 199048.48425080228], [548929.798690948, 279399.6024361307], [462040.51907899725, 383327.3895777905], [761326.3551628065, 258855.59336332348], [662287.4219836415, 340426.42697219475], [508464.53921417124, 391021.45531562675], [656745.3025785786, 578473.9477197772], [554162.9505283561, 426765.22955069266], [532220.7074438117, 508730.0308778309], [445615.9890674269, 476315.5274757456], [590230.8684803826, 648108.582432509], [544910.361061262, 672870.3344572515], [310827.4253700613, 587435.0165097215], [456115.65962565545, 710530.4983865325], [364253.7844819528, 579474.3308432746], [311474.8016733622, 821438.8027931447], [252718.85987592736, 478270.7054820163], [307809.39052484394, 683324.6855005894], [281269.7866456109, 834432.1640758143], [261336.99881665388, 750610.2799376069], [352273.3896491518, 689933.9153611241], [337278.8801262164, 668473.671079696], [262817.02738757816, 896729.9572193093], [274990.26820054883, 617678.724452312], [252897.72396917018, 865475.7000908976], [209867.3728636754, 950457.6023080612], [161791.28013060236, 1051352.395139691], [176888.54085288633, 998681.753684348], [158703.64323235105, 1052018.6625758626], [235953.74632457114, 581511.5462198751], [139508.3819811454, 1104611.4054220302], [127265.67567357987, 900559.5183912851], [146297.08454396683, 802469.639043949], [153697.59202897752, 1124694.0709555596], [165201.2568608659, 652874.3435597733], [160048.49667175754, 698299.422082141], [94596.797920066, 794188.5335791365], [117291.50891981134, 1170125.0942029145], [88205.35480368958, 1027701.8237791387], [79699.47446828452, 887920.1922399637], [122990.00315676956, 823010.8990972892], [90298.37858239123, 856602.5660494367], [112583.27458976842, 823690.0110776974], [115479.24360879252, 924618.4818930109], [77532.65451860701, 904591.1155288297], [78082.17487409341, 715856.1296537648], [99665.75506373866, 672890.1996274921], [87968.24120244425, 1005140.6416744539], [56753.577717708846, 926563.1004164796], [50867.71484676358, 710220.5323161592], [42445.65692219467, 706325.639191282], [46554.845983121624, 974134.4267906626], [52918.424828372394, 672152.061469812], [61553.98169533466, 1154689.9304881357], [41355.7068612865, 1114491.7048004952], [46374.73519731653, 870190.3739141857], [37244.34436743515, 1191669.9818033653], [41282.28851948546, 1046085.4493043608], [55317.91156340166, 1128079.994274354], [31907.69520572426, 1000208.0395347421], [34010.24198302409, 930221.1892817259], [30928.214034681547, 1018299.4007833744], [39523.39574481744, 1096728.5680754953], [43101.60123589903, 923362.8464453346], [24453.276252403833, 810610.3090453236], [24290.566238056355, 1168379.2311720226], [30849.52429767078, 672357.9273898688], [22930.91291882195, 683181.2065549527], [19312.410078810557, 1181575.0638825279], [24800.522354204797, 694595.4933711233], [30232.955889418034, 1144610.0789169455], [20439.868327523087, 916831.495611514], [26002.801545608865, 689740.713613447], [20449.735359676568, 1277607.1379225366], [23244.54282457448, 958179.1751528395], [16447.345530964347, 1225836.3266972792], [20051.445282210465, 669149.8800772146], [16664.454488900752, 925503.6673304131], [16681.49384056153, 743239.5841723487], [18683.299901770028, 1092030.4094499706], [17996.321050203427, 804265.8193114839], [17412.129570447687, 703980.773650898], [12698.868359882912, 1121870.8122240496], [15814.023105568453, 1027570.9081003398], [12734.071882360873, 858592.8580763217], [13582.657478279318, 764916.0217322799], [10126.381580399675, 750180.7159839582], [7193.420744583109, 1271423.1734558782], [10249.386414900197, 1133442.0264943778], [10397.892095036967, 1077065.7446887211], [10291.424793271395, 1127211.5938218776], [6609.807342544796, 672248.4104117213], [6598.495277349121, 888855.8050265535], [7689.704772788273, 739423.7561920357], [8845.842419921624, 1006775.9005513749], [8257.28104877651, 1192110.8618185048], [5881.906750996887, 1115149.93372143], [5420.930573114638, 716639.884819933], [6824.730262831377, 1124534.8621694546], [3683.207213311698, 1098986.08982435], [6804.52269756303, 1096526.7921533366], [5971.686041066522, 1094255.1464621811], [5272.7715814587045, 922447.4408174288], [4327.475161388193, 686566.7266654972], [3383.2610693392044, 1035475.2013402083], [3069.919189380042, 1166199.6484807285], [4128.870181022159, 1036637.8860012486], [4276.722417774954, 1265374.8212365832], [3188.0648383580597, 1161352.5607335398], [2800.118318839102, 975156.9553313118], [3620.4185579812274, 789736.0719286054], [3842.2741401842172, 1188642.3134196696], [3067.551247602438, 894816.5312599519], [2134.67276566011, 1167306.4045076708], [2276.263966733917, 1245915.7013382448], [2348.395010917235, 1120308.7855315015], [2249.0021255896513, 732039.3261821142], [1851.1240962192128, 1253930.6660519678], [2651.715415269909, 740465.2182037155], [2441.6365408681636, 1072739.1471042798], [2417.891347145136, 1066500.7995323706], [2120.9245483558825, 1072552.8316071504], [2017.2460815827417, 1184127.366115931], [1424.845670574932, 998442.1280909418], [2001.7184429807262, 1167627.3635968873], [1189.0647524983192, 763242.127352661], [964.1515731483933, 1062757.4849910974], [947.6914614570239, 952712.7846825029], [1087.3749471536023, 1326560.2010915559], [1582.1197247476741, 1285545.3759947247], [1024.6265416882222, 1216454.4422335515], [1096.9695443363794, 837588.3467235877], [1184.8500540757373, 1328683.061242117], [960.6494707281487, 958801.8911654096], [835.7501337173844, 670070.5483600695], [846.9337487099981, 909028.5240620613], [875.541052335431, 693582.5251296596], [998.4570286925696, 1300877.9383268403], [838.0771236697374, 859040.0555225008], [849.0959325990879, 748748.1751257956], [475.2782089274715, 729532.8627678553], [475.2219202114857, 1134978.277195852], [594.9537349672182, 1176976.9695724065], [608.6856630484652, 1319343.8667681955], [571.5888971056904, 1087811.2469301717], [537.6562029971528, 883840.8893521308], [653.3593380671064, 1126643.762739988], [379.7532039608197, 716919.052976874], [479.46053353989157, 767956.5237406924], [376.4557987859823, 779635.8208878567], [398.67838714418235, 1178128.6982785354], [492.4408336280881, 679938.8977216084], [317.3908756903431, 1288119.208934416], [284.13669569600165, 1084258.2171145338], [253.47378339180153, 669868.4988409674], [299.26400701038574, 1143576.4805791376], [388.12334228010513, 848988.5515813607], [256.2982253008446, 968709.2961185345], [226.86527870402017, 827831.7795352405], [229.48897424342212, 732466.208474486], [317.12047386383495, 1189859.6336752367], [204.38988338787306, 875497.7197789245], [269.4415199990759, 1018707.6504033973], [257.97438516355055, 1315244.2862689584], [191.00767526447387, 1123759.8491195813], [194.52797753681182, 1043333.9442222763], [207.29291902341845, 1252729.0376916449], [209.81691238951242, 666651.9180659578], [216.6269232166793, 776940.6467737745], [182.17936999016678, 1204558.48883258], [167.41968911549503, 925148.5235907574], [166.59322132383082, 850966.3818700697], [125.71520857960297, 1247044.057304752], [106.82366473307945, 688489.016953341], [119.69495136675988, 1067715.157561069], [90.69890996414178, 774962.7461366334], [95.27225242575679, 900826.9111966246], [133.28054285317748, 997025.5515197581], [122.05077509682275, 825449.5240761695], [113.43861907585058, 1327482.8035176208], [79.58881177281683, 996202.6939394812], [74.62085718615808, 708911.8992225014], [107.04923637866446, 862428.9150962183]], ['I', 'R'], [[1.0, 1.0], [1.0, 1.0], [1.0, 1.0], [1.0, 1.0], [1.0, 1.0], [1.0, 1.0], [1.0, 1.0], [1.0, 1.0], [1.0, 1.0], [1.0, 1.0], [1.0, 1.0], [1.0, 1.0], [1.0, 1.0], [1.0, 1.0], [1.0, 1.0], [1.0, 1.0], [1.0, 1.0], [1.0, 1.0], [1.0, 1.0], [1.0, 1.0], [1.0, 1.0], [1.0, 1.0], [1.0, 1.0], [1.0, 1.0], [1.0, 1.0], [1.0, 1.0], [1.0, 1.0], [1.0, 1.0], [1.0, 1.0], [1.0, 1.0], [1.0, 1.0], [1.0, 1.0], [1.0, 1.0], [1.0, 1.0], [1.0, 1.0], [1.0, 1.0], [1.0, 1.0], [1.0, 1.0], [1.0, 1.0], [1.0, 1.0], [1.0, 1.0], [1.0, 1.0], [1.0, 1.0], [1.0, 1.0], [1.0, 1.0], [1.0, 1.0], [1.0, 1.0], [1.0, 1.0], [1.0, 1.0], [1.0, 1.0], [1.0, 1.0], [1.0, 1.0], [1.0, 1.0], [1.0, 1.0], [1.0, 1.0], [1.0, 1.0], [1.0, 1.0], [1.0, 1.0], [1.0, 1.0], [1.0, 1.0], [1.0, 1.0], [1.0, 1.0], [1.0, 1.0], [1.0, 1.0], [1.0, 1.0], [1.0, 1.0], [1.0, 1.0], [1.0, 1.0], [1.0, 1.0], [1.0, 1.0], [1.0, 1.0], [1.0, 1.0], [1.0, 1.0], [1.0, 1.0], [1.0, 1.0], [1.0, 1.0], [1.0, 1.0], [1.0, 1.0], [1.0, 1.0], [1.0, 1.0], [1.0, 1.0], [1.0, 1.0], [1.0, 1.0], [1.0, 1.0], [1.0, 1.0], [1.0, 1.0], [1.0, 1.0], [1.0, 1.0], [1.0, 1.0], [1.0, 1.0], [1.0, 1.0], [1.0, 1.0], [1.0, 1.0], [1.0, 1.0], [1.0, 1.0], [1.0, 1.0], [1.0, 1.0], [1.0, 1.0], [1.0, 1.0], [1.0, 1.0], [1.0, 1.0], [1.0, 1.0], [1.0, 1.0], [1.0, 1.0], [1.0, 1.0], [1.0, 1.0], [1.0, 1.0], [1.0, 1.0], [1.0, 1.0], [1.0, 1.0], [1.0, 1.0], [1.0, 1.0], [1.0, 1.0], [1.0, 1.0], [1.0, 1.0], [1.0, 1.0], [1.0, 1.0], [1.0, 1.0], [1.0, 1.0], [1.0, 1.0], [1.0, 1.0], [1.0, 1.0], [1.0, 1.0], [1.0, 1.0], [1.0, 1.0], [1.0, 1.0], [1.0, 1.0], [1.0, 1.0], [1.0, 1.0], [1.0, 1.0], [1.0, 1.0], [1.0, 1.0], [1.0, 1.0], [1.0, 1.0], [1.0, 1.0], [1.0, 1.0], [1.0, 1.0], [1.0, 1.0], [1.0, 1.0], [1.0, 1.0], [1.0, 1.0], [1.0, 1.0], [1.0, 1.0], [1.0, 1.0], [1.0, 1.0], [1.0, 1.0], [1.0, 1.0], [1.0, 1.0], [1.0, 1.0], [1.0, 1.0], [1.0, 1.0], [1.0, 1.0], [1.0, 1.0], [1.0, 1.0], [1.0, 1.0], [1.0, 1.0], [1.0, 1.0], [1.0, 1.0], [1.0, 1.0], [1.0, 1.0], [1.0, 1.0], [1.0, 1.0], [1.0, 1.0], [1.0, 1.0], [1.0, 1.0], [1.0, 1.0], [1.0, 1.0], [1.0, 1.0], [1.0, 1.0], [1.0, 1.0], [1.0, 1.0], [1.0, 1.0], [1.0, 1.0], [1.0, 1.0], [1.0, 1.0], [1.0, 1.0], [1.0, 1.0], [1.0, 1.0], [1.0, 1.0], [1.0, 1.0], [1.0, 1.0], [1.0, 1.0], [1.0, 1.0], [1.0, 1.0], [1.0, 1.0], [1.0, 1.0], [1.0, 1.0], [1.0, 1.0], [1.0, 1.0], [1.0, 1.0], [1.0, 1.0], [1.0, 1.0], [1.0, 1.0], [1.0, 1.0], [1.0, 1.0], [1.0, 1.0], [1.0, 1.0], [1.0, 1.0], [1.0, 1.0], [1.0, 1.0], [1.0, 1.0], [1.0, 1.0], [1.0, 1.0]])"
      ]
     },
     "execution_count": 13,
     "metadata": {},
     "output_type": "execute_result"
    }
   ],
   "source": [
    "objSIR"
   ]
  },
  {
   "cell_type": "code",
   "execution_count": 14,
   "metadata": {},
   "outputs": [
    {
     "data": {
      "text/plain": [
       "4909533605860.806"
      ]
     },
     "execution_count": 14,
     "metadata": {},
     "output_type": "execute_result"
    }
   ],
   "source": [
    "objSIR.cost()"
   ]
  },
  {
   "cell_type": "code",
   "execution_count": 15,
   "metadata": {},
   "outputs": [
    {
     "name": "stderr",
     "output_type": "stream",
     "text": [
      "C:\\Users\\martin.grunnill\\AppData\\Local\\Continuum\\anaconda3\\envs\\pygomloss20200624\\lib\\site-packages\\scipy\\optimize\\_minimize.py:533: RuntimeWarning: Method BFGS cannot handle constraints nor bounds.\n",
      "  warn('Method %s cannot handle constraints nor bounds.' % method,\n"
     ]
    },
    {
     "name": "stdout",
     "output_type": "stream",
     "text": [
      "      fun: 3257054048571.9863\n",
      " hess_inv: array([[ 5.18410500e-11, -2.54658445e-12,  1.27206329e-05],\n",
      "       [-2.54658442e-12,  1.49261473e-13, -6.12083782e-07],\n",
      "       [ 1.27206329e-05, -6.12083790e-07,  3.12906462e+00]])\n",
      "      jac: array([-1.10600741e+00, -4.43260288e+00,  4.08760083e-06])\n",
      "  message: 'Desired error not necessarily achieved due to precision loss.'\n",
      "     nfev: 43\n",
      "      nit: 12\n",
      "     njev: 38\n",
      "   status: 2\n",
      "  success: False\n",
      "        x: array([5.52375636e+00, 2.03086137e-01, 1.49373372e+06])\n"
     ]
    }
   ],
   "source": [
    "# perform optimization\n",
    "res = minimize(fun=objSIR.cost,\n",
    "                jac=objSIR.sensitivity,\n",
    "                x0=theta,\n",
    "                bounds=boxBounds,\n",
    "                method='BFGS')\n",
    "print(res)"
   ]
  },
  {
   "cell_type": "code",
   "execution_count": 16,
   "metadata": {},
   "outputs": [
    {
     "name": "stdout",
     "output_type": "stream",
     "text": [
      "      fun: 3257054048571.9043\n",
      " hess_inv: <3x3 LbfgsInvHessProduct with dtype=float64>\n",
      "      jac: array([-8.79695180e+01, -1.47147132e+03,  3.25305614e-04])\n",
      "  message: b'CONVERGENCE: REL_REDUCTION_OF_F_<=_FACTR*EPSMCH'\n",
      "     nfev: 14\n",
      "      nit: 9\n",
      "     njev: 14\n",
      "   status: 0\n",
      "  success: True\n",
      "        x: array([3.69795251e+00, 2.03086137e-01, 1.00000000e+06])\n"
     ]
    }
   ],
   "source": [
    "# perform optimization\n",
    "res = minimize(fun=objSIR.cost,\n",
    "                jac=objSIR.sensitivity,\n",
    "                x0=theta,\n",
    "                bounds=boxBounds,\n",
    "                method='L-BFGS-B')\n",
    "print(res)"
   ]
  },
  {
   "cell_type": "code",
   "execution_count": 17,
   "metadata": {},
   "outputs": [
    {
     "data": {
      "text/plain": [
       "[3, 0.15, 1000000.0]"
      ]
     },
     "metadata": {},
     "output_type": "display_data"
    },
    {
     "data": {
      "text/plain": [
       "[(2, 5), (0.0, 1.0), (1000000.0, 1000000.0)]"
      ]
     },
     "metadata": {},
     "output_type": "display_data"
    },
    {
     "data": {
      "text/plain": [
       "[('beta', 3.6), ('gamma', 0.2), ('N', 1000000.0)]"
      ]
     },
     "metadata": {},
     "output_type": "display_data"
    }
   ],
   "source": [
    "display(theta,boxBounds,param_evals)"
   ]
  },
  {
   "cell_type": "markdown",
   "metadata": {},
   "source": [
    "## Fitting Gamma loss"
   ]
  },
  {
   "cell_type": "code",
   "execution_count": 18,
   "metadata": {
    "scrolled": false
   },
   "outputs": [],
   "source": [
    "# Initial guess of parameters, and bounding constraints\n",
    "objSIR = GammaLoss(theta, model, x0=data[0,:], t0=t[0], t=t[1::], y=data_to_fit, state_name=['I','R'])"
   ]
  },
  {
   "cell_type": "code",
   "execution_count": 19,
   "metadata": {},
   "outputs": [
    {
     "data": {
      "text/plain": [
       "array([-5.77968064e+02, -6.98915605e+03,  1.73390419e-03])"
      ]
     },
     "execution_count": 19,
     "metadata": {},
     "output_type": "execute_result"
    }
   ],
   "source": [
    "objSIR.sensitivity()"
   ]
  },
  {
   "cell_type": "code",
   "execution_count": 20,
   "metadata": {},
   "outputs": [
    {
     "data": {
      "text/plain": [
       "5062.059868394187"
      ]
     },
     "execution_count": 20,
     "metadata": {},
     "output_type": "execute_result"
    }
   ],
   "source": [
    "objSIR.cost()"
   ]
  },
  {
   "cell_type": "code",
   "execution_count": 21,
   "metadata": {},
   "outputs": [
    {
     "name": "stderr",
     "output_type": "stream",
     "text": [
      "C:\\Users\\martin.grunnill\\AppData\\Local\\Continuum\\anaconda3\\envs\\pygomloss20200624\\lib\\site-packages\\scipy\\optimize\\_minimize.py:533: RuntimeWarning: Method BFGS cannot handle constraints nor bounds.\n",
      "  warn('Method %s cannot handle constraints nor bounds.' % method,\n"
     ]
    },
    {
     "name": "stdout",
     "output_type": "stream",
     "text": [
      "      fun: 4717.565272474467\n",
      " hess_inv: array([[ 3.84423633e-03, -3.01340148e-05,  1.56049513e-06],\n",
      "       [-3.01340148e-05,  3.82956903e-06,  1.49977083e-08],\n",
      "       [ 1.56049513e-06,  1.49977083e-08,  1.00000000e+00]])\n",
      "      jac: array([ 8.12454287e-07, -3.28990725e-04, -2.91902226e-12])\n",
      "  message: 'Desired error not necessarily achieved due to precision loss.'\n",
      "     nfev: 57\n",
      "      nit: 10\n",
      "     njev: 46\n",
      "   status: 2\n",
      "  success: False\n",
      "        x: array([3.59284491e+00, 1.99665537e-01, 1.00000000e+06])\n"
     ]
    }
   ],
   "source": [
    "# perform optimization\n",
    "res = minimize(fun=objSIR.cost,\n",
    "                jac=objSIR.sensitivity,\n",
    "                x0=theta,\n",
    "                bounds=boxBounds,\n",
    "                method='BFGS')\n",
    "print(res)"
   ]
  },
  {
   "cell_type": "code",
   "execution_count": 22,
   "metadata": {},
   "outputs": [
    {
     "name": "stderr",
     "output_type": "stream",
     "text": [
      "C:\\Users\\martin.grunnill\\AppData\\Roaming\\Python\\Python38\\site-packages\\pygom-0.1.7.dev7+g126fc99.d20200624-py3.8-win-amd64.egg\\pygom\\utilR\\distn.py:108: RuntimeWarning: invalid value encountered in log\n",
      "  logpdf_p3= -shape*np.log(mu/shape)\n"
     ]
    },
    {
     "name": "stdout",
     "output_type": "stream",
     "text": [
      "      fun: 4717.565272489127\n",
      " hess_inv: <3x3 LbfgsInvHessProduct with dtype=float64>\n",
      "      jac: array([ 1.06976387e-03, -7.18401978e-02, -3.84350237e-09])\n",
      "  message: b'CONVERGENCE: REL_REDUCTION_OF_F_<=_FACTR*EPSMCH'\n",
      "     nfev: 17\n",
      "      nit: 10\n",
      "     njev: 17\n",
      "   status: 0\n",
      "  success: True\n",
      "        x: array([3.59285115e+00, 1.99665226e-01, 1.00000000e+06])\n"
     ]
    }
   ],
   "source": [
    "# perform optimization\n",
    "res = minimize(fun=objSIR.cost,\n",
    "                jac=objSIR.sensitivity,\n",
    "                x0=theta,\n",
    "                bounds=boxBounds,\n",
    "                method='L-BFGS-B')\n",
    "print(res)"
   ]
  },
  {
   "cell_type": "code",
   "execution_count": 23,
   "metadata": {},
   "outputs": [
    {
     "data": {
      "text/plain": [
       "[3, 0.15, 1000000.0]"
      ]
     },
     "metadata": {},
     "output_type": "display_data"
    },
    {
     "data": {
      "text/plain": [
       "[(2, 5), (0.0, 1.0), (1000000.0, 1000000.0)]"
      ]
     },
     "metadata": {},
     "output_type": "display_data"
    },
    {
     "data": {
      "text/plain": [
       "[('beta', 3.6), ('gamma', 0.2), ('N', 1000000.0)]"
      ]
     },
     "metadata": {},
     "output_type": "display_data"
    }
   ],
   "source": [
    "display(theta,boxBounds,param_evals)"
   ]
  },
  {
   "cell_type": "markdown",
   "metadata": {},
   "source": [
    "# Adding random noise to produce Count Data"
   ]
  },
  {
   "cell_type": "markdown",
   "metadata": {},
   "source": [
    "Our data needs to a be counts:"
   ]
  },
  {
   "cell_type": "code",
   "execution_count": 24,
   "metadata": {},
   "outputs": [
    {
     "data": {
      "text/plain": [
       "array([[6.000000e+00, 0.000000e+00],\n",
       "       [9.000000e+00, 1.000000e+00],\n",
       "       [2.600000e+01, 2.000000e+00],\n",
       "       [4.100000e+01, 4.000000e+00],\n",
       "       [1.080000e+02, 1.000000e+01],\n",
       "       [2.660000e+02, 2.000000e+01],\n",
       "       [8.140000e+02, 3.400000e+01],\n",
       "       [1.610000e+03, 8.400000e+01],\n",
       "       [4.034000e+03, 2.880000e+02],\n",
       "       [8.244000e+03, 6.960000e+02],\n",
       "       [2.944100e+04, 1.278000e+03],\n",
       "       [3.632600e+04, 3.083000e+03],\n",
       "       [1.343010e+05, 7.316000e+03],\n",
       "       [2.511210e+05, 1.222800e+04],\n",
       "       [5.123970e+05, 2.154300e+04],\n",
       "       [5.856170e+05, 3.848500e+04],\n",
       "       [7.902060e+05, 8.369300e+04],\n",
       "       [9.747970e+05, 1.374470e+05],\n",
       "       [7.077570e+05, 1.173470e+05],\n",
       "       [6.035560e+05, 1.894330e+05],\n",
       "       [9.139100e+05, 1.990480e+05],\n",
       "       [5.489300e+05, 2.794000e+05],\n",
       "       [4.620410e+05, 3.833270e+05],\n",
       "       [7.613260e+05, 2.588560e+05],\n",
       "       [6.622870e+05, 3.404260e+05],\n",
       "       [5.084650e+05, 3.910210e+05],\n",
       "       [6.567450e+05, 5.784740e+05],\n",
       "       [5.541630e+05, 4.267650e+05],\n",
       "       [5.322210e+05, 5.087300e+05],\n",
       "       [4.456160e+05, 4.763160e+05],\n",
       "       [5.902310e+05, 6.481090e+05],\n",
       "       [5.449100e+05, 6.728700e+05],\n",
       "       [3.108270e+05, 5.874350e+05],\n",
       "       [4.561160e+05, 7.105300e+05],\n",
       "       [3.642540e+05, 5.794740e+05],\n",
       "       [3.114750e+05, 8.214390e+05],\n",
       "       [2.527190e+05, 4.782710e+05],\n",
       "       [3.078090e+05, 6.833250e+05],\n",
       "       [2.812700e+05, 8.344320e+05],\n",
       "       [2.613370e+05, 7.506100e+05],\n",
       "       [3.522730e+05, 6.899340e+05],\n",
       "       [3.372790e+05, 6.684740e+05],\n",
       "       [2.628170e+05, 8.967300e+05],\n",
       "       [2.749900e+05, 6.176790e+05],\n",
       "       [2.528980e+05, 8.654760e+05],\n",
       "       [2.098670e+05, 9.504580e+05],\n",
       "       [1.617910e+05, 1.051352e+06],\n",
       "       [1.768890e+05, 9.986820e+05],\n",
       "       [1.587040e+05, 1.052019e+06],\n",
       "       [2.359540e+05, 5.815120e+05],\n",
       "       [1.395080e+05, 1.104611e+06],\n",
       "       [1.272660e+05, 9.005600e+05],\n",
       "       [1.462970e+05, 8.024700e+05],\n",
       "       [1.536980e+05, 1.124694e+06],\n",
       "       [1.652010e+05, 6.528740e+05],\n",
       "       [1.600480e+05, 6.982990e+05],\n",
       "       [9.459700e+04, 7.941890e+05],\n",
       "       [1.172920e+05, 1.170125e+06],\n",
       "       [8.820500e+04, 1.027702e+06],\n",
       "       [7.969900e+04, 8.879200e+05],\n",
       "       [1.229900e+05, 8.230110e+05],\n",
       "       [9.029800e+04, 8.566030e+05],\n",
       "       [1.125830e+05, 8.236900e+05],\n",
       "       [1.154790e+05, 9.246180e+05],\n",
       "       [7.753300e+04, 9.045910e+05],\n",
       "       [7.808200e+04, 7.158560e+05],\n",
       "       [9.966600e+04, 6.728900e+05],\n",
       "       [8.796800e+04, 1.005141e+06],\n",
       "       [5.675400e+04, 9.265630e+05],\n",
       "       [5.086800e+04, 7.102210e+05],\n",
       "       [4.244600e+04, 7.063260e+05],\n",
       "       [4.655500e+04, 9.741340e+05],\n",
       "       [5.291800e+04, 6.721520e+05],\n",
       "       [6.155400e+04, 1.154690e+06],\n",
       "       [4.135600e+04, 1.114492e+06],\n",
       "       [4.637500e+04, 8.701900e+05],\n",
       "       [3.724400e+04, 1.191670e+06],\n",
       "       [4.128200e+04, 1.046085e+06],\n",
       "       [5.531800e+04, 1.128080e+06],\n",
       "       [3.190800e+04, 1.000208e+06],\n",
       "       [3.401000e+04, 9.302210e+05],\n",
       "       [3.092800e+04, 1.018299e+06],\n",
       "       [3.952300e+04, 1.096729e+06],\n",
       "       [4.310200e+04, 9.233630e+05],\n",
       "       [2.445300e+04, 8.106100e+05],\n",
       "       [2.429100e+04, 1.168379e+06],\n",
       "       [3.085000e+04, 6.723580e+05],\n",
       "       [2.293100e+04, 6.831810e+05],\n",
       "       [1.931200e+04, 1.181575e+06],\n",
       "       [2.480100e+04, 6.945950e+05],\n",
       "       [3.023300e+04, 1.144610e+06],\n",
       "       [2.044000e+04, 9.168310e+05],\n",
       "       [2.600300e+04, 6.897410e+05],\n",
       "       [2.045000e+04, 1.277607e+06],\n",
       "       [2.324500e+04, 9.581790e+05],\n",
       "       [1.644700e+04, 1.225836e+06],\n",
       "       [2.005100e+04, 6.691500e+05],\n",
       "       [1.666400e+04, 9.255040e+05],\n",
       "       [1.668100e+04, 7.432400e+05],\n",
       "       [1.868300e+04, 1.092030e+06],\n",
       "       [1.799600e+04, 8.042660e+05],\n",
       "       [1.741200e+04, 7.039810e+05],\n",
       "       [1.269900e+04, 1.121871e+06],\n",
       "       [1.581400e+04, 1.027571e+06],\n",
       "       [1.273400e+04, 8.585930e+05],\n",
       "       [1.358300e+04, 7.649160e+05],\n",
       "       [1.012600e+04, 7.501810e+05],\n",
       "       [7.193000e+03, 1.271423e+06],\n",
       "       [1.024900e+04, 1.133442e+06],\n",
       "       [1.039800e+04, 1.077066e+06],\n",
       "       [1.029100e+04, 1.127212e+06],\n",
       "       [6.610000e+03, 6.722480e+05],\n",
       "       [6.598000e+03, 8.888560e+05],\n",
       "       [7.690000e+03, 7.394240e+05],\n",
       "       [8.846000e+03, 1.006776e+06],\n",
       "       [8.257000e+03, 1.192111e+06],\n",
       "       [5.882000e+03, 1.115150e+06],\n",
       "       [5.421000e+03, 7.166400e+05],\n",
       "       [6.825000e+03, 1.124535e+06],\n",
       "       [3.683000e+03, 1.098986e+06],\n",
       "       [6.805000e+03, 1.096527e+06],\n",
       "       [5.972000e+03, 1.094255e+06],\n",
       "       [5.273000e+03, 9.224470e+05],\n",
       "       [4.327000e+03, 6.865670e+05],\n",
       "       [3.383000e+03, 1.035475e+06],\n",
       "       [3.070000e+03, 1.166200e+06],\n",
       "       [4.129000e+03, 1.036638e+06],\n",
       "       [4.277000e+03, 1.265375e+06],\n",
       "       [3.188000e+03, 1.161353e+06],\n",
       "       [2.800000e+03, 9.751570e+05],\n",
       "       [3.620000e+03, 7.897360e+05],\n",
       "       [3.842000e+03, 1.188642e+06],\n",
       "       [3.068000e+03, 8.948170e+05],\n",
       "       [2.135000e+03, 1.167306e+06],\n",
       "       [2.276000e+03, 1.245916e+06],\n",
       "       [2.348000e+03, 1.120309e+06],\n",
       "       [2.249000e+03, 7.320390e+05],\n",
       "       [1.851000e+03, 1.253931e+06],\n",
       "       [2.652000e+03, 7.404650e+05],\n",
       "       [2.442000e+03, 1.072739e+06],\n",
       "       [2.418000e+03, 1.066501e+06],\n",
       "       [2.121000e+03, 1.072553e+06],\n",
       "       [2.017000e+03, 1.184127e+06],\n",
       "       [1.425000e+03, 9.984420e+05],\n",
       "       [2.002000e+03, 1.167627e+06],\n",
       "       [1.189000e+03, 7.632420e+05],\n",
       "       [9.640000e+02, 1.062757e+06],\n",
       "       [9.480000e+02, 9.527130e+05],\n",
       "       [1.087000e+03, 1.326560e+06],\n",
       "       [1.582000e+03, 1.285545e+06],\n",
       "       [1.025000e+03, 1.216454e+06],\n",
       "       [1.097000e+03, 8.375880e+05],\n",
       "       [1.185000e+03, 1.328683e+06],\n",
       "       [9.610000e+02, 9.588020e+05],\n",
       "       [8.360000e+02, 6.700710e+05],\n",
       "       [8.470000e+02, 9.090290e+05],\n",
       "       [8.760000e+02, 6.935830e+05],\n",
       "       [9.980000e+02, 1.300878e+06],\n",
       "       [8.380000e+02, 8.590400e+05],\n",
       "       [8.490000e+02, 7.487480e+05],\n",
       "       [4.750000e+02, 7.295330e+05],\n",
       "       [4.750000e+02, 1.134978e+06],\n",
       "       [5.950000e+02, 1.176977e+06],\n",
       "       [6.090000e+02, 1.319344e+06],\n",
       "       [5.720000e+02, 1.087811e+06],\n",
       "       [5.380000e+02, 8.838410e+05],\n",
       "       [6.530000e+02, 1.126644e+06],\n",
       "       [3.800000e+02, 7.169190e+05],\n",
       "       [4.790000e+02, 7.679570e+05],\n",
       "       [3.760000e+02, 7.796360e+05],\n",
       "       [3.990000e+02, 1.178129e+06],\n",
       "       [4.920000e+02, 6.799390e+05],\n",
       "       [3.170000e+02, 1.288119e+06],\n",
       "       [2.840000e+02, 1.084258e+06],\n",
       "       [2.530000e+02, 6.698680e+05],\n",
       "       [2.990000e+02, 1.143576e+06],\n",
       "       [3.880000e+02, 8.489890e+05],\n",
       "       [2.560000e+02, 9.687090e+05],\n",
       "       [2.270000e+02, 8.278320e+05],\n",
       "       [2.290000e+02, 7.324660e+05],\n",
       "       [3.170000e+02, 1.189860e+06],\n",
       "       [2.040000e+02, 8.754980e+05],\n",
       "       [2.690000e+02, 1.018708e+06],\n",
       "       [2.580000e+02, 1.315244e+06],\n",
       "       [1.910000e+02, 1.123760e+06],\n",
       "       [1.950000e+02, 1.043334e+06],\n",
       "       [2.070000e+02, 1.252729e+06],\n",
       "       [2.100000e+02, 6.666520e+05],\n",
       "       [2.170000e+02, 7.769410e+05],\n",
       "       [1.820000e+02, 1.204558e+06],\n",
       "       [1.670000e+02, 9.251490e+05],\n",
       "       [1.670000e+02, 8.509660e+05],\n",
       "       [1.260000e+02, 1.247044e+06],\n",
       "       [1.070000e+02, 6.884890e+05],\n",
       "       [1.200000e+02, 1.067715e+06],\n",
       "       [9.100000e+01, 7.749630e+05],\n",
       "       [9.500000e+01, 9.008270e+05],\n",
       "       [1.330000e+02, 9.970260e+05],\n",
       "       [1.220000e+02, 8.254500e+05],\n",
       "       [1.130000e+02, 1.327483e+06],\n",
       "       [8.000000e+01, 9.962030e+05],\n",
       "       [7.500000e+01, 7.089120e+05],\n",
       "       [1.070000e+02, 8.624290e+05]])"
      ]
     },
     "execution_count": 24,
     "metadata": {},
     "output_type": "execute_result"
    }
   ],
   "source": [
    "int_data_to_fit = np.around(data_to_fit)\n",
    "int_data_to_fit "
   ]
  },
  {
   "cell_type": "markdown",
   "metadata": {},
   "source": [
    "## Poisson loss"
   ]
  },
  {
   "cell_type": "code",
   "execution_count": 25,
   "metadata": {
    "scrolled": false
   },
   "outputs": [],
   "source": [
    "# Initial guess of parameters, and bounding constraints\n",
    "objSIR = PoissonLoss(theta, model, x0=data[0,:], t0=t[0], t=t[1::], y=int_data_to_fit, state_name=['I','R'])"
   ]
  },
  {
   "cell_type": "code",
   "execution_count": null,
   "metadata": {},
   "outputs": [],
   "source": []
  },
  {
   "cell_type": "code",
   "execution_count": 26,
   "metadata": {},
   "outputs": [
    {
     "data": {
      "text/plain": [
       "9745677.652607694"
      ]
     },
     "execution_count": 26,
     "metadata": {},
     "output_type": "execute_result"
    }
   ],
   "source": [
    "objSIR.cost()"
   ]
  },
  {
   "cell_type": "code",
   "execution_count": 27,
   "metadata": {},
   "outputs": [
    {
     "name": "stderr",
     "output_type": "stream",
     "text": [
      "C:\\Users\\martin.grunnill\\AppData\\Local\\Continuum\\anaconda3\\envs\\pygomloss20200624\\lib\\site-packages\\scipy\\optimize\\_minimize.py:533: RuntimeWarning: Method BFGS cannot handle constraints nor bounds.\n",
      "  warn('Method %s cannot handle constraints nor bounds.' % method,\n"
     ]
    },
    {
     "name": "stdout",
     "output_type": "stream",
     "text": [
      "      fun: 3692407.814497117\n",
      " hess_inv: array([[ 1.13964289e-07, -2.49061166e-09,  2.20264892e-06],\n",
      "       [-2.49061166e-09,  9.27756704e-10,  9.40250405e-09],\n",
      "       [ 2.20264892e-06,  9.40250405e-09,  1.00000987e+00]])\n",
      "      jac: array([ 1.33293688e-02, -2.07506277e-02, -4.87274588e-08])\n",
      "  message: 'Desired error not necessarily achieved due to precision loss.'\n",
      "     nfev: 54\n",
      "      nit: 10\n",
      "     njev: 42\n",
      "   status: 2\n",
      "  success: False\n",
      "        x: array([3.65564294e+00, 2.00162197e-01, 9.99999090e+05])\n"
     ]
    }
   ],
   "source": [
    "# perform optimization\n",
    "res = minimize(fun=objSIR.cost,\n",
    "                jac=objSIR.sensitivity,\n",
    "                x0=theta,\n",
    "                bounds=boxBounds,\n",
    "                method='BFGS')\n",
    "print(res)"
   ]
  },
  {
   "cell_type": "code",
   "execution_count": 28,
   "metadata": {},
   "outputs": [
    {
     "name": "stdout",
     "output_type": "stream",
     "text": [
      "      fun: 3692407.8145229938\n",
      " hess_inv: <3x3 LbfgsInvHessProduct with dtype=float64>\n",
      "      jac: array([ 9.92225896e-02, -2.34421856e+02, -3.62722747e-07])\n",
      "  message: b'CONVERGENCE: REL_REDUCTION_OF_F_<=_FACTR*EPSMCH'\n",
      "     nfev: 14\n",
      "      nit: 10\n",
      "     njev: 14\n",
      "   status: 0\n",
      "  success: True\n",
      "        x: array([3.65564687e+00, 2.00161978e-01, 1.00000000e+06])\n"
     ]
    }
   ],
   "source": [
    "# perform optimization\n",
    "res = minimize(fun=objSIR.cost,\n",
    "                jac=objSIR.sensitivity,\n",
    "                x0=theta,\n",
    "                bounds=boxBounds,\n",
    "                method='L-BFGS-B')\n",
    "print(res)"
   ]
  },
  {
   "cell_type": "code",
   "execution_count": 29,
   "metadata": {},
   "outputs": [
    {
     "data": {
      "text/plain": [
       "[3, 0.15, 1000000.0]"
      ]
     },
     "metadata": {},
     "output_type": "display_data"
    },
    {
     "data": {
      "text/plain": [
       "[(2, 5), (0.0, 1.0), (1000000.0, 1000000.0)]"
      ]
     },
     "metadata": {},
     "output_type": "display_data"
    },
    {
     "data": {
      "text/plain": [
       "[('beta', 3.6), ('gamma', 0.2), ('N', 1000000.0)]"
      ]
     },
     "metadata": {},
     "output_type": "display_data"
    }
   ],
   "source": [
    "display(theta,boxBounds,param_evals)"
   ]
  },
  {
   "cell_type": "markdown",
   "metadata": {},
   "source": [
    "## NegBinom loss"
   ]
  },
  {
   "cell_type": "code",
   "execution_count": 30,
   "metadata": {
    "scrolled": false
   },
   "outputs": [
    {
     "name": "stderr",
     "output_type": "stream",
     "text": [
      "C:\\Users\\martin.grunnill\\AppData\\Roaming\\Python\\Python38\\site-packages\\pygom-0.1.7.dev7+g126fc99.d20200624-py3.8-win-amd64.egg\\pygom\\utilR\\distn.py:450: RuntimeWarning: divide by zero encountered in log\n",
      "  logpmf_p4= x*(np.log(mu) - np.log(k + mu))\n",
      "C:\\Users\\martin.grunnill\\AppData\\Roaming\\Python\\Python38\\site-packages\\pygom-0.1.7.dev7+g126fc99.d20200624-py3.8-win-amd64.egg\\pygom\\utilR\\distn.py:450: RuntimeWarning: invalid value encountered in multiply\n",
      "  logpmf_p4= x*(np.log(mu) - np.log(k + mu))\n"
     ]
    }
   ],
   "source": [
    "# Initial guess of parameters, and bounding constraints\n",
    "objSIR = NegBinomLoss(theta, model, x0=data[0,:], t0=t[0], t=t[1::], y=int_data_to_fit, state_name=['I','R'])"
   ]
  },
  {
   "cell_type": "code",
   "execution_count": 31,
   "metadata": {},
   "outputs": [
    {
     "data": {
      "text/plain": [
       "array([-2.87176322e+02, -3.47833060e+03,  8.61528965e-04])"
      ]
     },
     "execution_count": 31,
     "metadata": {},
     "output_type": "execute_result"
    }
   ],
   "source": [
    "objSIR.sensitivity()"
   ]
  },
  {
   "cell_type": "code",
   "execution_count": 32,
   "metadata": {},
   "outputs": [
    {
     "data": {
      "text/plain": [
       "5041.270821570561"
      ]
     },
     "execution_count": 32,
     "metadata": {},
     "output_type": "execute_result"
    }
   ],
   "source": [
    "objSIR.cost()"
   ]
  },
  {
   "cell_type": "code",
   "execution_count": 33,
   "metadata": {},
   "outputs": [
    {
     "name": "stderr",
     "output_type": "stream",
     "text": [
      "C:\\Users\\martin.grunnill\\AppData\\Local\\Continuum\\anaconda3\\envs\\pygomloss20200624\\lib\\site-packages\\scipy\\optimize\\_minimize.py:533: RuntimeWarning: Method BFGS cannot handle constraints nor bounds.\n",
      "  warn('Method %s cannot handle constraints nor bounds.' % method,\n"
     ]
    },
    {
     "name": "stdout",
     "output_type": "stream",
     "text": [
      "      fun: 4869.743686474076\n",
      " hess_inv: array([[ 7.82577440e-03, -6.12363068e-05,  1.76151491e-06],\n",
      "       [-6.12363068e-05,  7.85949196e-06,  1.45278667e-08],\n",
      "       [ 1.76151491e-06,  1.45278667e-08,  1.00000000e+00]])\n",
      "      jac: array([-2.72469402e-08,  1.25576726e-07,  9.79041863e-14])\n",
      "  message: 'Optimization terminated successfully.'\n",
      "     nfev: 16\n",
      "      nit: 11\n",
      "     njev: 16\n",
      "   status: 0\n",
      "  success: True\n",
      "        x: array([3.59321800e+00, 1.99662852e-01, 1.00000000e+06])\n"
     ]
    }
   ],
   "source": [
    "# perform optimization\n",
    "res = minimize(fun=objSIR.cost,\n",
    "                jac=objSIR.sensitivity,\n",
    "                x0=theta,\n",
    "                bounds=boxBounds,\n",
    "                method='BFGS')\n",
    "print(res)"
   ]
  },
  {
   "cell_type": "code",
   "execution_count": 34,
   "metadata": {},
   "outputs": [
    {
     "name": "stderr",
     "output_type": "stream",
     "text": [
      "C:\\Users\\martin.grunnill\\AppData\\Roaming\\Python\\Python38\\site-packages\\pygom-0.1.7.dev7+g126fc99.d20200624-py3.8-win-amd64.egg\\pygom\\utilR\\distn.py:450: RuntimeWarning: invalid value encountered in log\n",
      "  logpmf_p4= x*(np.log(mu) - np.log(k + mu))\n"
     ]
    },
    {
     "name": "stdout",
     "output_type": "stream",
     "text": [
      "      fun: 4869.743686476613\n",
      " hess_inv: <3x3 LbfgsInvHessProduct with dtype=float64>\n",
      "      jac: array([-1.47841000e-04, -9.54029439e-03,  5.31224858e-10])\n",
      "  message: b'CONVERGENCE: REL_REDUCTION_OF_F_<=_FACTR*EPSMCH'\n",
      "     nfev: 18\n",
      "      nit: 12\n",
      "     njev: 18\n",
      "   status: 0\n",
      "  success: True\n",
      "        x: array([3.59321743e+00, 1.99662786e-01, 1.00000000e+06])\n"
     ]
    }
   ],
   "source": [
    "# perform optimization\n",
    "res = minimize(fun=objSIR.cost,\n",
    "                jac=objSIR.sensitivity,\n",
    "                x0=theta,\n",
    "                bounds=boxBounds,\n",
    "                method='L-BFGS-B')\n",
    "print(res)"
   ]
  },
  {
   "cell_type": "code",
   "execution_count": 35,
   "metadata": {},
   "outputs": [
    {
     "data": {
      "text/plain": [
       "[3, 0.15, 1000000.0]"
      ]
     },
     "metadata": {},
     "output_type": "display_data"
    },
    {
     "data": {
      "text/plain": [
       "[(2, 5), (0.0, 1.0), (1000000.0, 1000000.0)]"
      ]
     },
     "metadata": {},
     "output_type": "display_data"
    },
    {
     "data": {
      "text/plain": [
       "[('beta', 3.6), ('gamma', 0.2), ('N', 1000000.0)]"
      ]
     },
     "metadata": {},
     "output_type": "display_data"
    }
   ],
   "source": [
    "display(theta,boxBounds,param_evals)"
   ]
  },
  {
   "cell_type": "code",
   "execution_count": null,
   "metadata": {},
   "outputs": [],
   "source": []
  },
  {
   "cell_type": "code",
   "execution_count": null,
   "metadata": {},
   "outputs": [],
   "source": []
  }
 ],
 "metadata": {
  "kernelspec": {
   "display_name": "Python 3",
   "language": "python",
   "name": "python3"
  },
  "language_info": {
   "codemirror_mode": {
    "name": "ipython",
    "version": 3
   },
   "file_extension": ".py",
   "mimetype": "text/x-python",
   "name": "python",
   "nbconvert_exporter": "python",
   "pygments_lexer": "ipython3",
   "version": "3.8.3"
  }
 },
 "nbformat": 4,
 "nbformat_minor": 2
}
